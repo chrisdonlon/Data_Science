{
 "cells": [
  {
   "cell_type": "code",
   "execution_count": null,
   "metadata": {},
   "outputs": [],
   "source": [
    "\n"
   ]
  },
  {
   "cell_type": "markdown",
   "metadata": {},
   "source": [
    "# Capstone Project - The Battle of the Neighborhoods (Week 2)\n",
    "### Applied Data Science Capstone by IBM/Coursera"
   ]
  },
  {
   "cell_type": "markdown",
   "metadata": {},
   "source": [
    "## Table of contents\n",
    "* [Introduction: Business Problem](#introduction)\n",
    "* [Data](#data)\n",
    "* [Methodology](#methodology)\n",
    "* [Analysis](#analysis)\n",
    "* [Results and Discussion](#results)\n",
    "* [Conclusion](#conclusion)\n",
    "\n"
   ]
  },
  {
   "cell_type": "markdown",
   "metadata": {},
   "source": [
    "## Introduction: Business Problem <a name=\"introduction\"></a>"
   ]
  },
  {
   "cell_type": "markdown",
   "metadata": {},
   "source": [
    "In this project we will try to find an optimal location for a gym to open based on impacts of COVID-19. Specifically, this report will be targeted to fitness fanatics interested in going to a **gym or fitness centre** in **Melbourne**, Victoria.\n",
    "\n",
    "Since there are lots of gyms in Melbourne we will try to detect **locations that were impacted by high cases of COVID-19**. We are also particularly interested in **areas with high case counts**. We would also prefer locations **as close to city center as possible**, assuming that most people are located near the CBD.\n",
    "\n",
    "I will use my Data Sceince learnings to create map of the gyms in high impacted areas.\n"
   ]
  },
  {
   "cell_type": "markdown",
   "metadata": {},
   "source": [
    "## Data <a name=\"data\"></a>"
   ]
  },
  {
   "cell_type": "markdown",
   "metadata": {},
   "source": [
    "Based on definition of our problem, factors that will influence our dicussion are:\n",
    "* number of total cases of COVID-19 in Victorian muncipalities  (any type of postive test recorded as of June 7th 2020)\n",
    "* number of active cases of COVID-19 in Victorian muncipalities (as of June 7th 2020)\n",
    "* gym and fitness centres locations in municipalities across Victoria\n",
    "\n",
    "\n",
    "Following data sources will be needed to extract/generate the required information:\n",
    "*  **Department of Health and Human Services COVID-19 Daily Breifings report** from the ** Department of Health and Human Sercvices** website.\n",
    "* number of gyms and fitness centres and their type and location in every municipality will be obtained using **Foursquare API**\n",
    "* coordinate of Melbourne CBD center will be obtained using **Foursquare API geocoding** of locations"
   ]
  },
  {
   "cell_type": "markdown",
   "metadata": {},
   "source": [
    "## Methodology <a name=\"methodology\"></a>"
   ]
  },
  {
   "cell_type": "markdown",
   "metadata": {},
   "source": [
    "1. Collect data source/inputs/inspect the data/set up environments\n",
    "2. Explore and understand the data\n",
    "3. Cleanse and enhance the data\n",
    "4. Model the data"
   ]
  },
  {
   "cell_type": "markdown",
   "metadata": {},
   "source": [
    "**1. Collect data source/inputs/inspect the data/set up environments**"
   ]
  },
  {
   "cell_type": "markdown",
   "metadata": {},
   "source": [
    "Import and add libraries required to complete anaylsis"
   ]
  },
  {
   "cell_type": "code",
   "execution_count": 13,
   "metadata": {},
   "outputs": [],
   "source": [
    "import requests # library to handle requests\n",
    "import pandas as pd # library for data analsysis\n",
    "import numpy as np # library to handle data in a vectorized manner\n",
    "import random # library for random number generation\n",
    "import geopy # library to locate the coordinates of addresses, cities, countries, and landmarks\n",
    "import folium # library that helps you create several types of Leaflet maps\n",
    "import matplotlib.pyplot as plt #mapping\n",
    "import seaborn as sns #stats and data visualisation\n",
    "%matplotlib inline\n",
    "import lxml # package to read html from website\n",
    "import matplotlib.pyplot\n",
    "##conda install -c conda-forge geopy --yes \n",
    "from geopy.geocoders import Nominatim # module to convert an address into latitude and longitude values\n",
    "from geopy.extra.rate_limiter import RateLimiter\n",
    "## !conda install -c conda-forge folium=0.5.0 --yes \n",
    "import folium # mapping \n",
    "import geopy #library to get coordinates\n",
    "from geopy.geocoders import Nominatim\n",
    "from geopy.distance import vincenty\n",
    "from pandas.io.json import json_normalize # read json and pandas"
   ]
  },
  {
   "cell_type": "markdown",
   "metadata": {},
   "source": [
    "Set up my **Foursquare** account"
   ]
  },
  {
   "cell_type": "code",
   "execution_count": 3,
   "metadata": {},
   "outputs": [
    {
     "name": "stdout",
     "output_type": "stream",
     "text": [
      "Your credentails:\n",
      "CLIENT_ID: Z01G5UOR0Q1WVBHYJXF0AX2FLJENVLGZ2WQSV0VDPDJ0SLJR\n",
      "CLIENT_SECRET:EMIJH3XPNGDDDV2ZZEUT5G2VYFFYTA4NOJJPX05J1X5CYPNQ\n"
     ]
    }
   ],
   "source": [
    "CLIENT_ID = 'Z01G5UOR0Q1WVBHYJXF0AX2FLJENVLGZ2WQSV0VDPDJ0SLJR' # your Foursquare ID\n",
    "CLIENT_SECRET = 'EMIJH3XPNGDDDV2ZZEUT5G2VYFFYTA4NOJJPX05J1X5CYPNQ' # your Foursquare Secret\n",
    "VERSION = '20180604'\n",
    "LIMIT = 30\n",
    "print('Your credentails:')\n",
    "print('CLIENT_ID: ' + CLIENT_ID)\n",
    "print('CLIENT_SECRET:' + CLIENT_SECRET)"
   ]
  },
  {
   "cell_type": "markdown",
   "metadata": {},
   "source": [
    "Retrive the COVID-19 case history from the **Dept of Health & Human Services** website daily briefing page"
   ]
  },
  {
   "cell_type": "code",
   "execution_count": 7,
   "metadata": {},
   "outputs": [
    {
     "data": {
      "text/plain": [
       "<Response [200]>"
      ]
     },
     "execution_count": 7,
     "metadata": {},
     "output_type": "execute_result"
    }
   ],
   "source": [
    "## Get the URL and read the dataframe\n",
    "url = 'https://www.dhhs.vic.gov.au/coronavirus-update-victoria-05-june-2020'\n",
    "vic_url = requests.get(url)\n",
    "vic_url"
   ]
  },
  {
   "cell_type": "markdown",
   "metadata": {},
   "source": [
    "Read the data from the website"
   ]
  },
  {
   "cell_type": "code",
   "execution_count": 8,
   "metadata": {},
   "outputs": [
    {
     "data": {
      "text/plain": [
       "[                                      0                                    1  \\\n",
       " 0   Confirmed cases by LGA, 5 June 2020  Confirmed cases by LGA, 5 June 2020   \n",
       " 1                                   LGA         Total confirmed cases (ever)   \n",
       " 2                             MELBOURNE                                  108   \n",
       " 3                           STONNINGTON                                   94   \n",
       " 4                               BANYULE                                   91   \n",
       " ..                                  ...                                  ...   \n",
       " 72                         WEST WIMMERA                                    1   \n",
       " 73                              WODONGA                                    1   \n",
       " 74                         YARRIAMBIACK                                    1   \n",
       " 75                              UNKNOWN                                    5   \n",
       " 76                                TOTAL                                 1681   \n",
       " \n",
       "                                       2  \n",
       " 0   Confirmed cases by LGA, 5 June 2020  \n",
       " 1                Currently active cases  \n",
       " 2                                    11  \n",
       " 3                                     0  \n",
       " 4                                     1  \n",
       " ..                                  ...  \n",
       " 72                                    0  \n",
       " 73                                    0  \n",
       " 74                                    0  \n",
       " 75                                    5  \n",
       " 76                                   74  \n",
       " \n",
       " [77 rows x 3 columns]]"
      ]
     },
     "execution_count": 8,
     "metadata": {},
     "output_type": "execute_result"
    }
   ],
   "source": [
    "vic_data = pd.read_html(vic_url.text)\n",
    "vic_data"
   ]
  },
  {
   "cell_type": "code",
   "execution_count": 51,
   "metadata": {},
   "outputs": [
    {
     "data": {
      "text/html": [
       "<div>\n",
       "<style scoped>\n",
       "    .dataframe tbody tr th:only-of-type {\n",
       "        vertical-align: middle;\n",
       "    }\n",
       "\n",
       "    .dataframe tbody tr th {\n",
       "        vertical-align: top;\n",
       "    }\n",
       "\n",
       "    .dataframe thead th {\n",
       "        text-align: right;\n",
       "    }\n",
       "</style>\n",
       "<table border=\"1\" class=\"dataframe\">\n",
       "  <thead>\n",
       "    <tr style=\"text-align: right;\">\n",
       "      <th></th>\n",
       "      <th>0</th>\n",
       "      <th>1</th>\n",
       "      <th>2</th>\n",
       "    </tr>\n",
       "  </thead>\n",
       "  <tbody>\n",
       "    <tr>\n",
       "      <th>0</th>\n",
       "      <td>Confirmed cases by LGA 7 June 2020</td>\n",
       "      <td>NaN</td>\n",
       "      <td>NaN</td>\n",
       "    </tr>\n",
       "    <tr>\n",
       "      <th>1</th>\n",
       "      <td>LGA</td>\n",
       "      <td>Total confirmed cases (ever)</td>\n",
       "      <td>Currently active cases</td>\n",
       "    </tr>\n",
       "    <tr>\n",
       "      <th>2</th>\n",
       "      <td>MELBOURNE</td>\n",
       "      <td>109</td>\n",
       "      <td>11</td>\n",
       "    </tr>\n",
       "    <tr>\n",
       "      <th>3</th>\n",
       "      <td>STONNINGTON</td>\n",
       "      <td>94</td>\n",
       "      <td>0</td>\n",
       "    </tr>\n",
       "    <tr>\n",
       "      <th>4</th>\n",
       "      <td>BANYULE</td>\n",
       "      <td>91</td>\n",
       "      <td>1</td>\n",
       "    </tr>\n",
       "    <tr>\n",
       "      <th>...</th>\n",
       "      <td>...</td>\n",
       "      <td>...</td>\n",
       "      <td>...</td>\n",
       "    </tr>\n",
       "    <tr>\n",
       "      <th>72</th>\n",
       "      <td>WEST WIMMERA</td>\n",
       "      <td>1</td>\n",
       "      <td>0</td>\n",
       "    </tr>\n",
       "    <tr>\n",
       "      <th>73</th>\n",
       "      <td>WODONGA</td>\n",
       "      <td>1</td>\n",
       "      <td>0</td>\n",
       "    </tr>\n",
       "    <tr>\n",
       "      <th>74</th>\n",
       "      <td>YARRIAMBIACK</td>\n",
       "      <td>1</td>\n",
       "      <td>0</td>\n",
       "    </tr>\n",
       "    <tr>\n",
       "      <th>75</th>\n",
       "      <td>UNKNOWN</td>\n",
       "      <td>4</td>\n",
       "      <td>4</td>\n",
       "    </tr>\n",
       "    <tr>\n",
       "      <th>76</th>\n",
       "      <td>TOTAL</td>\n",
       "      <td>1685</td>\n",
       "      <td>70</td>\n",
       "    </tr>\n",
       "  </tbody>\n",
       "</table>\n",
       "<p>77 rows × 3 columns</p>\n",
       "</div>"
      ],
      "text/plain": [
       "                                     0                             1  \\\n",
       "0   Confirmed cases by LGA 7 June 2020                           NaN   \n",
       "1                                  LGA  Total confirmed cases (ever)   \n",
       "2                            MELBOURNE                           109   \n",
       "3                          STONNINGTON                            94   \n",
       "4                              BANYULE                            91   \n",
       "..                                 ...                           ...   \n",
       "72                        WEST WIMMERA                             1   \n",
       "73                             WODONGA                             1   \n",
       "74                        YARRIAMBIACK                             1   \n",
       "75                             UNKNOWN                             4   \n",
       "76                               TOTAL                          1685   \n",
       "\n",
       "                         2  \n",
       "0                      NaN  \n",
       "1   Currently active cases  \n",
       "2                       11  \n",
       "3                        0  \n",
       "4                        1  \n",
       "..                     ...  \n",
       "72                       0  \n",
       "73                       0  \n",
       "74                       0  \n",
       "75                       4  \n",
       "76                      70  \n",
       "\n",
       "[77 rows x 3 columns]"
      ]
     },
     "execution_count": 51,
     "metadata": {},
     "output_type": "execute_result"
    }
   ],
   "source": [
    "v_d = pd.read_html('https://www.dhhs.vic.gov.au/coronavirus-update-victoria-07-june-2020')\n",
    "type(v_d)\n",
    "len(v_d)\n",
    "df=v_d[0]\n",
    "df"
   ]
  },
  {
   "cell_type": "markdown",
   "metadata": {},
   "source": [
    "**2. Explore and understand the data**"
   ]
  },
  {
   "cell_type": "markdown",
   "metadata": {},
   "source": [
    "Create a Dataframe, name the columns and interpret the data types available"
   ]
  },
  {
   "cell_type": "code",
   "execution_count": 52,
   "metadata": {},
   "outputs": [
    {
     "name": "stdout",
     "output_type": "stream",
     "text": [
      "<class 'pandas.core.frame.DataFrame'>\n",
      "Int64Index: 75 entries, 2 to 76\n",
      "Data columns (total 3 columns):\n",
      " #   Column                               Non-Null Count  Dtype \n",
      "---  ------                               --------------  ----- \n",
      " 0   LGA                                  75 non-null     object\n",
      " 1   Total confirmed cases (ever)         75 non-null     object\n",
      " 2   Confirmed cases by LGA, 7 June 2020  75 non-null     object\n",
      "dtypes: object(3)\n",
      "memory usage: 2.3+ KB\n"
     ]
    },
    {
     "data": {
      "text/plain": [
       "LGA                                    object\n",
       "Total confirmed cases (ever)           object\n",
       "Confirmed cases by LGA, 7 June 2020    object\n",
       "dtype: object"
      ]
     },
     "execution_count": 52,
     "metadata": {},
     "output_type": "execute_result"
    }
   ],
   "source": [
    "df.head(5)\n",
    "df.columns = ['LGA', 'Total confirmed cases (ever)', 'Confirmed cases by LGA, 7 June 2020']\n",
    "df.head()\n",
    "df.drop(df.index[[0,1,]], inplace=True)\n",
    "df.head()\n",
    "df.info()\n",
    "df.dtypes"
   ]
  },
  {
   "cell_type": "markdown",
   "metadata": {},
   "source": [
    "**3. Cleanse and enhance the data**"
   ]
  },
  {
   "cell_type": "markdown",
   "metadata": {},
   "source": [
    "Convert the data types from \"Object\" to \"Int\""
   ]
  },
  {
   "cell_type": "code",
   "execution_count": 53,
   "metadata": {},
   "outputs": [
    {
     "data": {
      "text/plain": [
       "LGA                                    object\n",
       "Total confirmed cases (ever)            int64\n",
       "Confirmed cases by LGA, 7 June 2020     int64\n",
       "dtype: object"
      ]
     },
     "execution_count": 53,
     "metadata": {},
     "output_type": "execute_result"
    }
   ],
   "source": [
    "df[[\"Total confirmed cases (ever)\"]] = df[[\"Total confirmed cases (ever)\"]].astype(\"int\")\n",
    "df[[\"Confirmed cases by LGA, 7 June 2020\"]] = df[[\"Confirmed cases by LGA, 7 June 2020\"]].astype(\"int\")\n",
    "df.dtypes"
   ]
  },
  {
   "cell_type": "markdown",
   "metadata": {},
   "source": [
    "Confirm the new types "
   ]
  },
  {
   "cell_type": "code",
   "execution_count": 54,
   "metadata": {},
   "outputs": [
    {
     "name": "stdout",
     "output_type": "stream",
     "text": [
      "<class 'pandas.core.frame.DataFrame'>\n",
      "Int64Index: 75 entries, 2 to 76\n",
      "Data columns (total 3 columns):\n",
      " #   Column                               Non-Null Count  Dtype \n",
      "---  ------                               --------------  ----- \n",
      " 0   LGA                                  75 non-null     object\n",
      " 1   Total confirmed cases (ever)         75 non-null     int64 \n",
      " 2   Confirmed cases by LGA, 7 June 2020  75 non-null     int64 \n",
      "dtypes: int64(2), object(1)\n",
      "memory usage: 2.3+ KB\n"
     ]
    }
   ],
   "source": [
    "df.info()"
   ]
  },
  {
   "cell_type": "markdown",
   "metadata": {},
   "source": [
    "Drop the last row from the table "
   ]
  },
  {
   "cell_type": "code",
   "execution_count": 55,
   "metadata": {},
   "outputs": [
    {
     "name": "stdout",
     "output_type": "stream",
     "text": [
      "<class 'pandas.core.frame.DataFrame'>\n",
      "Int64Index: 74 entries, 2 to 75\n",
      "Data columns (total 3 columns):\n",
      " #   Column                               Non-Null Count  Dtype \n",
      "---  ------                               --------------  ----- \n",
      " 0   LGA                                  74 non-null     object\n",
      " 1   Total confirmed cases (ever)         74 non-null     int64 \n",
      " 2   Confirmed cases by LGA, 7 June 2020  74 non-null     int64 \n",
      "dtypes: int64(2), object(1)\n",
      "memory usage: 2.3+ KB\n"
     ]
    }
   ],
   "source": [
    "df.drop([76], axis=0, inplace=True)\n",
    "df.info()"
   ]
  },
  {
   "cell_type": "code",
   "execution_count": 56,
   "metadata": {
    "scrolled": true
   },
   "outputs": [
    {
     "data": {
      "text/html": [
       "<div>\n",
       "<style scoped>\n",
       "    .dataframe tbody tr th:only-of-type {\n",
       "        vertical-align: middle;\n",
       "    }\n",
       "\n",
       "    .dataframe tbody tr th {\n",
       "        vertical-align: top;\n",
       "    }\n",
       "\n",
       "    .dataframe thead th {\n",
       "        text-align: right;\n",
       "    }\n",
       "</style>\n",
       "<table border=\"1\" class=\"dataframe\">\n",
       "  <thead>\n",
       "    <tr style=\"text-align: right;\">\n",
       "      <th></th>\n",
       "      <th>LGA</th>\n",
       "      <th>Total confirmed cases (ever)</th>\n",
       "      <th>Confirmed cases by LGA, 7 June 2020</th>\n",
       "    </tr>\n",
       "  </thead>\n",
       "  <tbody>\n",
       "    <tr>\n",
       "      <th>2</th>\n",
       "      <td>MELBOURNE</td>\n",
       "      <td>109</td>\n",
       "      <td>11</td>\n",
       "    </tr>\n",
       "    <tr>\n",
       "      <th>3</th>\n",
       "      <td>STONNINGTON</td>\n",
       "      <td>94</td>\n",
       "      <td>0</td>\n",
       "    </tr>\n",
       "    <tr>\n",
       "      <th>4</th>\n",
       "      <td>BANYULE</td>\n",
       "      <td>91</td>\n",
       "      <td>1</td>\n",
       "    </tr>\n",
       "    <tr>\n",
       "      <th>5</th>\n",
       "      <td>BOROONDARA</td>\n",
       "      <td>73</td>\n",
       "      <td>2</td>\n",
       "    </tr>\n",
       "    <tr>\n",
       "      <th>6</th>\n",
       "      <td>BRIMBANK</td>\n",
       "      <td>73</td>\n",
       "      <td>7</td>\n",
       "    </tr>\n",
       "  </tbody>\n",
       "</table>\n",
       "</div>"
      ],
      "text/plain": [
       "           LGA  Total confirmed cases (ever)  \\\n",
       "2    MELBOURNE                           109   \n",
       "3  STONNINGTON                            94   \n",
       "4      BANYULE                            91   \n",
       "5   BOROONDARA                            73   \n",
       "6     BRIMBANK                            73   \n",
       "\n",
       "   Confirmed cases by LGA, 7 June 2020  \n",
       "2                                   11  \n",
       "3                                    0  \n",
       "4                                    1  \n",
       "5                                    2  \n",
       "6                                    7  "
      ]
     },
     "execution_count": 56,
     "metadata": {},
     "output_type": "execute_result"
    }
   ],
   "source": [
    "df.head()"
   ]
  },
  {
   "cell_type": "markdown",
   "metadata": {},
   "source": [
    "Create bins to assign the muncipalities to a case_level.<br>\n",
    "The case_level is automatically applied and added to the dataframe <br>\n",
    "**High** or <br>\n",
    "**Medium** or <br>\n",
    "**Low** <br>\n",
    "case counts"
   ]
  },
  {
   "cell_type": "code",
   "execution_count": 57,
   "metadata": {},
   "outputs": [
    {
     "data": {
      "text/html": [
       "<div>\n",
       "<style scoped>\n",
       "    .dataframe tbody tr th:only-of-type {\n",
       "        vertical-align: middle;\n",
       "    }\n",
       "\n",
       "    .dataframe tbody tr th {\n",
       "        vertical-align: top;\n",
       "    }\n",
       "\n",
       "    .dataframe thead th {\n",
       "        text-align: right;\n",
       "    }\n",
       "</style>\n",
       "<table border=\"1\" class=\"dataframe\">\n",
       "  <thead>\n",
       "    <tr style=\"text-align: right;\">\n",
       "      <th></th>\n",
       "      <th>LGA</th>\n",
       "      <th>Total confirmed cases (ever)</th>\n",
       "      <th>Confirmed cases by LGA, 7 June 2020</th>\n",
       "      <th>case_level</th>\n",
       "    </tr>\n",
       "  </thead>\n",
       "  <tbody>\n",
       "    <tr>\n",
       "      <th>2</th>\n",
       "      <td>MELBOURNE</td>\n",
       "      <td>109</td>\n",
       "      <td>11</td>\n",
       "      <td>high</td>\n",
       "    </tr>\n",
       "    <tr>\n",
       "      <th>3</th>\n",
       "      <td>STONNINGTON</td>\n",
       "      <td>94</td>\n",
       "      <td>0</td>\n",
       "      <td>high</td>\n",
       "    </tr>\n",
       "    <tr>\n",
       "      <th>4</th>\n",
       "      <td>BANYULE</td>\n",
       "      <td>91</td>\n",
       "      <td>1</td>\n",
       "      <td>high</td>\n",
       "    </tr>\n",
       "    <tr>\n",
       "      <th>5</th>\n",
       "      <td>BOROONDARA</td>\n",
       "      <td>73</td>\n",
       "      <td>2</td>\n",
       "      <td>Medium</td>\n",
       "    </tr>\n",
       "    <tr>\n",
       "      <th>6</th>\n",
       "      <td>BRIMBANK</td>\n",
       "      <td>73</td>\n",
       "      <td>7</td>\n",
       "      <td>Medium</td>\n",
       "    </tr>\n",
       "    <tr>\n",
       "      <th>...</th>\n",
       "      <td>...</td>\n",
       "      <td>...</td>\n",
       "      <td>...</td>\n",
       "      <td>...</td>\n",
       "    </tr>\n",
       "    <tr>\n",
       "      <th>71</th>\n",
       "      <td>MOYNE</td>\n",
       "      <td>1</td>\n",
       "      <td>0</td>\n",
       "      <td>Low</td>\n",
       "    </tr>\n",
       "    <tr>\n",
       "      <th>72</th>\n",
       "      <td>WEST WIMMERA</td>\n",
       "      <td>1</td>\n",
       "      <td>0</td>\n",
       "      <td>Low</td>\n",
       "    </tr>\n",
       "    <tr>\n",
       "      <th>73</th>\n",
       "      <td>WODONGA</td>\n",
       "      <td>1</td>\n",
       "      <td>0</td>\n",
       "      <td>Low</td>\n",
       "    </tr>\n",
       "    <tr>\n",
       "      <th>74</th>\n",
       "      <td>YARRIAMBIACK</td>\n",
       "      <td>1</td>\n",
       "      <td>0</td>\n",
       "      <td>Low</td>\n",
       "    </tr>\n",
       "    <tr>\n",
       "      <th>75</th>\n",
       "      <td>UNKNOWN</td>\n",
       "      <td>4</td>\n",
       "      <td>4</td>\n",
       "      <td>Low</td>\n",
       "    </tr>\n",
       "  </tbody>\n",
       "</table>\n",
       "<p>74 rows × 4 columns</p>\n",
       "</div>"
      ],
      "text/plain": [
       "             LGA  Total confirmed cases (ever)  \\\n",
       "2      MELBOURNE                           109   \n",
       "3    STONNINGTON                            94   \n",
       "4        BANYULE                            91   \n",
       "5     BOROONDARA                            73   \n",
       "6       BRIMBANK                            73   \n",
       "..           ...                           ...   \n",
       "71         MOYNE                             1   \n",
       "72  WEST WIMMERA                             1   \n",
       "73       WODONGA                             1   \n",
       "74  YARRIAMBIACK                             1   \n",
       "75       UNKNOWN                             4   \n",
       "\n",
       "    Confirmed cases by LGA, 7 June 2020 case_level  \n",
       "2                                    11       high  \n",
       "3                                     0       high  \n",
       "4                                     1       high  \n",
       "5                                     2     Medium  \n",
       "6                                     7     Medium  \n",
       "..                                  ...        ...  \n",
       "71                                    0        Low  \n",
       "72                                    0        Low  \n",
       "73                                    0        Low  \n",
       "74                                    0        Low  \n",
       "75                                    4        Low  \n",
       "\n",
       "[74 rows x 4 columns]"
      ]
     },
     "execution_count": 57,
     "metadata": {},
     "output_type": "execute_result"
    }
   ],
   "source": [
    "bins = np.linspace(min(df[\"Total confirmed cases (ever)\"]), max(df[\"Total confirmed cases (ever)\"]),4)\n",
    "group_names = [\"Low\", \"Medium\", \"high\"]\n",
    "df[\"case_level\"]=pd.cut(df[\"Total confirmed cases (ever)\"],bins, labels = group_names, include_lowest=True)\n",
    "df"
   ]
  },
  {
   "cell_type": "markdown",
   "metadata": {},
   "source": [
    "Testing the **Foursquares API** to retrieve Longitude and Latitude for muncipalities with **high** case levels"
   ]
  },
  {
   "cell_type": "code",
   "execution_count": 25,
   "metadata": {},
   "outputs": [
    {
     "name": "stdout",
     "output_type": "stream",
     "text": [
      "-37.8142176 144.9631608\n"
     ]
    }
   ],
   "source": [
    "address = 'Melbourne, VIC'\n",
    "\n",
    "geolocator = Nominatim(user_agent=\"foursquare_agent\")\n",
    "location = geolocator.geocode(address)\n",
    "latitude = location.latitude\n",
    "longitude = location.longitude\n",
    "print(latitude, longitude)"
   ]
  },
  {
   "cell_type": "code",
   "execution_count": 37,
   "metadata": {},
   "outputs": [
    {
     "name": "stdout",
     "output_type": "stream",
     "text": [
      "-37.8613851 145.03914073484043\n"
     ]
    }
   ],
   "source": [
    "address = 'stonnington, VIC'\n",
    "\n",
    "geolocator = Nominatim(user_agent=\"foursquare_agent\")\n",
    "location = geolocator.geocode(address)\n",
    "latitude = location.latitude\n",
    "longitude = location.longitude\n",
    "print(latitude, longitude)"
   ]
  },
  {
   "cell_type": "code",
   "execution_count": 38,
   "metadata": {},
   "outputs": [
    {
     "name": "stdout",
     "output_type": "stream",
     "text": [
      "-37.93978075 145.01775256216214\n"
     ]
    }
   ],
   "source": [
    "address = 'Bayside, VIC'\n",
    "\n",
    "geolocator = Nominatim(user_agent=\"foursquare_agent\")\n",
    "location = geolocator.geocode(address)\n",
    "latitude = location.latitude\n",
    "longitude = location.longitude\n",
    "print(latitude, longitude)"
   ]
  },
  {
   "cell_type": "code",
   "execution_count": 39,
   "metadata": {},
   "outputs": [
    {
     "name": "stdout",
     "output_type": "stream",
     "text": [
      "-37.374292 143.9558066\n"
     ]
    }
   ],
   "source": [
    "address = 'Kingston, VIC'\n",
    "\n",
    "geolocator = Nominatim(user_agent=\"foursquare_agent\")\n",
    "location = geolocator.geocode(address)\n",
    "latitude = location.latitude\n",
    "longitude = location.longitude\n",
    "print(latitude, longitude)"
   ]
  },
  {
   "cell_type": "code",
   "execution_count": 40,
   "metadata": {},
   "outputs": [
    {
     "name": "stdout",
     "output_type": "stream",
     "text": [
      "-37.7427263 144.80547291877602\n"
     ]
    }
   ],
   "source": [
    "address = 'Brimbank, VIC'\n",
    "\n",
    "geolocator = Nominatim(user_agent=\"foursquare_agent\")\n",
    "location = geolocator.geocode(address)\n",
    "latitude = location.latitude\n",
    "longitude = location.longitude\n",
    "print(latitude, longitude)"
   ]
  },
  {
   "cell_type": "markdown",
   "metadata": {},
   "source": [
    "Use the Nominatim to retrieve street addresses"
   ]
  },
  {
   "cell_type": "code",
   "execution_count": 45,
   "metadata": {},
   "outputs": [
    {
     "name": "stderr",
     "output_type": "stream",
     "text": [
      "/Users/jewelspace/.conda/envs/Final_Project/lib/python3.7/site-packages/ipykernel_launcher.py:1: DeprecationWarning: Using Nominatim with the default \"geopy/1.22.0\" `user_agent` is strongly discouraged, as it violates Nominatim's ToS https://operations.osmfoundation.org/policies/nominatim/ and may possibly cause 403 and 429 HTTP errors. Please specify a custom `user_agent` with `Nominatim(user_agent=\"my-application\")` or by overriding the default `user_agent`: `geopy.geocoders.options.default_user_agent = \"my-application\"`. In geopy 2.0 this will become an exception.\n",
      "  \"\"\"Entry point for launching an IPython kernel.\n"
     ]
    }
   ],
   "source": [
    "geolocator = Nominatim()"
   ]
  },
  {
   "cell_type": "markdown",
   "metadata": {},
   "source": [
    "Use the **Lamda** function to apply the LGA (muncipalities) to add the Latitude and Longitude co-ordinates to the dataframe"
   ]
  },
  {
   "cell_type": "code",
   "execution_count": 58,
   "metadata": {},
   "outputs": [],
   "source": [
    "df['LGA_coord'] = df['LGA'].apply(geolocator.geocode).apply(lambda x: (x.latitude, x.longitude))"
   ]
  },
  {
   "cell_type": "code",
   "execution_count": 59,
   "metadata": {},
   "outputs": [
    {
     "data": {
      "text/html": [
       "<div>\n",
       "<style scoped>\n",
       "    .dataframe tbody tr th:only-of-type {\n",
       "        vertical-align: middle;\n",
       "    }\n",
       "\n",
       "    .dataframe tbody tr th {\n",
       "        vertical-align: top;\n",
       "    }\n",
       "\n",
       "    .dataframe thead th {\n",
       "        text-align: right;\n",
       "    }\n",
       "</style>\n",
       "<table border=\"1\" class=\"dataframe\">\n",
       "  <thead>\n",
       "    <tr style=\"text-align: right;\">\n",
       "      <th></th>\n",
       "      <th>LGA</th>\n",
       "      <th>Total confirmed cases (ever)</th>\n",
       "      <th>Confirmed cases by LGA, 7 June 2020</th>\n",
       "      <th>case_level</th>\n",
       "      <th>LGA_coord</th>\n",
       "    </tr>\n",
       "  </thead>\n",
       "  <tbody>\n",
       "    <tr>\n",
       "      <th>2</th>\n",
       "      <td>MELBOURNE</td>\n",
       "      <td>109</td>\n",
       "      <td>11</td>\n",
       "      <td>high</td>\n",
       "      <td>(-37.8142176, 144.9631608)</td>\n",
       "    </tr>\n",
       "    <tr>\n",
       "      <th>3</th>\n",
       "      <td>STONNINGTON</td>\n",
       "      <td>94</td>\n",
       "      <td>0</td>\n",
       "      <td>high</td>\n",
       "      <td>(-37.8613851, 145.03914073484043)</td>\n",
       "    </tr>\n",
       "    <tr>\n",
       "      <th>4</th>\n",
       "      <td>BANYULE</td>\n",
       "      <td>91</td>\n",
       "      <td>1</td>\n",
       "      <td>high</td>\n",
       "      <td>(-37.7470917, 145.0812596)</td>\n",
       "    </tr>\n",
       "    <tr>\n",
       "      <th>5</th>\n",
       "      <td>BOROONDARA</td>\n",
       "      <td>73</td>\n",
       "      <td>2</td>\n",
       "      <td>Medium</td>\n",
       "      <td>(-37.8268263, 145.06120331054495)</td>\n",
       "    </tr>\n",
       "    <tr>\n",
       "      <th>6</th>\n",
       "      <td>BRIMBANK</td>\n",
       "      <td>73</td>\n",
       "      <td>7</td>\n",
       "      <td>Medium</td>\n",
       "      <td>(-37.7427263, 144.80547291877602)</td>\n",
       "    </tr>\n",
       "    <tr>\n",
       "      <th>...</th>\n",
       "      <td>...</td>\n",
       "      <td>...</td>\n",
       "      <td>...</td>\n",
       "      <td>...</td>\n",
       "      <td>...</td>\n",
       "    </tr>\n",
       "    <tr>\n",
       "      <th>71</th>\n",
       "      <td>MOYNE</td>\n",
       "      <td>1</td>\n",
       "      <td>0</td>\n",
       "      <td>Low</td>\n",
       "      <td>(52.73923215, -7.704720069331158)</td>\n",
       "    </tr>\n",
       "    <tr>\n",
       "      <th>72</th>\n",
       "      <td>WEST WIMMERA</td>\n",
       "      <td>1</td>\n",
       "      <td>0</td>\n",
       "      <td>Low</td>\n",
       "      <td>(-37.27908815, 142.98062447634112)</td>\n",
       "    </tr>\n",
       "    <tr>\n",
       "      <th>73</th>\n",
       "      <td>WODONGA</td>\n",
       "      <td>1</td>\n",
       "      <td>0</td>\n",
       "      <td>Low</td>\n",
       "      <td>(-36.115235, 146.9051519243323)</td>\n",
       "    </tr>\n",
       "    <tr>\n",
       "      <th>74</th>\n",
       "      <td>YARRIAMBIACK</td>\n",
       "      <td>1</td>\n",
       "      <td>0</td>\n",
       "      <td>Low</td>\n",
       "      <td>(-36.0262596, 142.38850464811537)</td>\n",
       "    </tr>\n",
       "    <tr>\n",
       "      <th>75</th>\n",
       "      <td>UNKNOWN</td>\n",
       "      <td>4</td>\n",
       "      <td>4</td>\n",
       "      <td>Low</td>\n",
       "      <td>(6.402589949999999, 43.398382018489485)</td>\n",
       "    </tr>\n",
       "  </tbody>\n",
       "</table>\n",
       "<p>74 rows × 5 columns</p>\n",
       "</div>"
      ],
      "text/plain": [
       "             LGA  Total confirmed cases (ever)  \\\n",
       "2      MELBOURNE                           109   \n",
       "3    STONNINGTON                            94   \n",
       "4        BANYULE                            91   \n",
       "5     BOROONDARA                            73   \n",
       "6       BRIMBANK                            73   \n",
       "..           ...                           ...   \n",
       "71         MOYNE                             1   \n",
       "72  WEST WIMMERA                             1   \n",
       "73       WODONGA                             1   \n",
       "74  YARRIAMBIACK                             1   \n",
       "75       UNKNOWN                             4   \n",
       "\n",
       "    Confirmed cases by LGA, 7 June 2020 case_level  \\\n",
       "2                                    11       high   \n",
       "3                                     0       high   \n",
       "4                                     1       high   \n",
       "5                                     2     Medium   \n",
       "6                                     7     Medium   \n",
       "..                                  ...        ...   \n",
       "71                                    0        Low   \n",
       "72                                    0        Low   \n",
       "73                                    0        Low   \n",
       "74                                    0        Low   \n",
       "75                                    4        Low   \n",
       "\n",
       "                                  LGA_coord  \n",
       "2                (-37.8142176, 144.9631608)  \n",
       "3         (-37.8613851, 145.03914073484043)  \n",
       "4                (-37.7470917, 145.0812596)  \n",
       "5         (-37.8268263, 145.06120331054495)  \n",
       "6         (-37.7427263, 144.80547291877602)  \n",
       "..                                      ...  \n",
       "71        (52.73923215, -7.704720069331158)  \n",
       "72       (-37.27908815, 142.98062447634112)  \n",
       "73          (-36.115235, 146.9051519243323)  \n",
       "74        (-36.0262596, 142.38850464811537)  \n",
       "75  (6.402589949999999, 43.398382018489485)  \n",
       "\n",
       "[74 rows x 5 columns]"
      ]
     },
     "execution_count": 59,
     "metadata": {},
     "output_type": "execute_result"
    }
   ],
   "source": [
    "df"
   ]
  },
  {
   "cell_type": "markdown",
   "metadata": {},
   "source": [
    "Apply the latitude and longitudes to the dataframe"
   ]
  },
  {
   "cell_type": "code",
   "execution_count": 61,
   "metadata": {},
   "outputs": [],
   "source": [
    "df[['latitude', 'longitude']] = df['LGA_coord'].apply(pd.Series)"
   ]
  },
  {
   "cell_type": "code",
   "execution_count": 62,
   "metadata": {
    "scrolled": true
   },
   "outputs": [
    {
     "data": {
      "text/html": [
       "<div>\n",
       "<style scoped>\n",
       "    .dataframe tbody tr th:only-of-type {\n",
       "        vertical-align: middle;\n",
       "    }\n",
       "\n",
       "    .dataframe tbody tr th {\n",
       "        vertical-align: top;\n",
       "    }\n",
       "\n",
       "    .dataframe thead th {\n",
       "        text-align: right;\n",
       "    }\n",
       "</style>\n",
       "<table border=\"1\" class=\"dataframe\">\n",
       "  <thead>\n",
       "    <tr style=\"text-align: right;\">\n",
       "      <th></th>\n",
       "      <th>LGA</th>\n",
       "      <th>Total confirmed cases (ever)</th>\n",
       "      <th>Confirmed cases by LGA, 7 June 2020</th>\n",
       "      <th>case_level</th>\n",
       "      <th>LGA_coord</th>\n",
       "      <th>latitude</th>\n",
       "      <th>longitude</th>\n",
       "    </tr>\n",
       "  </thead>\n",
       "  <tbody>\n",
       "    <tr>\n",
       "      <th>2</th>\n",
       "      <td>MELBOURNE</td>\n",
       "      <td>109</td>\n",
       "      <td>11</td>\n",
       "      <td>high</td>\n",
       "      <td>(-37.8142176, 144.9631608)</td>\n",
       "      <td>-37.814218</td>\n",
       "      <td>144.963161</td>\n",
       "    </tr>\n",
       "    <tr>\n",
       "      <th>3</th>\n",
       "      <td>STONNINGTON</td>\n",
       "      <td>94</td>\n",
       "      <td>0</td>\n",
       "      <td>high</td>\n",
       "      <td>(-37.8613851, 145.03914073484043)</td>\n",
       "      <td>-37.861385</td>\n",
       "      <td>145.039141</td>\n",
       "    </tr>\n",
       "    <tr>\n",
       "      <th>4</th>\n",
       "      <td>BANYULE</td>\n",
       "      <td>91</td>\n",
       "      <td>1</td>\n",
       "      <td>high</td>\n",
       "      <td>(-37.7470917, 145.0812596)</td>\n",
       "      <td>-37.747092</td>\n",
       "      <td>145.081260</td>\n",
       "    </tr>\n",
       "    <tr>\n",
       "      <th>5</th>\n",
       "      <td>BOROONDARA</td>\n",
       "      <td>73</td>\n",
       "      <td>2</td>\n",
       "      <td>Medium</td>\n",
       "      <td>(-37.8268263, 145.06120331054495)</td>\n",
       "      <td>-37.826826</td>\n",
       "      <td>145.061203</td>\n",
       "    </tr>\n",
       "    <tr>\n",
       "      <th>6</th>\n",
       "      <td>BRIMBANK</td>\n",
       "      <td>73</td>\n",
       "      <td>7</td>\n",
       "      <td>Medium</td>\n",
       "      <td>(-37.7427263, 144.80547291877602)</td>\n",
       "      <td>-37.742726</td>\n",
       "      <td>144.805473</td>\n",
       "    </tr>\n",
       "    <tr>\n",
       "      <th>...</th>\n",
       "      <td>...</td>\n",
       "      <td>...</td>\n",
       "      <td>...</td>\n",
       "      <td>...</td>\n",
       "      <td>...</td>\n",
       "      <td>...</td>\n",
       "      <td>...</td>\n",
       "    </tr>\n",
       "    <tr>\n",
       "      <th>71</th>\n",
       "      <td>MOYNE</td>\n",
       "      <td>1</td>\n",
       "      <td>0</td>\n",
       "      <td>Low</td>\n",
       "      <td>(52.73923215, -7.704720069331158)</td>\n",
       "      <td>52.739232</td>\n",
       "      <td>-7.704720</td>\n",
       "    </tr>\n",
       "    <tr>\n",
       "      <th>72</th>\n",
       "      <td>WEST WIMMERA</td>\n",
       "      <td>1</td>\n",
       "      <td>0</td>\n",
       "      <td>Low</td>\n",
       "      <td>(-37.27908815, 142.98062447634112)</td>\n",
       "      <td>-37.279088</td>\n",
       "      <td>142.980624</td>\n",
       "    </tr>\n",
       "    <tr>\n",
       "      <th>73</th>\n",
       "      <td>WODONGA</td>\n",
       "      <td>1</td>\n",
       "      <td>0</td>\n",
       "      <td>Low</td>\n",
       "      <td>(-36.115235, 146.9051519243323)</td>\n",
       "      <td>-36.115235</td>\n",
       "      <td>146.905152</td>\n",
       "    </tr>\n",
       "    <tr>\n",
       "      <th>74</th>\n",
       "      <td>YARRIAMBIACK</td>\n",
       "      <td>1</td>\n",
       "      <td>0</td>\n",
       "      <td>Low</td>\n",
       "      <td>(-36.0262596, 142.38850464811537)</td>\n",
       "      <td>-36.026260</td>\n",
       "      <td>142.388505</td>\n",
       "    </tr>\n",
       "    <tr>\n",
       "      <th>75</th>\n",
       "      <td>UNKNOWN</td>\n",
       "      <td>4</td>\n",
       "      <td>4</td>\n",
       "      <td>Low</td>\n",
       "      <td>(6.402589949999999, 43.398382018489485)</td>\n",
       "      <td>6.402590</td>\n",
       "      <td>43.398382</td>\n",
       "    </tr>\n",
       "  </tbody>\n",
       "</table>\n",
       "<p>74 rows × 7 columns</p>\n",
       "</div>"
      ],
      "text/plain": [
       "             LGA  Total confirmed cases (ever)  \\\n",
       "2      MELBOURNE                           109   \n",
       "3    STONNINGTON                            94   \n",
       "4        BANYULE                            91   \n",
       "5     BOROONDARA                            73   \n",
       "6       BRIMBANK                            73   \n",
       "..           ...                           ...   \n",
       "71         MOYNE                             1   \n",
       "72  WEST WIMMERA                             1   \n",
       "73       WODONGA                             1   \n",
       "74  YARRIAMBIACK                             1   \n",
       "75       UNKNOWN                             4   \n",
       "\n",
       "    Confirmed cases by LGA, 7 June 2020 case_level  \\\n",
       "2                                    11       high   \n",
       "3                                     0       high   \n",
       "4                                     1       high   \n",
       "5                                     2     Medium   \n",
       "6                                     7     Medium   \n",
       "..                                  ...        ...   \n",
       "71                                    0        Low   \n",
       "72                                    0        Low   \n",
       "73                                    0        Low   \n",
       "74                                    0        Low   \n",
       "75                                    4        Low   \n",
       "\n",
       "                                  LGA_coord   latitude   longitude  \n",
       "2                (-37.8142176, 144.9631608) -37.814218  144.963161  \n",
       "3         (-37.8613851, 145.03914073484043) -37.861385  145.039141  \n",
       "4                (-37.7470917, 145.0812596) -37.747092  145.081260  \n",
       "5         (-37.8268263, 145.06120331054495) -37.826826  145.061203  \n",
       "6         (-37.7427263, 144.80547291877602) -37.742726  144.805473  \n",
       "..                                      ...        ...         ...  \n",
       "71        (52.73923215, -7.704720069331158)  52.739232   -7.704720  \n",
       "72       (-37.27908815, 142.98062447634112) -37.279088  142.980624  \n",
       "73          (-36.115235, 146.9051519243323) -36.115235  146.905152  \n",
       "74        (-36.0262596, 142.38850464811537) -36.026260  142.388505  \n",
       "75  (6.402589949999999, 43.398382018489485)   6.402590   43.398382  \n",
       "\n",
       "[74 rows x 7 columns]"
      ]
     },
     "execution_count": 62,
     "metadata": {},
     "output_type": "execute_result"
    }
   ],
   "source": [
    "df"
   ]
  },
  {
   "cell_type": "markdown",
   "metadata": {},
   "source": [
    "**4. Model the data**"
   ]
  },
  {
   "cell_type": "markdown",
   "metadata": {},
   "source": [
    "Set the reference point a **Melbourne CBD** from Victoria as this muncipality had the highest number of recorded COVID-19 cases"
   ]
  },
  {
   "cell_type": "code",
   "execution_count": 63,
   "metadata": {},
   "outputs": [
    {
     "name": "stderr",
     "output_type": "stream",
     "text": [
      "/Users/jewelspace/.conda/envs/Final_Project/lib/python3.7/site-packages/ipykernel_launcher.py:3: DeprecationWarning: Using Nominatim with the default \"geopy/1.22.0\" `user_agent` is strongly discouraged, as it violates Nominatim's ToS https://operations.osmfoundation.org/policies/nominatim/ and may possibly cause 403 and 429 HTTP errors. Please specify a custom `user_agent` with `Nominatim(user_agent=\"my-application\")` or by overriding the default `user_agent`: `geopy.geocoders.options.default_user_agent = \"my-application\"`. In geopy 2.0 this will become an exception.\n",
      "  This is separate from the ipykernel package so we can avoid doing imports until\n"
     ]
    },
    {
     "name": "stdout",
     "output_type": "stream",
     "text": [
      "The geograpical coordinate of Melbourne, Victoria are -37.8142176, 144.9631608.\n"
     ]
    }
   ],
   "source": [
    "address = 'Melbourne, Vic'\n",
    "\n",
    "geolocator = Nominatim()\n",
    "location = geolocator.geocode(address)\n",
    "latitude = location.latitude\n",
    "longitude = location.longitude\n",
    "print('The geograpical coordinate of Melbourne, Victoria are {}, {}.'.format(latitude, longitude))"
   ]
  },
  {
   "cell_type": "markdown",
   "metadata": {},
   "source": [
    "Map of cases areas, **clicking on the markers** users can quickly identify areas and their case level"
   ]
  },
  {
   "cell_type": "code",
   "execution_count": 68,
   "metadata": {
    "scrolled": true
   },
   "outputs": [
    {
     "data": {
      "text/html": [
       "<div style=\"width:100%;\"><div style=\"position:relative;width:100%;height:0;padding-bottom:60%;\"><span style=\"color:#565656\">Make this Notebook Trusted to load map: File -> Trust Notebook</span><iframe src=\"about:blank\" style=\"position:absolute;width:100%;height:100%;left:0;top:0;border:none !important;\" data-html=PCFET0NUWVBFIGh0bWw+CjxoZWFkPiAgICAKICAgIDxtZXRhIGh0dHAtZXF1aXY9ImNvbnRlbnQtdHlwZSIgY29udGVudD0idGV4dC9odG1sOyBjaGFyc2V0PVVURi04IiAvPgogICAgCiAgICAgICAgPHNjcmlwdD4KICAgICAgICAgICAgTF9OT19UT1VDSCA9IGZhbHNlOwogICAgICAgICAgICBMX0RJU0FCTEVfM0QgPSBmYWxzZTsKICAgICAgICA8L3NjcmlwdD4KICAgIAogICAgPHNjcmlwdCBzcmM9Imh0dHBzOi8vY2RuLmpzZGVsaXZyLm5ldC9ucG0vbGVhZmxldEAxLjYuMC9kaXN0L2xlYWZsZXQuanMiPjwvc2NyaXB0PgogICAgPHNjcmlwdCBzcmM9Imh0dHBzOi8vY29kZS5qcXVlcnkuY29tL2pxdWVyeS0xLjEyLjQubWluLmpzIj48L3NjcmlwdD4KICAgIDxzY3JpcHQgc3JjPSJodHRwczovL21heGNkbi5ib290c3RyYXBjZG4uY29tL2Jvb3RzdHJhcC8zLjIuMC9qcy9ib290c3RyYXAubWluLmpzIj48L3NjcmlwdD4KICAgIDxzY3JpcHQgc3JjPSJodHRwczovL2NkbmpzLmNsb3VkZmxhcmUuY29tL2FqYXgvbGlicy9MZWFmbGV0LmF3ZXNvbWUtbWFya2Vycy8yLjAuMi9sZWFmbGV0LmF3ZXNvbWUtbWFya2Vycy5qcyI+PC9zY3JpcHQ+CiAgICA8bGluayByZWw9InN0eWxlc2hlZXQiIGhyZWY9Imh0dHBzOi8vY2RuLmpzZGVsaXZyLm5ldC9ucG0vbGVhZmxldEAxLjYuMC9kaXN0L2xlYWZsZXQuY3NzIi8+CiAgICA8bGluayByZWw9InN0eWxlc2hlZXQiIGhyZWY9Imh0dHBzOi8vbWF4Y2RuLmJvb3RzdHJhcGNkbi5jb20vYm9vdHN0cmFwLzMuMi4wL2Nzcy9ib290c3RyYXAubWluLmNzcyIvPgogICAgPGxpbmsgcmVsPSJzdHlsZXNoZWV0IiBocmVmPSJodHRwczovL21heGNkbi5ib290c3RyYXBjZG4uY29tL2Jvb3RzdHJhcC8zLjIuMC9jc3MvYm9vdHN0cmFwLXRoZW1lLm1pbi5jc3MiLz4KICAgIDxsaW5rIHJlbD0ic3R5bGVzaGVldCIgaHJlZj0iaHR0cHM6Ly9tYXhjZG4uYm9vdHN0cmFwY2RuLmNvbS9mb250LWF3ZXNvbWUvNC42LjMvY3NzL2ZvbnQtYXdlc29tZS5taW4uY3NzIi8+CiAgICA8bGluayByZWw9InN0eWxlc2hlZXQiIGhyZWY9Imh0dHBzOi8vY2RuanMuY2xvdWRmbGFyZS5jb20vYWpheC9saWJzL0xlYWZsZXQuYXdlc29tZS1tYXJrZXJzLzIuMC4yL2xlYWZsZXQuYXdlc29tZS1tYXJrZXJzLmNzcyIvPgogICAgPGxpbmsgcmVsPSJzdHlsZXNoZWV0IiBocmVmPSJodHRwczovL3Jhd2Nkbi5naXRoYWNrLmNvbS9weXRob24tdmlzdWFsaXphdGlvbi9mb2xpdW0vbWFzdGVyL2ZvbGl1bS90ZW1wbGF0ZXMvbGVhZmxldC5hd2Vzb21lLnJvdGF0ZS5jc3MiLz4KICAgIDxzdHlsZT5odG1sLCBib2R5IHt3aWR0aDogMTAwJTtoZWlnaHQ6IDEwMCU7bWFyZ2luOiAwO3BhZGRpbmc6IDA7fTwvc3R5bGU+CiAgICA8c3R5bGU+I21hcCB7cG9zaXRpb246YWJzb2x1dGU7dG9wOjA7Ym90dG9tOjA7cmlnaHQ6MDtsZWZ0OjA7fTwvc3R5bGU+CiAgICAKICAgICAgICAgICAgPG1ldGEgbmFtZT0idmlld3BvcnQiIGNvbnRlbnQ9IndpZHRoPWRldmljZS13aWR0aCwKICAgICAgICAgICAgICAgIGluaXRpYWwtc2NhbGU9MS4wLCBtYXhpbXVtLXNjYWxlPTEuMCwgdXNlci1zY2FsYWJsZT1ubyIgLz4KICAgICAgICAgICAgPHN0eWxlPgogICAgICAgICAgICAgICAgI21hcF83ZTk5YWYwYjBlNTM0NzE3YmQ0NWI3YTY2NzAzMWM0YSB7CiAgICAgICAgICAgICAgICAgICAgcG9zaXRpb246IHJlbGF0aXZlOwogICAgICAgICAgICAgICAgICAgIHdpZHRoOiAxMDAuMCU7CiAgICAgICAgICAgICAgICAgICAgaGVpZ2h0OiAxMDAuMCU7CiAgICAgICAgICAgICAgICAgICAgbGVmdDogMC4wJTsKICAgICAgICAgICAgICAgICAgICB0b3A6IDAuMCU7CiAgICAgICAgICAgICAgICB9CiAgICAgICAgICAgIDwvc3R5bGU+CiAgICAgICAgCjwvaGVhZD4KPGJvZHk+ICAgIAogICAgCiAgICAgICAgICAgIDxkaXYgY2xhc3M9ImZvbGl1bS1tYXAiIGlkPSJtYXBfN2U5OWFmMGIwZTUzNDcxN2JkNDViN2E2NjcwMzFjNGEiID48L2Rpdj4KICAgICAgICAKPC9ib2R5Pgo8c2NyaXB0PiAgICAKICAgIAogICAgICAgICAgICB2YXIgbWFwXzdlOTlhZjBiMGU1MzQ3MTdiZDQ1YjdhNjY3MDMxYzRhID0gTC5tYXAoCiAgICAgICAgICAgICAgICAibWFwXzdlOTlhZjBiMGU1MzQ3MTdiZDQ1YjdhNjY3MDMxYzRhIiwKICAgICAgICAgICAgICAgIHsKICAgICAgICAgICAgICAgICAgICBjZW50ZXI6IFstMzcuODE0MjE3NiwgMTQ0Ljk2MzE2MDhdLAogICAgICAgICAgICAgICAgICAgIGNyczogTC5DUlMuRVBTRzM4NTcsCiAgICAgICAgICAgICAgICAgICAgem9vbTogNywKICAgICAgICAgICAgICAgICAgICB6b29tQ29udHJvbDogdHJ1ZSwKICAgICAgICAgICAgICAgICAgICBwcmVmZXJDYW52YXM6IGZhbHNlLAogICAgICAgICAgICAgICAgfQogICAgICAgICAgICApOwoKICAgICAgICAgICAgCgogICAgICAgIAogICAgCiAgICAgICAgICAgIHZhciB0aWxlX2xheWVyXzgyNmFmMmI0YjJlYzRiZDJiNzMyMDlkODgxMDA3YTMyID0gTC50aWxlTGF5ZXIoCiAgICAgICAgICAgICAgICAiaHR0cHM6Ly97c30udGlsZS5vcGVuc3RyZWV0bWFwLm9yZy97en0ve3h9L3t5fS5wbmciLAogICAgICAgICAgICAgICAgeyJhdHRyaWJ1dGlvbiI6ICJEYXRhIGJ5IFx1MDAyNmNvcHk7IFx1MDAzY2EgaHJlZj1cImh0dHA6Ly9vcGVuc3RyZWV0bWFwLm9yZ1wiXHUwMDNlT3BlblN0cmVldE1hcFx1MDAzYy9hXHUwMDNlLCB1bmRlciBcdTAwM2NhIGhyZWY9XCJodHRwOi8vd3d3Lm9wZW5zdHJlZXRtYXAub3JnL2NvcHlyaWdodFwiXHUwMDNlT0RiTFx1MDAzYy9hXHUwMDNlLiIsICJkZXRlY3RSZXRpbmEiOiBmYWxzZSwgIm1heE5hdGl2ZVpvb20iOiAxOCwgIm1heFpvb20iOiAxOCwgIm1pblpvb20iOiAwLCAibm9XcmFwIjogZmFsc2UsICJvcGFjaXR5IjogMSwgInN1YmRvbWFpbnMiOiAiYWJjIiwgInRtcyI6IGZhbHNlfQogICAgICAgICAgICApLmFkZFRvKG1hcF83ZTk5YWYwYjBlNTM0NzE3YmQ0NWI3YTY2NzAzMWM0YSk7CiAgICAgICAgCiAgICAKICAgICAgICAgICAgdmFyIGNpcmNsZV9tYXJrZXJfN2I2NDNlMjM3OTIzNDhlNGE0NmQyZjU4ODViZDcyYmUgPSBMLmNpcmNsZU1hcmtlcigKICAgICAgICAgICAgICAgIFstMzcuODE0MjE3NiwgMTQ0Ljk2MzE2MDhdLAogICAgICAgICAgICAgICAgeyJidWJibGluZ01vdXNlRXZlbnRzIjogdHJ1ZSwgImNvbG9yIjogImJsdWUiLCAiZGFzaEFycmF5IjogbnVsbCwgImRhc2hPZmZzZXQiOiBudWxsLCAiZmlsbCI6IHRydWUsICJmaWxsQ29sb3IiOiAiIzMxODZjYyIsICJmaWxsT3BhY2l0eSI6IDAuNywgImZpbGxSdWxlIjogImV2ZW5vZGQiLCAibGluZUNhcCI6ICJyb3VuZCIsICJsaW5lSm9pbiI6ICJyb3VuZCIsICJvcGFjaXR5IjogMS4wLCAicmFkaXVzIjogNSwgInN0cm9rZSI6IHRydWUsICJ3ZWlnaHQiOiAzfQogICAgICAgICAgICApLmFkZFRvKG1hcF83ZTk5YWYwYjBlNTM0NzE3YmQ0NWI3YTY2NzAzMWM0YSk7CiAgICAgICAgCiAgICAKICAgICAgICB2YXIgcG9wdXBfYTU2NjFmYzVjNmY0NGQwODgwNGYxYmI5YWUyODM5ZDkgPSBMLnBvcHVwKHsibWF4V2lkdGgiOiAiMTAwJSJ9KTsKCiAgICAgICAgCiAgICAgICAgICAgIHZhciBodG1sX2ViNjlhNTRlMDA0NjRlY2NiZjJkNDZmZjc3NWEyNWQ4ID0gJChgPGRpdiBpZD0iaHRtbF9lYjY5YTU0ZTAwNDY0ZWNjYmYyZDQ2ZmY3NzVhMjVkOCIgc3R5bGU9IndpZHRoOiAxMDAuMCU7IGhlaWdodDogMTAwLjAlOyI+TUVMQk9VUk5FLCBoaWdoPC9kaXY+YClbMF07CiAgICAgICAgICAgIHBvcHVwX2E1NjYxZmM1YzZmNDRkMDg4MDRmMWJiOWFlMjgzOWQ5LnNldENvbnRlbnQoaHRtbF9lYjY5YTU0ZTAwNDY0ZWNjYmYyZDQ2ZmY3NzVhMjVkOCk7CiAgICAgICAgCgogICAgICAgIGNpcmNsZV9tYXJrZXJfN2I2NDNlMjM3OTIzNDhlNGE0NmQyZjU4ODViZDcyYmUuYmluZFBvcHVwKHBvcHVwX2E1NjYxZmM1YzZmNDRkMDg4MDRmMWJiOWFlMjgzOWQ5KQogICAgICAgIDsKCiAgICAgICAgCiAgICAKICAgIAogICAgICAgICAgICB2YXIgY2lyY2xlX21hcmtlcl8wOGQyYzg4MThiMTg0MjY1YTE2ZTYwZDAyOTI3YjczMCA9IEwuY2lyY2xlTWFya2VyKAogICAgICAgICAgICAgICAgWy0zNy44NjEzODUxLCAxNDUuMDM5MTQwNzM0ODQwNDNdLAogICAgICAgICAgICAgICAgeyJidWJibGluZ01vdXNlRXZlbnRzIjogdHJ1ZSwgImNvbG9yIjogImJsdWUiLCAiZGFzaEFycmF5IjogbnVsbCwgImRhc2hPZmZzZXQiOiBudWxsLCAiZmlsbCI6IHRydWUsICJmaWxsQ29sb3IiOiAiIzMxODZjYyIsICJmaWxsT3BhY2l0eSI6IDAuNywgImZpbGxSdWxlIjogImV2ZW5vZGQiLCAibGluZUNhcCI6ICJyb3VuZCIsICJsaW5lSm9pbiI6ICJyb3VuZCIsICJvcGFjaXR5IjogMS4wLCAicmFkaXVzIjogNSwgInN0cm9rZSI6IHRydWUsICJ3ZWlnaHQiOiAzfQogICAgICAgICAgICApLmFkZFRvKG1hcF83ZTk5YWYwYjBlNTM0NzE3YmQ0NWI3YTY2NzAzMWM0YSk7CiAgICAgICAgCiAgICAKICAgICAgICB2YXIgcG9wdXBfZmYwNGRhMWYxOWFmNDU2ZWI1NGQyNDYyZWJhNTg3ZDYgPSBMLnBvcHVwKHsibWF4V2lkdGgiOiAiMTAwJSJ9KTsKCiAgICAgICAgCiAgICAgICAgICAgIHZhciBodG1sXzNjYmE5MzAyN2JkODQ1NDE5NjcyYTZlOGM0MWVhN2ZmID0gJChgPGRpdiBpZD0iaHRtbF8zY2JhOTMwMjdiZDg0NTQxOTY3MmE2ZThjNDFlYTdmZiIgc3R5bGU9IndpZHRoOiAxMDAuMCU7IGhlaWdodDogMTAwLjAlOyI+U1RPTk5JTkdUT04sIGhpZ2g8L2Rpdj5gKVswXTsKICAgICAgICAgICAgcG9wdXBfZmYwNGRhMWYxOWFmNDU2ZWI1NGQyNDYyZWJhNTg3ZDYuc2V0Q29udGVudChodG1sXzNjYmE5MzAyN2JkODQ1NDE5NjcyYTZlOGM0MWVhN2ZmKTsKICAgICAgICAKCiAgICAgICAgY2lyY2xlX21hcmtlcl8wOGQyYzg4MThiMTg0MjY1YTE2ZTYwZDAyOTI3YjczMC5iaW5kUG9wdXAocG9wdXBfZmYwNGRhMWYxOWFmNDU2ZWI1NGQyNDYyZWJhNTg3ZDYpCiAgICAgICAgOwoKICAgICAgICAKICAgIAogICAgCiAgICAgICAgICAgIHZhciBjaXJjbGVfbWFya2VyXzg2Mjg4Yzk5ODZmMDRjNmY5Y2U5NGVlZDk1ZGFmMWVjID0gTC5jaXJjbGVNYXJrZXIoCiAgICAgICAgICAgICAgICBbLTM3Ljc0NzA5MTcsIDE0NS4wODEyNTk2XSwKICAgICAgICAgICAgICAgIHsiYnViYmxpbmdNb3VzZUV2ZW50cyI6IHRydWUsICJjb2xvciI6ICJibHVlIiwgImRhc2hBcnJheSI6IG51bGwsICJkYXNoT2Zmc2V0IjogbnVsbCwgImZpbGwiOiB0cnVlLCAiZmlsbENvbG9yIjogIiMzMTg2Y2MiLCAiZmlsbE9wYWNpdHkiOiAwLjcsICJmaWxsUnVsZSI6ICJldmVub2RkIiwgImxpbmVDYXAiOiAicm91bmQiLCAibGluZUpvaW4iOiAicm91bmQiLCAib3BhY2l0eSI6IDEuMCwgInJhZGl1cyI6IDUsICJzdHJva2UiOiB0cnVlLCAid2VpZ2h0IjogM30KICAgICAgICAgICAgKS5hZGRUbyhtYXBfN2U5OWFmMGIwZTUzNDcxN2JkNDViN2E2NjcwMzFjNGEpOwogICAgICAgIAogICAgCiAgICAgICAgdmFyIHBvcHVwX2JmZjY3MmU3MmFiZTRlN2FhZGE3MjBkOTkwYjMzYTNjID0gTC5wb3B1cCh7Im1heFdpZHRoIjogIjEwMCUifSk7CgogICAgICAgIAogICAgICAgICAgICB2YXIgaHRtbF9iYzlhMjJiZmE0MGQ0YjRiYjAxODkyNTc1N2ZhMzJkOCA9ICQoYDxkaXYgaWQ9Imh0bWxfYmM5YTIyYmZhNDBkNGI0YmIwMTg5MjU3NTdmYTMyZDgiIHN0eWxlPSJ3aWR0aDogMTAwLjAlOyBoZWlnaHQ6IDEwMC4wJTsiPkJBTllVTEUsIGhpZ2g8L2Rpdj5gKVswXTsKICAgICAgICAgICAgcG9wdXBfYmZmNjcyZTcyYWJlNGU3YWFkYTcyMGQ5OTBiMzNhM2Muc2V0Q29udGVudChodG1sX2JjOWEyMmJmYTQwZDRiNGJiMDE4OTI1NzU3ZmEzMmQ4KTsKICAgICAgICAKCiAgICAgICAgY2lyY2xlX21hcmtlcl84NjI4OGM5OTg2ZjA0YzZmOWNlOTRlZWQ5NWRhZjFlYy5iaW5kUG9wdXAocG9wdXBfYmZmNjcyZTcyYWJlNGU3YWFkYTcyMGQ5OTBiMzNhM2MpCiAgICAgICAgOwoKICAgICAgICAKICAgIAogICAgCiAgICAgICAgICAgIHZhciBjaXJjbGVfbWFya2VyX2E1ZTE4YTM1MjcyNjQ0ZGNiMmMwMDNhOWYzYjY4YTE5ID0gTC5jaXJjbGVNYXJrZXIoCiAgICAgICAgICAgICAgICBbLTM3LjgyNjgyNjMsIDE0NS4wNjEyMDMzMTA1NDQ5NV0sCiAgICAgICAgICAgICAgICB7ImJ1YmJsaW5nTW91c2VFdmVudHMiOiB0cnVlLCAiY29sb3IiOiAiYmx1ZSIsICJkYXNoQXJyYXkiOiBudWxsLCAiZGFzaE9mZnNldCI6IG51bGwsICJmaWxsIjogdHJ1ZSwgImZpbGxDb2xvciI6ICIjMzE4NmNjIiwgImZpbGxPcGFjaXR5IjogMC43LCAiZmlsbFJ1bGUiOiAiZXZlbm9kZCIsICJsaW5lQ2FwIjogInJvdW5kIiwgImxpbmVKb2luIjogInJvdW5kIiwgIm9wYWNpdHkiOiAxLjAsICJyYWRpdXMiOiA1LCAic3Ryb2tlIjogdHJ1ZSwgIndlaWdodCI6IDN9CiAgICAgICAgICAgICkuYWRkVG8obWFwXzdlOTlhZjBiMGU1MzQ3MTdiZDQ1YjdhNjY3MDMxYzRhKTsKICAgICAgICAKICAgIAogICAgICAgIHZhciBwb3B1cF8zYWY4MDFlNTgyYTQ0MjcwYjBmOWIzYTIxN2I0Y2NlMiA9IEwucG9wdXAoeyJtYXhXaWR0aCI6ICIxMDAlIn0pOwoKICAgICAgICAKICAgICAgICAgICAgdmFyIGh0bWxfOWJkNTgzMDE3MTM2NGFjMmEwNTQ5YzMzYWEzNDlkZDQgPSAkKGA8ZGl2IGlkPSJodG1sXzliZDU4MzAxNzEzNjRhYzJhMDU0OWMzM2FhMzQ5ZGQ0IiBzdHlsZT0id2lkdGg6IDEwMC4wJTsgaGVpZ2h0OiAxMDAuMCU7Ij5CT1JPT05EQVJBLCBNZWRpdW08L2Rpdj5gKVswXTsKICAgICAgICAgICAgcG9wdXBfM2FmODAxZTU4MmE0NDI3MGIwZjliM2EyMTdiNGNjZTIuc2V0Q29udGVudChodG1sXzliZDU4MzAxNzEzNjRhYzJhMDU0OWMzM2FhMzQ5ZGQ0KTsKICAgICAgICAKCiAgICAgICAgY2lyY2xlX21hcmtlcl9hNWUxOGEzNTI3MjY0NGRjYjJjMDAzYTlmM2I2OGExOS5iaW5kUG9wdXAocG9wdXBfM2FmODAxZTU4MmE0NDI3MGIwZjliM2EyMTdiNGNjZTIpCiAgICAgICAgOwoKICAgICAgICAKICAgIAogICAgCiAgICAgICAgICAgIHZhciBjaXJjbGVfbWFya2VyXzUxMGNkOGE2NWIzZTQzNGU4YTE2NjZiZDlmMzJlZGI2ID0gTC5jaXJjbGVNYXJrZXIoCiAgICAgICAgICAgICAgICBbLTM3Ljc0MjcyNjMsIDE0NC44MDU0NzI5MTg3NzYwMl0sCiAgICAgICAgICAgICAgICB7ImJ1YmJsaW5nTW91c2VFdmVudHMiOiB0cnVlLCAiY29sb3IiOiAiYmx1ZSIsICJkYXNoQXJyYXkiOiBudWxsLCAiZGFzaE9mZnNldCI6IG51bGwsICJmaWxsIjogdHJ1ZSwgImZpbGxDb2xvciI6ICIjMzE4NmNjIiwgImZpbGxPcGFjaXR5IjogMC43LCAiZmlsbFJ1bGUiOiAiZXZlbm9kZCIsICJsaW5lQ2FwIjogInJvdW5kIiwgImxpbmVKb2luIjogInJvdW5kIiwgIm9wYWNpdHkiOiAxLjAsICJyYWRpdXMiOiA1LCAic3Ryb2tlIjogdHJ1ZSwgIndlaWdodCI6IDN9CiAgICAgICAgICAgICkuYWRkVG8obWFwXzdlOTlhZjBiMGU1MzQ3MTdiZDQ1YjdhNjY3MDMxYzRhKTsKICAgICAgICAKICAgIAogICAgICAgIHZhciBwb3B1cF8yMjk0MzE4MDg4Mjg0YTY4YjQzOGM0ZGQzZmE4ZGRlMCA9IEwucG9wdXAoeyJtYXhXaWR0aCI6ICIxMDAlIn0pOwoKICAgICAgICAKICAgICAgICAgICAgdmFyIGh0bWxfMDM4NjY5MzlmNDMyNDk4NzlkMTRlMDlkZGQ0OWM5M2YgPSAkKGA8ZGl2IGlkPSJodG1sXzAzODY2OTM5ZjQzMjQ5ODc5ZDE0ZTA5ZGRkNDljOTNmIiBzdHlsZT0id2lkdGg6IDEwMC4wJTsgaGVpZ2h0OiAxMDAuMCU7Ij5CUklNQkFOSywgTWVkaXVtPC9kaXY+YClbMF07CiAgICAgICAgICAgIHBvcHVwXzIyOTQzMTgwODgyODRhNjhiNDM4YzRkZDNmYThkZGUwLnNldENvbnRlbnQoaHRtbF8wMzg2NjkzOWY0MzI0OTg3OWQxNGUwOWRkZDQ5YzkzZik7CiAgICAgICAgCgogICAgICAgIGNpcmNsZV9tYXJrZXJfNTEwY2Q4YTY1YjNlNDM0ZThhMTY2NmJkOWYzMmVkYjYuYmluZFBvcHVwKHBvcHVwXzIyOTQzMTgwODgyODRhNjhiNDM4YzRkZDNmYThkZGUwKQogICAgICAgIDsKCiAgICAgICAgCiAgICAKICAgIAogICAgICAgICAgICB2YXIgY2lyY2xlX21hcmtlcl80MDFiNDcyNzZhODQ0NTQyOGRlNzZlMjE3Y2E2MjVmMCA9IEwuY2lyY2xlTWFya2VyKAogICAgICAgICAgICAgICAgWzM3LjI5MTEwMzIsIC04NC45MTQ2Mjk0XSwKICAgICAgICAgICAgICAgIHsiYnViYmxpbmdNb3VzZUV2ZW50cyI6IHRydWUsICJjb2xvciI6ICJibHVlIiwgImRhc2hBcnJheSI6IG51bGwsICJkYXNoT2Zmc2V0IjogbnVsbCwgImZpbGwiOiB0cnVlLCAiZmlsbENvbG9yIjogIiMzMTg2Y2MiLCAiZmlsbE9wYWNpdHkiOiAwLjcsICJmaWxsUnVsZSI6ICJldmVub2RkIiwgImxpbmVDYXAiOiAicm91bmQiLCAibGluZUpvaW4iOiAicm91bmQiLCAib3BhY2l0eSI6IDEuMCwgInJhZGl1cyI6IDUsICJzdHJva2UiOiB0cnVlLCAid2VpZ2h0IjogM30KICAgICAgICAgICAgKS5hZGRUbyhtYXBfN2U5OWFmMGIwZTUzNDcxN2JkNDViN2E2NjcwMzFjNGEpOwogICAgICAgIAogICAgCiAgICAgICAgdmFyIHBvcHVwXzM3M2Q2NDQ4ZGVjZjQ0YmNiY2YyMGQyMjYzNzE5ZmNiID0gTC5wb3B1cCh7Im1heFdpZHRoIjogIjEwMCUifSk7CgogICAgICAgIAogICAgICAgICAgICB2YXIgaHRtbF9kNzA3ZTc5NmFhZGE0YzZhYTVjM2RmNjg2ZWYzODE2YiA9ICQoYDxkaXYgaWQ9Imh0bWxfZDcwN2U3OTZhYWRhNGM2YWE1YzNkZjY4NmVmMzgxNmIiIHN0eWxlPSJ3aWR0aDogMTAwLjAlOyBoZWlnaHQ6IDEwMC4wJTsiPkNBU0VZLCBNZWRpdW08L2Rpdj5gKVswXTsKICAgICAgICAgICAgcG9wdXBfMzczZDY0NDhkZWNmNDRiY2JjZjIwZDIyNjM3MTlmY2Iuc2V0Q29udGVudChodG1sX2Q3MDdlNzk2YWFkYTRjNmFhNWMzZGY2ODZlZjM4MTZiKTsKICAgICAgICAKCiAgICAgICAgY2lyY2xlX21hcmtlcl80MDFiNDcyNzZhODQ0NTQyOGRlNzZlMjE3Y2E2MjVmMC5iaW5kUG9wdXAocG9wdXBfMzczZDY0NDhkZWNmNDRiY2JjZjIwZDIyNjM3MTlmY2IpCiAgICAgICAgOwoKICAgICAgICAKICAgIAogICAgCiAgICAgICAgICAgIHZhciBjaXJjbGVfbWFya2VyXzY4YzBmMzhlYmFlMjQyMjFiMDE2NDZjZTU5MTM0MTViID0gTC5jaXJjbGVNYXJrZXIoCiAgICAgICAgICAgICAgICBbMzkuNzk2NzAxNSwgLTg3Ljg2ODY0MTRdLAogICAgICAgICAgICAgICAgeyJidWJibGluZ01vdXNlRXZlbnRzIjogdHJ1ZSwgImNvbG9yIjogImJsdWUiLCAiZGFzaEFycmF5IjogbnVsbCwgImRhc2hPZmZzZXQiOiBudWxsLCAiZmlsbCI6IHRydWUsICJmaWxsQ29sb3IiOiAiIzMxODZjYyIsICJmaWxsT3BhY2l0eSI6IDAuNywgImZpbGxSdWxlIjogImV2ZW5vZGQiLCAibGluZUNhcCI6ICJyb3VuZCIsICJsaW5lSm9pbiI6ICJyb3VuZCIsICJvcGFjaXR5IjogMS4wLCAicmFkaXVzIjogNSwgInN0cm9rZSI6IHRydWUsICJ3ZWlnaHQiOiAzfQogICAgICAgICAgICApLmFkZFRvKG1hcF83ZTk5YWYwYjBlNTM0NzE3YmQ0NWI3YTY2NzAzMWM0YSk7CiAgICAgICAgCiAgICAKICAgICAgICB2YXIgcG9wdXBfOWEwZTY4OTU2YmZmNDBlYmJhZTQwMWNiNmU3ZDc0YzEgPSBMLnBvcHVwKHsibWF4V2lkdGgiOiAiMTAwJSJ9KTsKCiAgICAgICAgCiAgICAgICAgICAgIHZhciBodG1sXzg3NmMxMTgwNDk5NjQ0ODhiN2UzNjUzNGQwMmExNmNlID0gJChgPGRpdiBpZD0iaHRtbF84NzZjMTE4MDQ5OTY0NDg4YjdlMzY1MzRkMDJhMTZjZSIgc3R5bGU9IndpZHRoOiAxMDAuMCU7IGhlaWdodDogMTAwLjAlOyI+SFVNRSwgTWVkaXVtPC9kaXY+YClbMF07CiAgICAgICAgICAgIHBvcHVwXzlhMGU2ODk1NmJmZjQwZWJiYWU0MDFjYjZlN2Q3NGMxLnNldENvbnRlbnQoaHRtbF84NzZjMTE4MDQ5OTY0NDg4YjdlMzY1MzRkMDJhMTZjZSk7CiAgICAgICAgCgogICAgICAgIGNpcmNsZV9tYXJrZXJfNjhjMGYzOGViYWUyNDIyMWIwMTY0NmNlNTkxMzQxNWIuYmluZFBvcHVwKHBvcHVwXzlhMGU2ODk1NmJmZjQwZWJiYWU0MDFjYjZlN2Q3NGMxKQogICAgICAgIDsKCiAgICAgICAgCiAgICAKICAgIAogICAgICAgICAgICB2YXIgY2lyY2xlX21hcmtlcl8yNjBkODRkMzYyMjc0ZTJjYjY5MjY4ZWM5ZmRhMTE1NSA9IEwuY2lyY2xlTWFya2VyKAogICAgICAgICAgICAgICAgWy0zNy43NTQwMDEsIDE0NC45NjE4ODI5NDY0NDc4N10sCiAgICAgICAgICAgICAgICB7ImJ1YmJsaW5nTW91c2VFdmVudHMiOiB0cnVlLCAiY29sb3IiOiAiYmx1ZSIsICJkYXNoQXJyYXkiOiBudWxsLCAiZGFzaE9mZnNldCI6IG51bGwsICJmaWxsIjogdHJ1ZSwgImZpbGxDb2xvciI6ICIjMzE4NmNjIiwgImZpbGxPcGFjaXR5IjogMC43LCAiZmlsbFJ1bGUiOiAiZXZlbm9kZCIsICJsaW5lQ2FwIjogInJvdW5kIiwgImxpbmVKb2luIjogInJvdW5kIiwgIm9wYWNpdHkiOiAxLjAsICJyYWRpdXMiOiA1LCAic3Ryb2tlIjogdHJ1ZSwgIndlaWdodCI6IDN9CiAgICAgICAgICAgICkuYWRkVG8obWFwXzdlOTlhZjBiMGU1MzQ3MTdiZDQ1YjdhNjY3MDMxYzRhKTsKICAgICAgICAKICAgIAogICAgICAgIHZhciBwb3B1cF8xYTM4Y2Q3ZDVlMDk0OGRmYWI3OGUzYWFhMmU4NWZlYiA9IEwucG9wdXAoeyJtYXhXaWR0aCI6ICIxMDAlIn0pOwoKICAgICAgICAKICAgICAgICAgICAgdmFyIGh0bWxfODBiZDcyYzFjM2YwNDc2ZGFmYjhmNjAzZmMyOWNhY2EgPSAkKGA8ZGl2IGlkPSJodG1sXzgwYmQ3MmMxYzNmMDQ3NmRhZmI4ZjYwM2ZjMjljYWNhIiBzdHlsZT0id2lkdGg6IDEwMC4wJTsgaGVpZ2h0OiAxMDAuMCU7Ij5NT1JFTEFORCwgTWVkaXVtPC9kaXY+YClbMF07CiAgICAgICAgICAgIHBvcHVwXzFhMzhjZDdkNWUwOTQ4ZGZhYjc4ZTNhYWEyZTg1ZmViLnNldENvbnRlbnQoaHRtbF84MGJkNzJjMWMzZjA0NzZkYWZiOGY2MDNmYzI5Y2FjYSk7CiAgICAgICAgCgogICAgICAgIGNpcmNsZV9tYXJrZXJfMjYwZDg0ZDM2MjI3NGUyY2I2OTI2OGVjOWZkYTExNTUuYmluZFBvcHVwKHBvcHVwXzFhMzhjZDdkNWUwOTQ4ZGZhYjc4ZTNhYWEyZTg1ZmViKQogICAgICAgIDsKCiAgICAgICAgCiAgICAKICAgIAogICAgICAgICAgICB2YXIgY2lyY2xlX21hcmtlcl8xYjE5MTdkOWRiOWY0YzUzODExNjg2ZmY3YzYxNDk0MiA9IEwuY2lyY2xlTWFya2VyKAogICAgICAgICAgICAgICAgWy0zOC4xNDkyODEzLCAxNDQuMzU5ODI2OV0sCiAgICAgICAgICAgICAgICB7ImJ1YmJsaW5nTW91c2VFdmVudHMiOiB0cnVlLCAiY29sb3IiOiAiYmx1ZSIsICJkYXNoQXJyYXkiOiBudWxsLCAiZGFzaE9mZnNldCI6IG51bGwsICJmaWxsIjogdHJ1ZSwgImZpbGxDb2xvciI6ICIjMzE4NmNjIiwgImZpbGxPcGFjaXR5IjogMC43LCAiZmlsbFJ1bGUiOiAiZXZlbm9kZCIsICJsaW5lQ2FwIjogInJvdW5kIiwgImxpbmVKb2luIjogInJvdW5kIiwgIm9wYWNpdHkiOiAxLjAsICJyYWRpdXMiOiA1LCAic3Ryb2tlIjogdHJ1ZSwgIndlaWdodCI6IDN9CiAgICAgICAgICAgICkuYWRkVG8obWFwXzdlOTlhZjBiMGU1MzQ3MTdiZDQ1YjdhNjY3MDMxYzRhKTsKICAgICAgICAKICAgIAogICAgICAgIHZhciBwb3B1cF85MDIzMzgxY2NjZWY0Y2FkOGVlOTdiNzllZWNiODAxOCA9IEwucG9wdXAoeyJtYXhXaWR0aCI6ICIxMDAlIn0pOwoKICAgICAgICAKICAgICAgICAgICAgdmFyIGh0bWxfOGYzY2RiNzA3NmVkNDM4Nzg3OTdkYWYzOGQ5ZjYyZTMgPSAkKGA8ZGl2IGlkPSJodG1sXzhmM2NkYjcwNzZlZDQzODc4Nzk3ZGFmMzhkOWY2MmUzIiBzdHlsZT0id2lkdGg6IDEwMC4wJTsgaGVpZ2h0OiAxMDAuMCU7Ij5HUkVBVEVSIEdFRUxPTkcsIE1lZGl1bTwvZGl2PmApWzBdOwogICAgICAgICAgICBwb3B1cF85MDIzMzgxY2NjZWY0Y2FkOGVlOTdiNzllZWNiODAxOC5zZXRDb250ZW50KGh0bWxfOGYzY2RiNzA3NmVkNDM4Nzg3OTdkYWYzOGQ5ZjYyZTMpOwogICAgICAgIAoKICAgICAgICBjaXJjbGVfbWFya2VyXzFiMTkxN2Q5ZGI5ZjRjNTM4MTE2ODZmZjdjNjE0OTQyLmJpbmRQb3B1cChwb3B1cF85MDIzMzgxY2NjZWY0Y2FkOGVlOTdiNzllZWNiODAxOCkKICAgICAgICA7CgogICAgICAgIAogICAgCiAgICAKICAgICAgICAgICAgdmFyIGNpcmNsZV9tYXJrZXJfM2M1NzRlMGY4Y2JkNDNlOThkZWQ1MWJjYmUwMTY1ZGEgPSBMLmNpcmNsZU1hcmtlcigKICAgICAgICAgICAgICAgIFstMzguMjQzMzE0OTk5OTk5OTk2LCAxNDUuMDg4NTQzMTYzMzE3MjRdLAogICAgICAgICAgICAgICAgeyJidWJibGluZ01vdXNlRXZlbnRzIjogdHJ1ZSwgImNvbG9yIjogImJsdWUiLCAiZGFzaEFycmF5IjogbnVsbCwgImRhc2hPZmZzZXQiOiBudWxsLCAiZmlsbCI6IHRydWUsICJmaWxsQ29sb3IiOiAiIzMxODZjYyIsICJmaWxsT3BhY2l0eSI6IDAuNywgImZpbGxSdWxlIjogImV2ZW5vZGQiLCAibGluZUNhcCI6ICJyb3VuZCIsICJsaW5lSm9pbiI6ICJyb3VuZCIsICJvcGFjaXR5IjogMS4wLCAicmFkaXVzIjogNSwgInN0cm9rZSI6IHRydWUsICJ3ZWlnaHQiOiAzfQogICAgICAgICAgICApLmFkZFRvKG1hcF83ZTk5YWYwYjBlNTM0NzE3YmQ0NWI3YTY2NzAzMWM0YSk7CiAgICAgICAgCiAgICAKICAgICAgICB2YXIgcG9wdXBfZTExYTI1OTEyODQ4NDE1M2E2MDZmZGEyZTQyMDI3M2UgPSBMLnBvcHVwKHsibWF4V2lkdGgiOiAiMTAwJSJ9KTsKCiAgICAgICAgCiAgICAgICAgICAgIHZhciBodG1sX2NiZjQwZWUwOTQzZjRkMTY4ZTQ0N2FmYTc5ZGM1YzZhID0gJChgPGRpdiBpZD0iaHRtbF9jYmY0MGVlMDk0M2Y0ZDE2OGU0NDdhZmE3OWRjNWM2YSIgc3R5bGU9IndpZHRoOiAxMDAuMCU7IGhlaWdodDogMTAwLjAlOyI+TU9STklOR1RPTiBQRU5JTlNVTEEsIE1lZGl1bTwvZGl2PmApWzBdOwogICAgICAgICAgICBwb3B1cF9lMTFhMjU5MTI4NDg0MTUzYTYwNmZkYTJlNDIwMjczZS5zZXRDb250ZW50KGh0bWxfY2JmNDBlZTA5NDNmNGQxNjhlNDQ3YWZhNzlkYzVjNmEpOwogICAgICAgIAoKICAgICAgICBjaXJjbGVfbWFya2VyXzNjNTc0ZTBmOGNiZDQzZTk4ZGVkNTFiY2JlMDE2NWRhLmJpbmRQb3B1cChwb3B1cF9lMTFhMjU5MTI4NDg0MTUzYTYwNmZkYTJlNDIwMjczZSkKICAgICAgICA7CgogICAgICAgIAogICAgCiAgICAKICAgICAgICAgICAgdmFyIGNpcmNsZV9tYXJrZXJfNjM4YjlhOGI4YzNiNDRmOWI4NWY0ZTAyZWYyNzlhMTcgPSBMLmNpcmNsZU1hcmtlcigKICAgICAgICAgICAgICAgIFstMTUuNDg2Nzk3NywgMTI4LjEyMzYxOTZdLAogICAgICAgICAgICAgICAgeyJidWJibGluZ01vdXNlRXZlbnRzIjogdHJ1ZSwgImNvbG9yIjogImJsdWUiLCAiZGFzaEFycmF5IjogbnVsbCwgImRhc2hPZmZzZXQiOiBudWxsLCAiZmlsbCI6IHRydWUsICJmaWxsQ29sb3IiOiAiIzMxODZjYyIsICJmaWxsT3BhY2l0eSI6IDAuNywgImZpbGxSdWxlIjogImV2ZW5vZGQiLCAibGluZUNhcCI6ICJyb3VuZCIsICJsaW5lSm9pbiI6ICJyb3VuZCIsICJvcGFjaXR5IjogMS4wLCAicmFkaXVzIjogNSwgInN0cm9rZSI6IHRydWUsICJ3ZWlnaHQiOiAzfQogICAgICAgICAgICApLmFkZFRvKG1hcF83ZTk5YWYwYjBlNTM0NzE3YmQ0NWI3YTY2NzAzMWM0YSk7CiAgICAgICAgCiAgICAKICAgICAgICB2YXIgcG9wdXBfMzE2ZmFjMjkzZGU2NGZhYmJkMjEzYWIwZDliODY3OTggPSBMLnBvcHVwKHsibWF4V2lkdGgiOiAiMTAwJSJ9KTsKCiAgICAgICAgCiAgICAgICAgICAgIHZhciBodG1sXzZmM2FlYTlhMDIyZTQzNjJhODYwZTU1YmVjMTRhMmVkID0gJChgPGRpdiBpZD0iaHRtbF82ZjNhZWE5YTAyMmU0MzYyYTg2MGU1NWJlYzE0YTJlZCIgc3R5bGU9IndpZHRoOiAxMDAuMCU7IGhlaWdodDogMTAwLjAlOyI+V1lOREhBTSwgTWVkaXVtPC9kaXY+YClbMF07CiAgICAgICAgICAgIHBvcHVwXzMxNmZhYzI5M2RlNjRmYWJiZDIxM2FiMGQ5Yjg2Nzk4LnNldENvbnRlbnQoaHRtbF82ZjNhZWE5YTAyMmU0MzYyYTg2MGU1NWJlYzE0YTJlZCk7CiAgICAgICAgCgogICAgICAgIGNpcmNsZV9tYXJrZXJfNjM4YjlhOGI4YzNiNDRmOWI4NWY0ZTAyZWYyNzlhMTcuYmluZFBvcHVwKHBvcHVwXzMxNmZhYzI5M2RlNjRmYWJiZDIxM2FiMGQ5Yjg2Nzk4KQogICAgICAgIDsKCiAgICAgICAgCiAgICAKICAgIAogICAgICAgICAgICB2YXIgY2lyY2xlX21hcmtlcl9lNjkzOWRjY2RmOWE0NWU2YWQ4YmExMTdkYjg0ZmIyMSA9IEwuY2lyY2xlTWFya2VyKAogICAgICAgICAgICAgICAgWy0zNy44OTg5OTUsIDE0NS4wNDEwMjYxMTQ5NDk2Nl0sCiAgICAgICAgICAgICAgICB7ImJ1YmJsaW5nTW91c2VFdmVudHMiOiB0cnVlLCAiY29sb3IiOiAiYmx1ZSIsICJkYXNoQXJyYXkiOiBudWxsLCAiZGFzaE9mZnNldCI6IG51bGwsICJmaWxsIjogdHJ1ZSwgImZpbGxDb2xvciI6ICIjMzE4NmNjIiwgImZpbGxPcGFjaXR5IjogMC43LCAiZmlsbFJ1bGUiOiAiZXZlbm9kZCIsICJsaW5lQ2FwIjogInJvdW5kIiwgImxpbmVKb2luIjogInJvdW5kIiwgIm9wYWNpdHkiOiAxLjAsICJyYWRpdXMiOiA1LCAic3Ryb2tlIjogdHJ1ZSwgIndlaWdodCI6IDN9CiAgICAgICAgICAgICkuYWRkVG8obWFwXzdlOTlhZjBiMGU1MzQ3MTdiZDQ1YjdhNjY3MDMxYzRhKTsKICAgICAgICAKICAgIAogICAgICAgIHZhciBwb3B1cF9iYWY1MTNhNGE4MTA0ZTIyOGRmMDhjNzIzZDNlZjdlMSA9IEwucG9wdXAoeyJtYXhXaWR0aCI6ICIxMDAlIn0pOwoKICAgICAgICAKICAgICAgICAgICAgdmFyIGh0bWxfMTBiNDEyMjIwZjNkNGJhYTk5YzZmZjExMmUyZmNjOTEgPSAkKGA8ZGl2IGlkPSJodG1sXzEwYjQxMjIyMGYzZDRiYWE5OWM2ZmYxMTJlMmZjYzkxIiBzdHlsZT0id2lkdGg6IDEwMC4wJTsgaGVpZ2h0OiAxMDAuMCU7Ij5HTEVOIEVJUkEsIE1lZGl1bTwvZGl2PmApWzBdOwogICAgICAgICAgICBwb3B1cF9iYWY1MTNhNGE4MTA0ZTIyOGRmMDhjNzIzZDNlZjdlMS5zZXRDb250ZW50KGh0bWxfMTBiNDEyMjIwZjNkNGJhYTk5YzZmZjExMmUyZmNjOTEpOwogICAgICAgIAoKICAgICAgICBjaXJjbGVfbWFya2VyX2U2OTM5ZGNjZGY5YTQ1ZTZhZDhiYTExN2RiODRmYjIxLmJpbmRQb3B1cChwb3B1cF9iYWY1MTNhNGE4MTA0ZTIyOGRmMDhjNzIzZDNlZjdlMSkKICAgICAgICA7CgogICAgICAgIAogICAgCiAgICAKICAgICAgICAgICAgdmFyIGNpcmNsZV9tYXJrZXJfMDRhYTc5NGU2MDg0NGYzZWI5ODNlYTE4Y2EyMGM1NDggPSBMLmNpcmNsZU1hcmtlcigKICAgICAgICAgICAgICAgIFstMjYuMDg0MDUyNSwgMjcuODc3NjI1Mzc4NTIyOTRdLAogICAgICAgICAgICAgICAgeyJidWJibGluZ01vdXNlRXZlbnRzIjogdHJ1ZSwgImNvbG9yIjogImJsdWUiLCAiZGFzaEFycmF5IjogbnVsbCwgImRhc2hPZmZzZXQiOiBudWxsLCAiZmlsbCI6IHRydWUsICJmaWxsQ29sb3IiOiAiIzMxODZjYyIsICJmaWxsT3BhY2l0eSI6IDAuNywgImZpbGxSdWxlIjogImV2ZW5vZGQiLCAibGluZUNhcCI6ICJyb3VuZCIsICJsaW5lSm9pbiI6ICJyb3VuZCIsICJvcGFjaXR5IjogMS4wLCAicmFkaXVzIjogNSwgInN0cm9rZSI6IHRydWUsICJ3ZWlnaHQiOiAzfQogICAgICAgICAgICApLmFkZFRvKG1hcF83ZTk5YWYwYjBlNTM0NzE3YmQ0NWI3YTY2NzAzMWM0YSk7CiAgICAgICAgCiAgICAKICAgICAgICB2YXIgcG9wdXBfMGU0Y2RiYjk4ODMwNDdmMzk4YzFkZmMwMTg1YzdmYWMgPSBMLnBvcHVwKHsibWF4V2lkdGgiOiAiMTAwJSJ9KTsKCiAgICAgICAgCiAgICAgICAgICAgIHZhciBodG1sX2QwOWVmNDM0MzRkNjRlYjZiM2FiNWY5NzE2ZTY5NGFmID0gJChgPGRpdiBpZD0iaHRtbF9kMDllZjQzNDM0ZDY0ZWI2YjNhYjVmOTcxNmU2OTRhZiIgc3R5bGU9IndpZHRoOiAxMDAuMCU7IGhlaWdodDogMTAwLjAlOyI+TU9OQVNILCBNZWRpdW08L2Rpdj5gKVswXTsKICAgICAgICAgICAgcG9wdXBfMGU0Y2RiYjk4ODMwNDdmMzk4YzFkZmMwMTg1YzdmYWMuc2V0Q29udGVudChodG1sX2QwOWVmNDM0MzRkNjRlYjZiM2FiNWY5NzE2ZTY5NGFmKTsKICAgICAgICAKCiAgICAgICAgY2lyY2xlX21hcmtlcl8wNGFhNzk0ZTYwODQ0ZjNlYjk4M2VhMThjYTIwYzU0OC5iaW5kUG9wdXAocG9wdXBfMGU0Y2RiYjk4ODMwNDdmMzk4YzFkZmMwMTg1YzdmYWMpCiAgICAgICAgOwoKICAgICAgICAKICAgIAogICAgCiAgICAgICAgICAgIHZhciBjaXJjbGVfbWFya2VyXzYzOTE3YjdhNDY0MTQyOTM5Yzg4MzAxY2ZlNTY3NGE0ID0gTC5jaXJjbGVNYXJrZXIoCiAgICAgICAgICAgICAgICBbLTM4LjA2MTI1LCAxNDQuODI0NjVdLAogICAgICAgICAgICAgICAgeyJidWJibGluZ01vdXNlRXZlbnRzIjogdHJ1ZSwgImNvbG9yIjogImJsdWUiLCAiZGFzaEFycmF5IjogbnVsbCwgImRhc2hPZmZzZXQiOiBudWxsLCAiZmlsbCI6IHRydWUsICJmaWxsQ29sb3IiOiAiIzMxODZjYyIsICJmaWxsT3BhY2l0eSI6IDAuNywgImZpbGxSdWxlIjogImV2ZW5vZGQiLCAibGluZUNhcCI6ICJyb3VuZCIsICJsaW5lSm9pbiI6ICJyb3VuZCIsICJvcGFjaXR5IjogMS4wLCAicmFkaXVzIjogNSwgInN0cm9rZSI6IHRydWUsICJ3ZWlnaHQiOiAzfQogICAgICAgICAgICApLmFkZFRvKG1hcF83ZTk5YWYwYjBlNTM0NzE3YmQ0NWI3YTY2NzAzMWM0YSk7CiAgICAgICAgCiAgICAKICAgICAgICB2YXIgcG9wdXBfMDA1NDQ1YmZiMDAxNDcyZmFiOTgxOGM0YWM1MDRkZjEgPSBMLnBvcHVwKHsibWF4V2lkdGgiOiAiMTAwJSJ9KTsKCiAgICAgICAgCiAgICAgICAgICAgIHZhciBodG1sX2NjMjgzYjU3NmYwOTQzOGU4ZjlkYWI2ODY4OTkwMTkyID0gJChgPGRpdiBpZD0iaHRtbF9jYzI4M2I1NzZmMDk0MzhlOGY5ZGFiNjg2ODk5MDE5MiIgc3R5bGU9IndpZHRoOiAxMDAuMCU7IGhlaWdodDogMTAwLjAlOyI+UE9SVCBQSElMTElQLCBNZWRpdW08L2Rpdj5gKVswXTsKICAgICAgICAgICAgcG9wdXBfMDA1NDQ1YmZiMDAxNDcyZmFiOTgxOGM0YWM1MDRkZjEuc2V0Q29udGVudChodG1sX2NjMjgzYjU3NmYwOTQzOGU4ZjlkYWI2ODY4OTkwMTkyKTsKICAgICAgICAKCiAgICAgICAgY2lyY2xlX21hcmtlcl82MzkxN2I3YTQ2NDE0MjkzOWM4ODMwMWNmZTU2NzRhNC5iaW5kUG9wdXAocG9wdXBfMDA1NDQ1YmZiMDAxNDcyZmFiOTgxOGM0YWM1MDRkZjEpCiAgICAgICAgOwoKICAgICAgICAKICAgIAogICAgCiAgICAgICAgICAgIHZhciBjaXJjbGVfbWFya2VyXzI3MGEyYzRkYzE4NzQzYzg4ODljZWE1NzU1Y2NhZGE5ID0gTC5jaXJjbGVNYXJrZXIoCiAgICAgICAgICAgICAgICBbMzMuNjE5ODk0LCAtODUuNjQ4ODE4XSwKICAgICAgICAgICAgICAgIHsiYnViYmxpbmdNb3VzZUV2ZW50cyI6IHRydWUsICJjb2xvciI6ICJibHVlIiwgImRhc2hBcnJheSI6IG51bGwsICJkYXNoT2Zmc2V0IjogbnVsbCwgImZpbGwiOiB0cnVlLCAiZmlsbENvbG9yIjogIiMzMTg2Y2MiLCAiZmlsbE9wYWNpdHkiOiAwLjcsICJmaWxsUnVsZSI6ICJldmVub2RkIiwgImxpbmVDYXAiOiAicm91bmQiLCAibGluZUpvaW4iOiAicm91bmQiLCAib3BhY2l0eSI6IDEuMCwgInJhZGl1cyI6IDUsICJzdHJva2UiOiB0cnVlLCAid2VpZ2h0IjogM30KICAgICAgICAgICAgKS5hZGRUbyhtYXBfN2U5OWFmMGIwZTUzNDcxN2JkNDViN2E2NjcwMzFjNGEpOwogICAgICAgIAogICAgCiAgICAgICAgdmFyIHBvcHVwX2M3MTE3MTA3NGFhMzQ3ZjViOWFjMWY0YTEwZWEwMDg3ID0gTC5wb3B1cCh7Im1heFdpZHRoIjogIjEwMCUifSk7CgogICAgICAgIAogICAgICAgICAgICB2YXIgaHRtbF8yYWNkNWNiYjkyMTk0ZTEwOTc1YjMyNjAzYjI4ZTRjOSA9ICQoYDxkaXYgaWQ9Imh0bWxfMmFjZDVjYmI5MjE5NGUxMDk3NWIzMjYwM2IyOGU0YzkiIHN0eWxlPSJ3aWR0aDogMTAwLjAlOyBoZWlnaHQ6IDEwMC4wJTsiPklOVEVSU1RBVEUsIE1lZGl1bTwvZGl2PmApWzBdOwogICAgICAgICAgICBwb3B1cF9jNzExNzEwNzRhYTM0N2Y1YjlhYzFmNGExMGVhMDA4Ny5zZXRDb250ZW50KGh0bWxfMmFjZDVjYmI5MjE5NGUxMDk3NWIzMjYwM2IyOGU0YzkpOwogICAgICAgIAoKICAgICAgICBjaXJjbGVfbWFya2VyXzI3MGEyYzRkYzE4NzQzYzg4ODljZWE1NzU1Y2NhZGE5LmJpbmRQb3B1cChwb3B1cF9jNzExNzEwNzRhYTM0N2Y1YjlhYzFmNGExMGVhMDA4NykKICAgICAgICA7CgogICAgICAgIAogICAgCiAgICAKICAgICAgICAgICAgdmFyIGNpcmNsZV9tYXJrZXJfZTcyZTU4M2ZhN2Y3NDg1YjlkODNlYzQ0OTgzOTRlODYgPSBMLmNpcmNsZU1hcmtlcigKICAgICAgICAgICAgICAgIFs1Mi44MTE3MTA2LCAtMC44NTkyODY3MjkyMjQ0NDU5XSwKICAgICAgICAgICAgICAgIHsiYnViYmxpbmdNb3VzZUV2ZW50cyI6IHRydWUsICJjb2xvciI6ICJibHVlIiwgImRhc2hBcnJheSI6IG51bGwsICJkYXNoT2Zmc2V0IjogbnVsbCwgImZpbGwiOiB0cnVlLCAiZmlsbENvbG9yIjogIiMzMTg2Y2MiLCAiZmlsbE9wYWNpdHkiOiAwLjcsICJmaWxsUnVsZSI6ICJldmVub2RkIiwgImxpbmVDYXAiOiAicm91bmQiLCAibGluZUpvaW4iOiAicm91bmQiLCAib3BhY2l0eSI6IDEuMCwgInJhZGl1cyI6IDUsICJzdHJva2UiOiB0cnVlLCAid2VpZ2h0IjogM30KICAgICAgICAgICAgKS5hZGRUbyhtYXBfN2U5OWFmMGIwZTUzNDcxN2JkNDViN2E2NjcwMzFjNGEpOwogICAgICAgIAogICAgCiAgICAgICAgdmFyIHBvcHVwX2M2ZDMyZmFjODUyYTQzMWNiNDRjY2FiYzVkNWE1OGI0ID0gTC5wb3B1cCh7Im1heFdpZHRoIjogIjEwMCUifSk7CgogICAgICAgIAogICAgICAgICAgICB2YXIgaHRtbF84MDMxZGIyOTI3Mjk0YWFkODA1Y2JiYzFiYTNmOThjOSA9ICQoYDxkaXYgaWQ9Imh0bWxfODAzMWRiMjkyNzI5NGFhZDgwNWNiYmMxYmEzZjk4YzkiIHN0eWxlPSJ3aWR0aDogMTAwLjAlOyBoZWlnaHQ6IDEwMC4wJTsiPk1FTFRPTiwgTWVkaXVtPC9kaXY+YClbMF07CiAgICAgICAgICAgIHBvcHVwX2M2ZDMyZmFjODUyYTQzMWNiNDRjY2FiYzVkNWE1OGI0LnNldENvbnRlbnQoaHRtbF84MDMxZGIyOTI3Mjk0YWFkODA1Y2JiYzFiYTNmOThjOSk7CiAgICAgICAgCgogICAgICAgIGNpcmNsZV9tYXJrZXJfZTcyZTU4M2ZhN2Y3NDg1YjlkODNlYzQ0OTgzOTRlODYuYmluZFBvcHVwKHBvcHVwX2M2ZDMyZmFjODUyYTQzMWNiNDRjY2FiYzVkNWE1OGI0KQogICAgICAgIDsKCiAgICAgICAgCiAgICAKICAgIAogICAgICAgICAgICB2YXIgY2lyY2xlX21hcmtlcl8yNzBiODA1MzAwMWM0YWNmYTM1NjRkYjNiYjk5MGQzMyA9IEwuY2lyY2xlTWFya2VyKAogICAgICAgICAgICAgICAgWy0zNy43NzQ3OTIxLCAxNDUuMDM4Njc4Nl0sCiAgICAgICAgICAgICAgICB7ImJ1YmJsaW5nTW91c2VFdmVudHMiOiB0cnVlLCAiY29sb3IiOiAiYmx1ZSIsICJkYXNoQXJyYXkiOiBudWxsLCAiZGFzaE9mZnNldCI6IG51bGwsICJmaWxsIjogdHJ1ZSwgImZpbGxDb2xvciI6ICIjMzE4NmNjIiwgImZpbGxPcGFjaXR5IjogMC43LCAiZmlsbFJ1bGUiOiAiZXZlbm9kZCIsICJsaW5lQ2FwIjogInJvdW5kIiwgImxpbmVKb2luIjogInJvdW5kIiwgIm9wYWNpdHkiOiAxLjAsICJyYWRpdXMiOiA1LCAic3Ryb2tlIjogdHJ1ZSwgIndlaWdodCI6IDN9CiAgICAgICAgICAgICkuYWRkVG8obWFwXzdlOTlhZjBiMGU1MzQ3MTdiZDQ1YjdhNjY3MDMxYzRhKTsKICAgICAgICAKICAgIAogICAgICAgIHZhciBwb3B1cF81MDM4ZGJhY2IwZDg0YWQ5ODAzYTY3NzVhMzY0OWVhMiA9IEwucG9wdXAoeyJtYXhXaWR0aCI6ICIxMDAlIn0pOwoKICAgICAgICAKICAgICAgICAgICAgdmFyIGh0bWxfMjVhZDEzN2MxOWE4NGNjNjhhZGU1M2M5Yjk3Mjk4MjQgPSAkKGA8ZGl2IGlkPSJodG1sXzI1YWQxMzdjMTlhODRjYzY4YWRlNTNjOWI5NzI5ODI0IiBzdHlsZT0id2lkdGg6IDEwMC4wJTsgaGVpZ2h0OiAxMDAuMCU7Ij5EQVJFQklOLCBNZWRpdW08L2Rpdj5gKVswXTsKICAgICAgICAgICAgcG9wdXBfNTAzOGRiYWNiMGQ4NGFkOTgwM2E2Nzc1YTM2NDllYTIuc2V0Q29udGVudChodG1sXzI1YWQxMzdjMTlhODRjYzY4YWRlNTNjOWI5NzI5ODI0KTsKICAgICAgICAKCiAgICAgICAgY2lyY2xlX21hcmtlcl8yNzBiODA1MzAwMWM0YWNmYTM1NjRkYjNiYjk5MGQzMy5iaW5kUG9wdXAocG9wdXBfNTAzOGRiYWNiMGQ4NGFkOTgwM2E2Nzc1YTM2NDllYTIpCiAgICAgICAgOwoKICAgICAgICAKICAgIAogICAgCiAgICAgICAgICAgIHZhciBjaXJjbGVfbWFya2VyX2Q0ZTBiNjIzNGM3ODQwOTZhMmU2NjAwNGJiMTRlODkwID0gTC5jaXJjbGVNYXJrZXIoCiAgICAgICAgICAgICAgICBbLTM4LjE1MDYzNDk5OTk5OTk5NCwgMTQ1LjE0MjQ0Mjg2NzM0MTA2XSwKICAgICAgICAgICAgICAgIHsiYnViYmxpbmdNb3VzZUV2ZW50cyI6IHRydWUsICJjb2xvciI6ICJibHVlIiwgImRhc2hBcnJheSI6IG51bGwsICJkYXNoT2Zmc2V0IjogbnVsbCwgImZpbGwiOiB0cnVlLCAiZmlsbENvbG9yIjogIiMzMTg2Y2MiLCAiZmlsbE9wYWNpdHkiOiAwLjcsICJmaWxsUnVsZSI6ICJldmVub2RkIiwgImxpbmVDYXAiOiAicm91bmQiLCAibGluZUpvaW4iOiAicm91bmQiLCAib3BhY2l0eSI6IDEuMCwgInJhZGl1cyI6IDUsICJzdHJva2UiOiB0cnVlLCAid2VpZ2h0IjogM30KICAgICAgICAgICAgKS5hZGRUbyhtYXBfN2U5OWFmMGIwZTUzNDcxN2JkNDViN2E2NjcwMzFjNGEpOwogICAgICAgIAogICAgCiAgICAgICAgdmFyIHBvcHVwXzczNWQxNTI0OGY3ZDQwZjlhODcxZmE2ODU5YjY5YTUyID0gTC5wb3B1cCh7Im1heFdpZHRoIjogIjEwMCUifSk7CgogICAgICAgIAogICAgICAgICAgICB2YXIgaHRtbF9iY2Y5NDRkN2I3YTU0YmUxOTMyMmI2YWRiMTdjYWI5YSA9ICQoYDxkaXYgaWQ9Imh0bWxfYmNmOTQ0ZDdiN2E1NGJlMTkzMjJiNmFkYjE3Y2FiOWEiIHN0eWxlPSJ3aWR0aDogMTAwLjAlOyBoZWlnaHQ6IDEwMC4wJTsiPkZSQU5LU1RPTiwgTWVkaXVtPC9kaXY+YClbMF07CiAgICAgICAgICAgIHBvcHVwXzczNWQxNTI0OGY3ZDQwZjlhODcxZmE2ODU5YjY5YTUyLnNldENvbnRlbnQoaHRtbF9iY2Y5NDRkN2I3YTU0YmUxOTMyMmI2YWRiMTdjYWI5YSk7CiAgICAgICAgCgogICAgICAgIGNpcmNsZV9tYXJrZXJfZDRlMGI2MjM0Yzc4NDA5NmEyZTY2MDA0YmIxNGU4OTAuYmluZFBvcHVwKHBvcHVwXzczNWQxNTI0OGY3ZDQwZjlhODcxZmE2ODU5YjY5YTUyKQogICAgICAgIDsKCiAgICAgICAgCiAgICAKICAgIAogICAgICAgICAgICB2YXIgY2lyY2xlX21hcmtlcl9jZDBiZDRiODA3YzM0ZmZiYWNmM2UyMjBjNjUxYTYxOCA9IEwuY2lyY2xlTWFya2VyKAogICAgICAgICAgICAgICAgWy0yNC4wNDY2NzA3LCAxNDUuMzU5NDMwOF0sCiAgICAgICAgICAgICAgICB7ImJ1YmJsaW5nTW91c2VFdmVudHMiOiB0cnVlLCAiY29sb3IiOiAiYmx1ZSIsICJkYXNoQXJyYXkiOiBudWxsLCAiZGFzaE9mZnNldCI6IG51bGwsICJmaWxsIjogdHJ1ZSwgImZpbGxDb2xvciI6ICIjMzE4NmNjIiwgImZpbGxPcGFjaXR5IjogMC43LCAiZmlsbFJ1bGUiOiAiZXZlbm9kZCIsICJsaW5lQ2FwIjogInJvdW5kIiwgImxpbmVKb2luIjogInJvdW5kIiwgIm9wYWNpdHkiOiAxLjAsICJyYWRpdXMiOiA1LCAic3Ryb2tlIjogdHJ1ZSwgIndlaWdodCI6IDN9CiAgICAgICAgICAgICkuYWRkVG8obWFwXzdlOTlhZjBiMGU1MzQ3MTdiZDQ1YjdhNjY3MDMxYzRhKTsKICAgICAgICAKICAgIAogICAgICAgIHZhciBwb3B1cF9kNjIxZDc1MTYxMGQ0MjIyYTQ1Y2M3NDVjYTBhOWYzMCA9IEwucG9wdXAoeyJtYXhXaWR0aCI6ICIxMDAlIn0pOwoKICAgICAgICAKICAgICAgICAgICAgdmFyIGh0bWxfODBmMGQ4OGY1Y2I3NDk3MWJlNmI0YmI2NGJiZGVkM2YgPSAkKGA8ZGl2IGlkPSJodG1sXzgwZjBkODhmNWNiNzQ5NzFiZTZiNGJiNjRiYmRlZDNmIiBzdHlsZT0id2lkdGg6IDEwMC4wJTsgaGVpZ2h0OiAxMDAuMCU7Ij5NT09ORUUgVkFMTEVZLCBNZWRpdW08L2Rpdj5gKVswXTsKICAgICAgICAgICAgcG9wdXBfZDYyMWQ3NTE2MTBkNDIyMmE0NWNjNzQ1Y2EwYTlmMzAuc2V0Q29udGVudChodG1sXzgwZjBkODhmNWNiNzQ5NzFiZTZiNGJiNjRiYmRlZDNmKTsKICAgICAgICAKCiAgICAgICAgY2lyY2xlX21hcmtlcl9jZDBiZDRiODA3YzM0ZmZiYWNmM2UyMjBjNjUxYTYxOC5iaW5kUG9wdXAocG9wdXBfZDYyMWQ3NTE2MTBkNDIyMmE0NWNjNzQ1Y2EwYTlmMzApCiAgICAgICAgOwoKICAgICAgICAKICAgIAogICAgCiAgICAgICAgICAgIHZhciBjaXJjbGVfbWFya2VyXzRmOTQ2OWJhMzMyNjQ4ZjU4ZWJmOThmMDUxMGY4YWRlID0gTC5jaXJjbGVNYXJrZXIoCiAgICAgICAgICAgICAgICBbLTM3LjUxMjEzMDEsIDE0NS4xMTc3MzIxXSwKICAgICAgICAgICAgICAgIHsiYnViYmxpbmdNb3VzZUV2ZW50cyI6IHRydWUsICJjb2xvciI6ICJibHVlIiwgImRhc2hBcnJheSI6IG51bGwsICJkYXNoT2Zmc2V0IjogbnVsbCwgImZpbGwiOiB0cnVlLCAiZmlsbENvbG9yIjogIiMzMTg2Y2MiLCAiZmlsbE9wYWNpdHkiOiAwLjcsICJmaWxsUnVsZSI6ICJldmVub2RkIiwgImxpbmVDYXAiOiAicm91bmQiLCAibGluZUpvaW4iOiAicm91bmQiLCAib3BhY2l0eSI6IDEuMCwgInJhZGl1cyI6IDUsICJzdHJva2UiOiB0cnVlLCAid2VpZ2h0IjogM30KICAgICAgICAgICAgKS5hZGRUbyhtYXBfN2U5OWFmMGIwZTUzNDcxN2JkNDViN2E2NjcwMzFjNGEpOwogICAgICAgIAogICAgCiAgICAgICAgdmFyIHBvcHVwX2U1OTg3MWQ3MDUyYjRkZGQ4MDQ2NDVjNDU2YjNiMWNiID0gTC5wb3B1cCh7Im1heFdpZHRoIjogIjEwMCUifSk7CgogICAgICAgIAogICAgICAgICAgICB2YXIgaHRtbF82MjFiY2Q2MjMxYTc0MGY4YjE0NjU4YTliNTBhZmIyZSA9ICQoYDxkaXYgaWQ9Imh0bWxfNjIxYmNkNjIzMWE3NDBmOGIxNDY1OGE5YjUwYWZiMmUiIHN0eWxlPSJ3aWR0aDogMTAwLjAlOyBoZWlnaHQ6IDEwMC4wJTsiPldISVRUTEVTRUEsIExvdzwvZGl2PmApWzBdOwogICAgICAgICAgICBwb3B1cF9lNTk4NzFkNzA1MmI0ZGRkODA0NjQ1YzQ1NmIzYjFjYi5zZXRDb250ZW50KGh0bWxfNjIxYmNkNjIzMWE3NDBmOGIxNDY1OGE5YjUwYWZiMmUpOwogICAgICAgIAoKICAgICAgICBjaXJjbGVfbWFya2VyXzRmOTQ2OWJhMzMyNjQ4ZjU4ZWJmOThmMDUxMGY4YWRlLmJpbmRQb3B1cChwb3B1cF9lNTk4NzFkNzA1MmI0ZGRkODA0NjQ1YzQ1NmIzYjFjYikKICAgICAgICA7CgogICAgICAgIAogICAgCiAgICAKICAgICAgICAgICAgdmFyIGNpcmNsZV9tYXJrZXJfNDI1OWE0MzU2ZmU1NGFkOGI0NzQxOGYzODk3ZDNjYmYgPSBMLmNpcmNsZU1hcmtlcigKICAgICAgICAgICAgICAgIFs0MC43Njg0MzUxLCAtNzMuNzc3MDc3NF0sCiAgICAgICAgICAgICAgICB7ImJ1YmJsaW5nTW91c2VFdmVudHMiOiB0cnVlLCAiY29sb3IiOiAiYmx1ZSIsICJkYXNoQXJyYXkiOiBudWxsLCAiZGFzaE9mZnNldCI6IG51bGwsICJmaWxsIjogdHJ1ZSwgImZpbGxDb2xvciI6ICIjMzE4NmNjIiwgImZpbGxPcGFjaXR5IjogMC43LCAiZmlsbFJ1bGUiOiAiZXZlbm9kZCIsICJsaW5lQ2FwIjogInJvdW5kIiwgImxpbmVKb2luIjogInJvdW5kIiwgIm9wYWNpdHkiOiAxLjAsICJyYWRpdXMiOiA1LCAic3Ryb2tlIjogdHJ1ZSwgIndlaWdodCI6IDN9CiAgICAgICAgICAgICkuYWRkVG8obWFwXzdlOTlhZjBiMGU1MzQ3MTdiZDQ1YjdhNjY3MDMxYzRhKTsKICAgICAgICAKICAgIAogICAgICAgIHZhciBwb3B1cF9iODZlOTA0NGQ5MzM0ODVjOWViNGNmYmY3ZWE0MGE1OCA9IEwucG9wdXAoeyJtYXhXaWR0aCI6ICIxMDAlIn0pOwoKICAgICAgICAKICAgICAgICAgICAgdmFyIGh0bWxfYjk1ZWQ2ZmRkZTg3NDExMzkwZDQ2NWE2ZTIyZTVkY2MgPSAkKGA8ZGl2IGlkPSJodG1sX2I5NWVkNmZkZGU4NzQxMTM5MGQ0NjVhNmUyMmU1ZGNjIiBzdHlsZT0id2lkdGg6IDEwMC4wJTsgaGVpZ2h0OiAxMDAuMCU7Ij5CQVlTSURFLCBMb3c8L2Rpdj5gKVswXTsKICAgICAgICAgICAgcG9wdXBfYjg2ZTkwNDRkOTMzNDg1YzllYjRjZmJmN2VhNDBhNTguc2V0Q29udGVudChodG1sX2I5NWVkNmZkZGU4NzQxMTM5MGQ0NjVhNmUyMmU1ZGNjKTsKICAgICAgICAKCiAgICAgICAgY2lyY2xlX21hcmtlcl80MjU5YTQzNTZmZTU0YWQ4YjQ3NDE4ZjM4OTdkM2NiZi5iaW5kUG9wdXAocG9wdXBfYjg2ZTkwNDRkOTMzNDg1YzllYjRjZmJmN2VhNDBhNTgpCiAgICAgICAgOwoKICAgICAgICAKICAgIAogICAgCiAgICAgICAgICAgIHZhciBjaXJjbGVfbWFya2VyXzI5NDEzODU1NmFkZTRmMDA5YWZiODQ2NjQ5ODIxZDY1ID0gTC5jaXJjbGVNYXJrZXIoCiAgICAgICAgICAgICAgICBbMTAuNTA5MDU5MSwgMi40NzU4MTM4XSwKICAgICAgICAgICAgICAgIHsiYnViYmxpbmdNb3VzZUV2ZW50cyI6IHRydWUsICJjb2xvciI6ICJibHVlIiwgImRhc2hBcnJheSI6IG51bGwsICJkYXNoT2Zmc2V0IjogbnVsbCwgImZpbGwiOiB0cnVlLCAiZmlsbENvbG9yIjogIiMzMTg2Y2MiLCAiZmlsbE9wYWNpdHkiOiAwLjcsICJmaWxsUnVsZSI6ICJldmVub2RkIiwgImxpbmVDYXAiOiAicm91bmQiLCAibGluZUpvaW4iOiAicm91bmQiLCAib3BhY2l0eSI6IDEuMCwgInJhZGl1cyI6IDUsICJzdHJva2UiOiB0cnVlLCAid2VpZ2h0IjogM30KICAgICAgICAgICAgKS5hZGRUbyhtYXBfN2U5OWFmMGIwZTUzNDcxN2JkNDViN2E2NjcwMzFjNGEpOwogICAgICAgIAogICAgCiAgICAgICAgdmFyIHBvcHVwX2ZkZTRkODJkMTI4NzQ3ZjM5OTgzZDNiNzI2MmY3ZTM2ID0gTC5wb3B1cCh7Im1heFdpZHRoIjogIjEwMCUifSk7CgogICAgICAgIAogICAgICAgICAgICB2YXIgaHRtbF9hZTMyNzM2ZDBjNmQ0Y2JkYmZmYTVlNjIxYWVmZDVlZCA9ICQoYDxkaXYgaWQ9Imh0bWxfYWUzMjczNmQwYzZkNGNiZGJmZmE1ZTYyMWFlZmQ1ZWQiIHN0eWxlPSJ3aWR0aDogMTAwLjAlOyBoZWlnaHQ6IDEwMC4wJTsiPllBUlJBLCBMb3c8L2Rpdj5gKVswXTsKICAgICAgICAgICAgcG9wdXBfZmRlNGQ4MmQxMjg3NDdmMzk5ODNkM2I3MjYyZjdlMzYuc2V0Q29udGVudChodG1sX2FlMzI3MzZkMGM2ZDRjYmRiZmZhNWU2MjFhZWZkNWVkKTsKICAgICAgICAKCiAgICAgICAgY2lyY2xlX21hcmtlcl8yOTQxMzg1NTZhZGU0ZjAwOWFmYjg0NjY0OTgyMWQ2NS5iaW5kUG9wdXAocG9wdXBfZmRlNGQ4MmQxMjg3NDdmMzk5ODNkM2I3MjYyZjdlMzYpCiAgICAgICAgOwoKICAgICAgICAKICAgIAogICAgCiAgICAgICAgICAgIHZhciBjaXJjbGVfbWFya2VyXzIzYTZkNTA1ZjAxZjQyNmY4ZTA4MTI5MWExNzljN2Y3ID0gTC5jaXJjbGVNYXJrZXIoCiAgICAgICAgICAgICAgICBbNTMuODA2MTI4NCwgLTEuNzY4NjYwMl0sCiAgICAgICAgICAgICAgICB7ImJ1YmJsaW5nTW91c2VFdmVudHMiOiB0cnVlLCAiY29sb3IiOiAiYmx1ZSIsICJkYXNoQXJyYXkiOiBudWxsLCAiZGFzaE9mZnNldCI6IG51bGwsICJmaWxsIjogdHJ1ZSwgImZpbGxDb2xvciI6ICIjMzE4NmNjIiwgImZpbGxPcGFjaXR5IjogMC43LCAiZmlsbFJ1bGUiOiAiZXZlbm9kZCIsICJsaW5lQ2FwIjogInJvdW5kIiwgImxpbmVKb2luIjogInJvdW5kIiwgIm9wYWNpdHkiOiAxLjAsICJyYWRpdXMiOiA1LCAic3Ryb2tlIjogdHJ1ZSwgIndlaWdodCI6IDN9CiAgICAgICAgICAgICkuYWRkVG8obWFwXzdlOTlhZjBiMGU1MzQ3MTdiZDQ1YjdhNjY3MDMxYzRhKTsKICAgICAgICAKICAgIAogICAgICAgIHZhciBwb3B1cF8yNTlhZmY5MzcxOTA0ZjRkOWY2YmYxZmQ4MDE1NDllZCA9IEwucG9wdXAoeyJtYXhXaWR0aCI6ICIxMDAlIn0pOwoKICAgICAgICAKICAgICAgICAgICAgdmFyIGh0bWxfM2NjZGVmMTBkOGE1NDMxYjlhZjUyNzY0ZjVmYzQ2ODkgPSAkKGA8ZGl2IGlkPSJodG1sXzNjY2RlZjEwZDhhNTQzMWI5YWY1Mjc2NGY1ZmM0Njg5IiBzdHlsZT0id2lkdGg6IDEwMC4wJTsgaGVpZ2h0OiAxMDAuMCU7Ij5NQU5OSU5HSEFNLCBMb3c8L2Rpdj5gKVswXTsKICAgICAgICAgICAgcG9wdXBfMjU5YWZmOTM3MTkwNGY0ZDlmNmJmMWZkODAxNTQ5ZWQuc2V0Q29udGVudChodG1sXzNjY2RlZjEwZDhhNTQzMWI5YWY1Mjc2NGY1ZmM0Njg5KTsKICAgICAgICAKCiAgICAgICAgY2lyY2xlX21hcmtlcl8yM2E2ZDUwNWYwMWY0MjZmOGUwODEyOTFhMTc5YzdmNy5iaW5kUG9wdXAocG9wdXBfMjU5YWZmOTM3MTkwNGY0ZDlmNmJmMWZkODAxNTQ5ZWQpCiAgICAgICAgOwoKICAgICAgICAKICAgIAogICAgCiAgICAgICAgICAgIHZhciBjaXJjbGVfbWFya2VyXzMwYzhmN2Y2ZTcyYzQwMjg5M2I3NGY1ZjJjOGE1NDAwID0gTC5jaXJjbGVNYXJrZXIoCiAgICAgICAgICAgICAgICBbMTcuOTcxMjE0OCwgLTc2Ljc5MjgxMjhdLAogICAgICAgICAgICAgICAgeyJidWJibGluZ01vdXNlRXZlbnRzIjogdHJ1ZSwgImNvbG9yIjogImJsdWUiLCAiZGFzaEFycmF5IjogbnVsbCwgImRhc2hPZmZzZXQiOiBudWxsLCAiZmlsbCI6IHRydWUsICJmaWxsQ29sb3IiOiAiIzMxODZjYyIsICJmaWxsT3BhY2l0eSI6IDAuNywgImZpbGxSdWxlIjogImV2ZW5vZGQiLCAibGluZUNhcCI6ICJyb3VuZCIsICJsaW5lSm9pbiI6ICJyb3VuZCIsICJvcGFjaXR5IjogMS4wLCAicmFkaXVzIjogNSwgInN0cm9rZSI6IHRydWUsICJ3ZWlnaHQiOiAzfQogICAgICAgICAgICApLmFkZFRvKG1hcF83ZTk5YWYwYjBlNTM0NzE3YmQ0NWI3YTY2NzAzMWM0YSk7CiAgICAgICAgCiAgICAKICAgICAgICB2YXIgcG9wdXBfYWJhODZkNDc3MjY5NDIyYTgyYjRhZjJjOGUxZmYwN2QgPSBMLnBvcHVwKHsibWF4V2lkdGgiOiAiMTAwJSJ9KTsKCiAgICAgICAgCiAgICAgICAgICAgIHZhciBodG1sXzc1MzgzNDRiZTViNjQ0YzRhNzJiZjJkYWFkMWVhZDY0ID0gJChgPGRpdiBpZD0iaHRtbF83NTM4MzQ0YmU1YjY0NGM0YTcyYmYyZGFhZDFlYWQ2NCIgc3R5bGU9IndpZHRoOiAxMDAuMCU7IGhlaWdodDogMTAwLjAlOyI+S0lOR1NUT04sIExvdzwvZGl2PmApWzBdOwogICAgICAgICAgICBwb3B1cF9hYmE4NmQ0NzcyNjk0MjJhODJiNGFmMmM4ZTFmZjA3ZC5zZXRDb250ZW50KGh0bWxfNzUzODM0NGJlNWI2NDRjNGE3MmJmMmRhYWQxZWFkNjQpOwogICAgICAgIAoKICAgICAgICBjaXJjbGVfbWFya2VyXzMwYzhmN2Y2ZTcyYzQwMjg5M2I3NGY1ZjJjOGE1NDAwLmJpbmRQb3B1cChwb3B1cF9hYmE4NmQ0NzcyNjk0MjJhODJiNGFmMmM4ZTFmZjA3ZCkKICAgICAgICA7CgogICAgICAgIAogICAgCiAgICAKICAgICAgICAgICAgdmFyIGNpcmNsZV9tYXJrZXJfYzUwMzgyODZiMmRiNDI3NjhhMDlkMjVlZjFmZGYyNjkgPSBMLmNpcmNsZU1hcmtlcigKICAgICAgICAgICAgICAgIFstMzcuNjg4ODkzMTUsIDE0NS4xMDgzNDgxNTEzNjg0M10sCiAgICAgICAgICAgICAgICB7ImJ1YmJsaW5nTW91c2VFdmVudHMiOiB0cnVlLCAiY29sb3IiOiAiYmx1ZSIsICJkYXNoQXJyYXkiOiBudWxsLCAiZGFzaE9mZnNldCI6IG51bGwsICJmaWxsIjogdHJ1ZSwgImZpbGxDb2xvciI6ICIjMzE4NmNjIiwgImZpbGxPcGFjaXR5IjogMC43LCAiZmlsbFJ1bGUiOiAiZXZlbm9kZCIsICJsaW5lQ2FwIjogInJvdW5kIiwgImxpbmVKb2luIjogInJvdW5kIiwgIm9wYWNpdHkiOiAxLjAsICJyYWRpdXMiOiA1LCAic3Ryb2tlIjogdHJ1ZSwgIndlaWdodCI6IDN9CiAgICAgICAgICAgICkuYWRkVG8obWFwXzdlOTlhZjBiMGU1MzQ3MTdiZDQ1YjdhNjY3MDMxYzRhKTsKICAgICAgICAKICAgIAogICAgICAgIHZhciBwb3B1cF8yZjZiNmZkYWM4YTY0NDJhOTkwZDZjZTNmYjg1ODZkMCA9IEwucG9wdXAoeyJtYXhXaWR0aCI6ICIxMDAlIn0pOwoKICAgICAgICAKICAgICAgICAgICAgdmFyIGh0bWxfMjhhZDAxYWIxMmUxNGY0MDljMjM4ZWJkNzc5ZjQzOWEgPSAkKGA8ZGl2IGlkPSJodG1sXzI4YWQwMWFiMTJlMTRmNDA5YzIzOGViZDc3OWY0MzlhIiBzdHlsZT0id2lkdGg6IDEwMC4wJTsgaGVpZ2h0OiAxMDAuMCU7Ij5OSUxMVU1CSUssIExvdzwvZGl2PmApWzBdOwogICAgICAgICAgICBwb3B1cF8yZjZiNmZkYWM4YTY0NDJhOTkwZDZjZTNmYjg1ODZkMC5zZXRDb250ZW50KGh0bWxfMjhhZDAxYWIxMmUxNGY0MDljMjM4ZWJkNzc5ZjQzOWEpOwogICAgICAgIAoKICAgICAgICBjaXJjbGVfbWFya2VyX2M1MDM4Mjg2YjJkYjQyNzY4YTA5ZDI1ZWYxZmRmMjY5LmJpbmRQb3B1cChwb3B1cF8yZjZiNmZkYWM4YTY0NDJhOTkwZDZjZTNmYjg1ODZkMCkKICAgICAgICA7CgogICAgICAgIAogICAgCiAgICAKICAgICAgICAgICAgdmFyIGNpcmNsZV9tYXJrZXJfM2I0ODg4NTlmZmM5NDMxZjhiYmEyZmY0ZTAxMmFlZGQgPSBMLmNpcmNsZU1hcmtlcigKICAgICAgICAgICAgICAgIFs2MC43MjE1NzEsIC0xMzUuMDU0OTMyXSwKICAgICAgICAgICAgICAgIHsiYnViYmxpbmdNb3VzZUV2ZW50cyI6IHRydWUsICJjb2xvciI6ICJibHVlIiwgImRhc2hBcnJheSI6IG51bGwsICJkYXNoT2Zmc2V0IjogbnVsbCwgImZpbGwiOiB0cnVlLCAiZmlsbENvbG9yIjogIiMzMTg2Y2MiLCAiZmlsbE9wYWNpdHkiOiAwLjcsICJmaWxsUnVsZSI6ICJldmVub2RkIiwgImxpbmVDYXAiOiAicm91bmQiLCAibGluZUpvaW4iOiAicm91bmQiLCAib3BhY2l0eSI6IDEuMCwgInJhZGl1cyI6IDUsICJzdHJva2UiOiB0cnVlLCAid2VpZ2h0IjogM30KICAgICAgICAgICAgKS5hZGRUbyhtYXBfN2U5OWFmMGIwZTUzNDcxN2JkNDViN2E2NjcwMzFjNGEpOwogICAgICAgIAogICAgCiAgICAgICAgdmFyIHBvcHVwX2Y4YzI4M2M1MmUzZDQ3MTFiZDhkYTc3YjkyN2EwZjJlID0gTC5wb3B1cCh7Im1heFdpZHRoIjogIjEwMCUifSk7CgogICAgICAgIAogICAgICAgICAgICB2YXIgaHRtbF85ODNlODM1ZmY3MWQ0ZDM3YjhjOWE0YmY3MGIyOWE3MiA9ICQoYDxkaXYgaWQ9Imh0bWxfOTgzZTgzNWZmNzFkNGQzN2I4YzlhNGJmNzBiMjlhNzIiIHN0eWxlPSJ3aWR0aDogMTAwLjAlOyBoZWlnaHQ6IDEwMC4wJTsiPldISVRFSE9SU0UsIExvdzwvZGl2PmApWzBdOwogICAgICAgICAgICBwb3B1cF9mOGMyODNjNTJlM2Q0NzExYmQ4ZGE3N2I5MjdhMGYyZS5zZXRDb250ZW50KGh0bWxfOTgzZTgzNWZmNzFkNGQzN2I4YzlhNGJmNzBiMjlhNzIpOwogICAgICAgIAoKICAgICAgICBjaXJjbGVfbWFya2VyXzNiNDg4ODU5ZmZjOTQzMWY4YmJhMmZmNGUwMTJhZWRkLmJpbmRQb3B1cChwb3B1cF9mOGMyODNjNTJlM2Q0NzExYmQ4ZGE3N2I5MjdhMGYyZSkKICAgICAgICA7CgogICAgICAgIAogICAgCiAgICAKICAgICAgICAgICAgdmFyIGNpcmNsZV9tYXJrZXJfZDY3N2MyZjI5Y2U5NGM5NWI0OWRiZTY5OWJlYmQwMTQgPSBMLmNpcmNsZU1hcmtlcigKICAgICAgICAgICAgICAgIFstMzcuNzI5NTUyNiwgMTQ1LjQ5ODExOTVdLAogICAgICAgICAgICAgICAgeyJidWJibGluZ01vdXNlRXZlbnRzIjogdHJ1ZSwgImNvbG9yIjogImJsdWUiLCAiZGFzaEFycmF5IjogbnVsbCwgImRhc2hPZmZzZXQiOiBudWxsLCAiZmlsbCI6IHRydWUsICJmaWxsQ29sb3IiOiAiIzMxODZjYyIsICJmaWxsT3BhY2l0eSI6IDAuNywgImZpbGxSdWxlIjogImV2ZW5vZGQiLCAibGluZUNhcCI6ICJyb3VuZCIsICJsaW5lSm9pbiI6ICJyb3VuZCIsICJvcGFjaXR5IjogMS4wLCAicmFkaXVzIjogNSwgInN0cm9rZSI6IHRydWUsICJ3ZWlnaHQiOiAzfQogICAgICAgICAgICApLmFkZFRvKG1hcF83ZTk5YWYwYjBlNTM0NzE3YmQ0NWI3YTY2NzAzMWM0YSk7CiAgICAgICAgCiAgICAKICAgICAgICB2YXIgcG9wdXBfMzA3YWY5OTc3N2RlNDliZWEzZjNkNGJlOTIwZmU1ZGQgPSBMLnBvcHVwKHsibWF4V2lkdGgiOiAiMTAwJSJ9KTsKCiAgICAgICAgCiAgICAgICAgICAgIHZhciBodG1sXzM1MGUzNjI1YjY0NzQ3MTc5MTA5NzUzMWJmYmNiMjY1ID0gJChgPGRpdiBpZD0iaHRtbF8zNTBlMzYyNWI2NDc0NzE3OTEwOTc1MzFiZmJjYjI2NSIgc3R5bGU9IndpZHRoOiAxMDAuMCU7IGhlaWdodDogMTAwLjAlOyI+WUFSUkEgUkFOR0VTLCBMb3c8L2Rpdj5gKVswXTsKICAgICAgICAgICAgcG9wdXBfMzA3YWY5OTc3N2RlNDliZWEzZjNkNGJlOTIwZmU1ZGQuc2V0Q29udGVudChodG1sXzM1MGUzNjI1YjY0NzQ3MTc5MTA5NzUzMWJmYmNiMjY1KTsKICAgICAgICAKCiAgICAgICAgY2lyY2xlX21hcmtlcl9kNjc3YzJmMjljZTk0Yzk1YjQ5ZGJlNjk5YmViZDAxNC5iaW5kUG9wdXAocG9wdXBfMzA3YWY5OTc3N2RlNDliZWEzZjNkNGJlOTIwZmU1ZGQpCiAgICAgICAgOwoKICAgICAgICAKICAgIAogICAgCiAgICAgICAgICAgIHZhciBjaXJjbGVfbWFya2VyXzc0MjE0NDFkYzIxZDQ3NmY4NjQxNWIxNmZkNmE0N2Y0ID0gTC5jaXJjbGVNYXJrZXIoCiAgICAgICAgICAgICAgICBbLTM3Ljg0ODQ5LCAxNDQuOTM0NjVdLAogICAgICAgICAgICAgICAgeyJidWJibGluZ01vdXNlRXZlbnRzIjogdHJ1ZSwgImNvbG9yIjogImJsdWUiLCAiZGFzaEFycmF5IjogbnVsbCwgImRhc2hPZmZzZXQiOiBudWxsLCAiZmlsbCI6IHRydWUsICJmaWxsQ29sb3IiOiAiIzMxODZjYyIsICJmaWxsT3BhY2l0eSI6IDAuNywgImZpbGxSdWxlIjogImV2ZW5vZGQiLCAibGluZUNhcCI6ICJyb3VuZCIsICJsaW5lSm9pbiI6ICJyb3VuZCIsICJvcGFjaXR5IjogMS4wLCAicmFkaXVzIjogNSwgInN0cm9rZSI6IHRydWUsICJ3ZWlnaHQiOiAzfQogICAgICAgICAgICApLmFkZFRvKG1hcF83ZTk5YWYwYjBlNTM0NzE3YmQ0NWI3YTY2NzAzMWM0YSk7CiAgICAgICAgCiAgICAKICAgICAgICB2YXIgcG9wdXBfYzFhOTA0YmVjMWJmNDVhMmJjZjM5ZDQ0YzNmMjA4NTggPSBMLnBvcHVwKHsibWF4V2lkdGgiOiAiMTAwJSJ9KTsKCiAgICAgICAgCiAgICAgICAgICAgIHZhciBodG1sXzg2YTM5ZjA1ZjY5YjQ0MWZiZDAwYTAyYTJmOGI4YzBlID0gJChgPGRpdiBpZD0iaHRtbF84NmEzOWYwNWY2OWI0NDFmYmQwMGEwMmEyZjhiOGMwZSIgc3R5bGU9IndpZHRoOiAxMDAuMCU7IGhlaWdodDogMTAwLjAlOyI+SE9CU09OUyBCQVksIExvdzwvZGl2PmApWzBdOwogICAgICAgICAgICBwb3B1cF9jMWE5MDRiZWMxYmY0NWEyYmNmMzlkNDRjM2YyMDg1OC5zZXRDb250ZW50KGh0bWxfODZhMzlmMDVmNjliNDQxZmJkMDBhMDJhMmY4YjhjMGUpOwogICAgICAgIAoKICAgICAgICBjaXJjbGVfbWFya2VyXzc0MjE0NDFkYzIxZDQ3NmY4NjQxNWIxNmZkNmE0N2Y0LmJpbmRQb3B1cChwb3B1cF9jMWE5MDRiZWMxYmY0NWEyYmNmMzlkNDRjM2YyMDg1OCkKICAgICAgICA7CgogICAgICAgIAogICAgCiAgICAKICAgICAgICAgICAgdmFyIGNpcmNsZV9tYXJrZXJfNGFhYjMwYWNiNDBjNGIxMThiYzZlMTg4MjU2NzE2YjkgPSBMLmNpcmNsZU1hcmtlcigKICAgICAgICAgICAgICAgIFstMzcuOTg3NDksIDE0NS4yMTQ3OTIzXSwKICAgICAgICAgICAgICAgIHsiYnViYmxpbmdNb3VzZUV2ZW50cyI6IHRydWUsICJjb2xvciI6ICJibHVlIiwgImRhc2hBcnJheSI6IG51bGwsICJkYXNoT2Zmc2V0IjogbnVsbCwgImZpbGwiOiB0cnVlLCAiZmlsbENvbG9yIjogIiMzMTg2Y2MiLCAiZmlsbE9wYWNpdHkiOiAwLjcsICJmaWxsUnVsZSI6ICJldmVub2RkIiwgImxpbmVDYXAiOiAicm91bmQiLCAibGluZUpvaW4iOiAicm91bmQiLCAib3BhY2l0eSI6IDEuMCwgInJhZGl1cyI6IDUsICJzdHJva2UiOiB0cnVlLCAid2VpZ2h0IjogM30KICAgICAgICAgICAgKS5hZGRUbyhtYXBfN2U5OWFmMGIwZTUzNDcxN2JkNDViN2E2NjcwMzFjNGEpOwogICAgICAgIAogICAgCiAgICAgICAgdmFyIHBvcHVwXzUwOGM3YzM1M2Y3ODRiN2M4MzQ2YjJmMzVhNTZmYTY0ID0gTC5wb3B1cCh7Im1heFdpZHRoIjogIjEwMCUifSk7CgogICAgICAgIAogICAgICAgICAgICB2YXIgaHRtbF84MDVjMmU5NTM0ODk0NDgwYWI5ZDAxYWQ2NGU3Mjg3MSA9ICQoYDxkaXYgaWQ9Imh0bWxfODA1YzJlOTUzNDg5NDQ4MGFiOWQwMWFkNjRlNzI4NzEiIHN0eWxlPSJ3aWR0aDogMTAwLjAlOyBoZWlnaHQ6IDEwMC4wJTsiPkdSRUFURVIgREFOREVOT05HLCBMb3c8L2Rpdj5gKVswXTsKICAgICAgICAgICAgcG9wdXBfNTA4YzdjMzUzZjc4NGI3YzgzNDZiMmYzNWE1NmZhNjQuc2V0Q29udGVudChodG1sXzgwNWMyZTk1MzQ4OTQ0ODBhYjlkMDFhZDY0ZTcyODcxKTsKICAgICAgICAKCiAgICAgICAgY2lyY2xlX21hcmtlcl80YWFiMzBhY2I0MGM0YjExOGJjNmUxODgyNTY3MTZiOS5iaW5kUG9wdXAocG9wdXBfNTA4YzdjMzUzZjc4NGI3YzgzNDZiMmYzNWE1NmZhNjQpCiAgICAgICAgOwoKICAgICAgICAKICAgIAogICAgCiAgICAgICAgICAgIHZhciBjaXJjbGVfbWFya2VyXzc5Y2E4OWIyN2U5MDQyNGFhNzZiNWE1OWE5OWNhYWFiID0gTC5jaXJjbGVNYXJrZXIoCiAgICAgICAgICAgICAgICBbLTM4LjEzNDMyLCAxNDUuNDIxMTY2NjA2OTkyNDFdLAogICAgICAgICAgICAgICAgeyJidWJibGluZ01vdXNlRXZlbnRzIjogdHJ1ZSwgImNvbG9yIjogImJsdWUiLCAiZGFzaEFycmF5IjogbnVsbCwgImRhc2hPZmZzZXQiOiBudWxsLCAiZmlsbCI6IHRydWUsICJmaWxsQ29sb3IiOiAiIzMxODZjYyIsICJmaWxsT3BhY2l0eSI6IDAuNywgImZpbGxSdWxlIjogImV2ZW5vZGQiLCAibGluZUNhcCI6ICJyb3VuZCIsICJsaW5lSm9pbiI6ICJyb3VuZCIsICJvcGFjaXR5IjogMS4wLCAicmFkaXVzIjogNSwgInN0cm9rZSI6IHRydWUsICJ3ZWlnaHQiOiAzfQogICAgICAgICAgICApLmFkZFRvKG1hcF83ZTk5YWYwYjBlNTM0NzE3YmQ0NWI3YTY2NzAzMWM0YSk7CiAgICAgICAgCiAgICAKICAgICAgICB2YXIgcG9wdXBfZDliYTI5MDk2YmM1NDM3MGIwN2U4ODA5ZWYyMTE4NTYgPSBMLnBvcHVwKHsibWF4V2lkdGgiOiAiMTAwJSJ9KTsKCiAgICAgICAgCiAgICAgICAgICAgIHZhciBodG1sX2NmZTkxZGVhMGEzMDQ1YTdhNTNlMzVjMzZjMDg2NTE3ID0gJChgPGRpdiBpZD0iaHRtbF9jZmU5MWRlYTBhMzA0NWE3YTUzZTM1YzM2YzA4NjUxNyIgc3R5bGU9IndpZHRoOiAxMDAuMCU7IGhlaWdodDogMTAwLjAlOyI+Q0FSRElOSUEsIExvdzwvZGl2PmApWzBdOwogICAgICAgICAgICBwb3B1cF9kOWJhMjkwOTZiYzU0MzcwYjA3ZTg4MDllZjIxMTg1Ni5zZXRDb250ZW50KGh0bWxfY2ZlOTFkZWEwYTMwNDVhN2E1M2UzNWMzNmMwODY1MTcpOwogICAgICAgIAoKICAgICAgICBjaXJjbGVfbWFya2VyXzc5Y2E4OWIyN2U5MDQyNGFhNzZiNWE1OWE5OWNhYWFiLmJpbmRQb3B1cChwb3B1cF9kOWJhMjkwOTZiYzU0MzcwYjA3ZTg4MDllZjIxMTg1NikKICAgICAgICA7CgogICAgICAgIAogICAgCiAgICAKICAgICAgICAgICAgdmFyIGNpcmNsZV9tYXJrZXJfNjAwNmIwMzk3NWYxNDE2MWIzZTZkNTI2YjBjM2M2MjYgPSBMLmNpcmNsZU1hcmtlcigKICAgICAgICAgICAgICAgIFstMzcuNzY5NTE0NCwgMTQ0Ljg5MDIwNDldLAogICAgICAgICAgICAgICAgeyJidWJibGluZ01vdXNlRXZlbnRzIjogdHJ1ZSwgImNvbG9yIjogImJsdWUiLCAiZGFzaEFycmF5IjogbnVsbCwgImRhc2hPZmZzZXQiOiBudWxsLCAiZmlsbCI6IHRydWUsICJmaWxsQ29sb3IiOiAiIzMxODZjYyIsICJmaWxsT3BhY2l0eSI6IDAuNywgImZpbGxSdWxlIjogImV2ZW5vZGQiLCAibGluZUNhcCI6ICJyb3VuZCIsICJsaW5lSm9pbiI6ICJyb3VuZCIsICJvcGFjaXR5IjogMS4wLCAicmFkaXVzIjogNSwgInN0cm9rZSI6IHRydWUsICJ3ZWlnaHQiOiAzfQogICAgICAgICAgICApLmFkZFRvKG1hcF83ZTk5YWYwYjBlNTM0NzE3YmQ0NWI3YTY2NzAzMWM0YSk7CiAgICAgICAgCiAgICAKICAgICAgICB2YXIgcG9wdXBfZTVlMDE3YzJjZmE2NDNhYmFiNTI5MmRkYTMxYzQxNTggPSBMLnBvcHVwKHsibWF4V2lkdGgiOiAiMTAwJSJ9KTsKCiAgICAgICAgCiAgICAgICAgICAgIHZhciBodG1sXzdlYjZlNWMyYzU1YTQxNjRiNGZkODljNzZkMGI4NWUxID0gJChgPGRpdiBpZD0iaHRtbF83ZWI2ZTVjMmM1NWE0MTY0YjRmZDg5Yzc2ZDBiODVlMSIgc3R5bGU9IndpZHRoOiAxMDAuMCU7IGhlaWdodDogMTAwLjAlOyI+TUFSSUJZUk5PTkcsIExvdzwvZGl2PmApWzBdOwogICAgICAgICAgICBwb3B1cF9lNWUwMTdjMmNmYTY0M2FiYWI1MjkyZGRhMzFjNDE1OC5zZXRDb250ZW50KGh0bWxfN2ViNmU1YzJjNTVhNDE2NGI0ZmQ4OWM3NmQwYjg1ZTEpOwogICAgICAgIAoKICAgICAgICBjaXJjbGVfbWFya2VyXzYwMDZiMDM5NzVmMTQxNjFiM2U2ZDUyNmIwYzNjNjI2LmJpbmRQb3B1cChwb3B1cF9lNWUwMTdjMmNmYTY0M2FiYWI1MjkyZGRhMzFjNDE1OCkKICAgICAgICA7CgogICAgICAgIAogICAgCiAgICAKICAgICAgICAgICAgdmFyIGNpcmNsZV9tYXJrZXJfYzU3ZTI1NDEzMTBiNDUxMzlkM2VmNjkwMTViODJmM2QgPSBMLmNpcmNsZU1hcmtlcigKICAgICAgICAgICAgICAgIFszMy41ODcxMzg1LCAtOTkuNzA3MzYyMV0sCiAgICAgICAgICAgICAgICB7ImJ1YmJsaW5nTW91c2VFdmVudHMiOiB0cnVlLCAiY29sb3IiOiAiYmx1ZSIsICJkYXNoQXJyYXkiOiBudWxsLCAiZGFzaE9mZnNldCI6IG51bGwsICJmaWxsIjogdHJ1ZSwgImZpbGxDb2xvciI6ICIjMzE4NmNjIiwgImZpbGxPcGFjaXR5IjogMC43LCAiZmlsbFJ1bGUiOiAiZXZlbm9kZCIsICJsaW5lQ2FwIjogInJvdW5kIiwgImxpbmVKb2luIjogInJvdW5kIiwgIm9wYWNpdHkiOiAxLjAsICJyYWRpdXMiOiA1LCAic3Ryb2tlIjogdHJ1ZSwgIndlaWdodCI6IDN9CiAgICAgICAgICAgICkuYWRkVG8obWFwXzdlOTlhZjBiMGU1MzQ3MTdiZDQ1YjdhNjY3MDMxYzRhKTsKICAgICAgICAKICAgIAogICAgICAgIHZhciBwb3B1cF81NmVhMWJiN2U0NWQ0MjkyYjliNWI0YjY0YWMyZjI3NiA9IEwucG9wdXAoeyJtYXhXaWR0aCI6ICIxMDAlIn0pOwoKICAgICAgICAKICAgICAgICAgICAgdmFyIGh0bWxfYWQyMmI2NTc4ZTNlNDVhOGEyMmE2MTdhMTE1NzcyZDkgPSAkKGA8ZGl2IGlkPSJodG1sX2FkMjJiNjU3OGUzZTQ1YThhMjJhNjE3YTExNTc3MmQ5IiBzdHlsZT0id2lkdGg6IDEwMC4wJTsgaGVpZ2h0OiAxMDAuMCU7Ij5LTk9YLCBMb3c8L2Rpdj5gKVswXTsKICAgICAgICAgICAgcG9wdXBfNTZlYTFiYjdlNDVkNDI5MmI5YjViNGI2NGFjMmYyNzYuc2V0Q29udGVudChodG1sX2FkMjJiNjU3OGUzZTQ1YThhMjJhNjE3YTExNTc3MmQ5KTsKICAgICAgICAKCiAgICAgICAgY2lyY2xlX21hcmtlcl9jNTdlMjU0MTMxMGI0NTEzOWQzZWY2OTAxNWI4MmYzZC5iaW5kUG9wdXAocG9wdXBfNTZlYTFiYjdlNDVkNDI5MmI5YjViNGI2NGFjMmYyNzYpCiAgICAgICAgOwoKICAgICAgICAKICAgIAogICAgCiAgICAgICAgICAgIHZhciBjaXJjbGVfbWFya2VyXzAxOTczODExOGM1NTQ0YTk5ZDIxYzJlMTY4NDc1YTEyID0gTC5jaXJjbGVNYXJrZXIoCiAgICAgICAgICAgICAgICBbLTM3LjgwMzc5NjA1LCAxNDUuMjYxMzMyNzE3OTUyNzddLAogICAgICAgICAgICAgICAgeyJidWJibGluZ01vdXNlRXZlbnRzIjogdHJ1ZSwgImNvbG9yIjogImJsdWUiLCAiZGFzaEFycmF5IjogbnVsbCwgImRhc2hPZmZzZXQiOiBudWxsLCAiZmlsbCI6IHRydWUsICJmaWxsQ29sb3IiOiAiIzMxODZjYyIsICJmaWxsT3BhY2l0eSI6IDAuNywgImZpbGxSdWxlIjogImV2ZW5vZGQiLCAibGluZUNhcCI6ICJyb3VuZCIsICJsaW5lSm9pbiI6ICJyb3VuZCIsICJvcGFjaXR5IjogMS4wLCAicmFkaXVzIjogNSwgInN0cm9rZSI6IHRydWUsICJ3ZWlnaHQiOiAzfQogICAgICAgICAgICApLmFkZFRvKG1hcF83ZTk5YWYwYjBlNTM0NzE3YmQ0NWI3YTY2NzAzMWM0YSk7CiAgICAgICAgCiAgICAKICAgICAgICB2YXIgcG9wdXBfYzYyMTJjNzNmZDZhNGVlOGI4ZDQ5NGQzOWQ3ZjliYjcgPSBMLnBvcHVwKHsibWF4V2lkdGgiOiAiMTAwJSJ9KTsKCiAgICAgICAgCiAgICAgICAgICAgIHZhciBodG1sXzQzOGVkYjIwZjQ3ZTRiYjNhMjg0NDRiYTA2NmE1ZTgwID0gJChgPGRpdiBpZD0iaHRtbF80MzhlZGIyMGY0N2U0YmIzYTI4NDQ0YmEwNjZhNWU4MCIgc3R5bGU9IndpZHRoOiAxMDAuMCU7IGhlaWdodDogMTAwLjAlOyI+TUFST09OREFILCBMb3c8L2Rpdj5gKVswXTsKICAgICAgICAgICAgcG9wdXBfYzYyMTJjNzNmZDZhNGVlOGI4ZDQ5NGQzOWQ3ZjliYjcuc2V0Q29udGVudChodG1sXzQzOGVkYjIwZjQ3ZTRiYjNhMjg0NDRiYTA2NmE1ZTgwKTsKICAgICAgICAKCiAgICAgICAgY2lyY2xlX21hcmtlcl8wMTk3MzgxMThjNTU0NGE5OWQyMWMyZTE2ODQ3NWExMi5iaW5kUG9wdXAocG9wdXBfYzYyMTJjNzNmZDZhNGVlOGI4ZDQ5NGQzOWQ3ZjliYjcpCiAgICAgICAgOwoKICAgICAgICAKICAgIAogICAgCiAgICAgICAgICAgIHZhciBjaXJjbGVfbWFya2VyX2UyZDYxMDc3MTRmZDQzZDZhYTAxY2M0NjhjYjFjYjVhID0gTC5jaXJjbGVNYXJrZXIoCiAgICAgICAgICAgICAgICBbLTM2LjM4NTYyNDM1LCAxNDUuNDE1MTAxNTgyNTc5MzhdLAogICAgICAgICAgICAgICAgeyJidWJibGluZ01vdXNlRXZlbnRzIjogdHJ1ZSwgImNvbG9yIjogImJsdWUiLCAiZGFzaEFycmF5IjogbnVsbCwgImRhc2hPZmZzZXQiOiBudWxsLCAiZmlsbCI6IHRydWUsICJmaWxsQ29sb3IiOiAiIzMxODZjYyIsICJmaWxsT3BhY2l0eSI6IDAuNywgImZpbGxSdWxlIjogImV2ZW5vZGQiLCAibGluZUNhcCI6ICJyb3VuZCIsICJsaW5lSm9pbiI6ICJyb3VuZCIsICJvcGFjaXR5IjogMS4wLCAicmFkaXVzIjogNSwgInN0cm9rZSI6IHRydWUsICJ3ZWlnaHQiOiAzfQogICAgICAgICAgICApLmFkZFRvKG1hcF83ZTk5YWYwYjBlNTM0NzE3YmQ0NWI3YTY2NzAzMWM0YSk7CiAgICAgICAgCiAgICAKICAgICAgICB2YXIgcG9wdXBfZmQ2MTkyZjA0NTNlNGU4ZjgwN2JhYTE1MDA4ODNiODcgPSBMLnBvcHVwKHsibWF4V2lkdGgiOiAiMTAwJSJ9KTsKCiAgICAgICAgCiAgICAgICAgICAgIHZhciBodG1sXzFiNTQ1NzJmNTg2MTQ4Y2ViMDRiMjNkOGQxYTY5NjVjID0gJChgPGRpdiBpZD0iaHRtbF8xYjU0NTcyZjU4NjE0OGNlYjA0YjIzZDhkMWE2OTY1YyIgc3R5bGU9IndpZHRoOiAxMDAuMCU7IGhlaWdodDogMTAwLjAlOyI+R1JFQVRFUiBTSEVQUEFSVE9OLCBMb3c8L2Rpdj5gKVswXTsKICAgICAgICAgICAgcG9wdXBfZmQ2MTkyZjA0NTNlNGU4ZjgwN2JhYTE1MDA4ODNiODcuc2V0Q29udGVudChodG1sXzFiNTQ1NzJmNTg2MTQ4Y2ViMDRiMjNkOGQxYTY5NjVjKTsKICAgICAgICAKCiAgICAgICAgY2lyY2xlX21hcmtlcl9lMmQ2MTA3NzE0ZmQ0M2Q2YWEwMWNjNDY4Y2IxY2I1YS5iaW5kUG9wdXAocG9wdXBfZmQ2MTkyZjA0NTNlNGU4ZjgwN2JhYTE1MDA4ODNiODcpCiAgICAgICAgOwoKICAgICAgICAKICAgIAogICAgCiAgICAgICAgICAgIHZhciBjaXJjbGVfbWFya2VyX2U3NDE1ZTlmMzg4ZDQ0ZTFhZmNkODRmN2I4ZTlhMWU1ID0gTC5jaXJjbGVNYXJrZXIoCiAgICAgICAgICAgICAgICBbLTQxLjI4ODc5NTMsIDE3NC43NzcyMTE0XSwKICAgICAgICAgICAgICAgIHsiYnViYmxpbmdNb3VzZUV2ZW50cyI6IHRydWUsICJjb2xvciI6ICJibHVlIiwgImRhc2hBcnJheSI6IG51bGwsICJkYXNoT2Zmc2V0IjogbnVsbCwgImZpbGwiOiB0cnVlLCAiZmlsbENvbG9yIjogIiMzMTg2Y2MiLCAiZmlsbE9wYWNpdHkiOiAwLjcsICJmaWxsUnVsZSI6ICJldmVub2RkIiwgImxpbmVDYXAiOiAicm91bmQiLCAibGluZUpvaW4iOiAicm91bmQiLCAib3BhY2l0eSI6IDEuMCwgInJhZGl1cyI6IDUsICJzdHJva2UiOiB0cnVlLCAid2VpZ2h0IjogM30KICAgICAgICAgICAgKS5hZGRUbyhtYXBfN2U5OWFmMGIwZTUzNDcxN2JkNDViN2E2NjcwMzFjNGEpOwogICAgICAgIAogICAgCiAgICAgICAgdmFyIHBvcHVwXzIzMzk3YjJmMzcxYzQ1N2Y4MWFjOGQ1ZjFhMjAwYjMxID0gTC5wb3B1cCh7Im1heFdpZHRoIjogIjEwMCUifSk7CgogICAgICAgIAogICAgICAgICAgICB2YXIgaHRtbF80ZjQyZDVmODBlZDA0OGMwODVhMjM4Yjk5MDFhNmE4MiA9ICQoYDxkaXYgaWQ9Imh0bWxfNGY0MmQ1ZjgwZWQwNDhjMDg1YTIzOGI5OTAxYTZhODIiIHN0eWxlPSJ3aWR0aDogMTAwLjAlOyBoZWlnaHQ6IDEwMC4wJTsiPldFTExJTkdUT04sIExvdzwvZGl2PmApWzBdOwogICAgICAgICAgICBwb3B1cF8yMzM5N2IyZjM3MWM0NTdmODFhYzhkNWYxYTIwMGIzMS5zZXRDb250ZW50KGh0bWxfNGY0MmQ1ZjgwZWQwNDhjMDg1YTIzOGI5OTAxYTZhODIpOwogICAgICAgIAoKICAgICAgICBjaXJjbGVfbWFya2VyX2U3NDE1ZTlmMzg4ZDQ0ZTFhZmNkODRmN2I4ZTlhMWU1LmJpbmRQb3B1cChwb3B1cF8yMzM5N2IyZjM3MWM0NTdmODFhYzhkNWYxYTIwMGIzMSkKICAgICAgICA7CgogICAgICAgIAogICAgCiAgICAKICAgICAgICAgICAgdmFyIGNpcmNsZV9tYXJrZXJfZjZkNDhlZTM5NTNjNGE0NDllN2RjMWVkYWZkNjVmMzggPSBMLmNpcmNsZU1hcmtlcigKICAgICAgICAgICAgICAgIFstMzcuNTYyMjYzMiwgMTQzLjg2MDcyMTVdLAogICAgICAgICAgICAgICAgeyJidWJibGluZ01vdXNlRXZlbnRzIjogdHJ1ZSwgImNvbG9yIjogImJsdWUiLCAiZGFzaEFycmF5IjogbnVsbCwgImRhc2hPZmZzZXQiOiBudWxsLCAiZmlsbCI6IHRydWUsICJmaWxsQ29sb3IiOiAiIzMxODZjYyIsICJmaWxsT3BhY2l0eSI6IDAuNywgImZpbGxSdWxlIjogImV2ZW5vZGQiLCAibGluZUNhcCI6ICJyb3VuZCIsICJsaW5lSm9pbiI6ICJyb3VuZCIsICJvcGFjaXR5IjogMS4wLCAicmFkaXVzIjogNSwgInN0cm9rZSI6IHRydWUsICJ3ZWlnaHQiOiAzfQogICAgICAgICAgICApLmFkZFRvKG1hcF83ZTk5YWYwYjBlNTM0NzE3YmQ0NWI3YTY2NzAzMWM0YSk7CiAgICAgICAgCiAgICAKICAgICAgICB2YXIgcG9wdXBfMDZjYTM2MWViOGNmNGQwYTkwNGEwNWExNTM3NDg2N2UgPSBMLnBvcHVwKHsibWF4V2lkdGgiOiAiMTAwJSJ9KTsKCiAgICAgICAgCiAgICAgICAgICAgIHZhciBodG1sXzE1Mjc1MmNmNWVhYjQ1NWE5ZjlkY2QxZjZkMTRkNjM5ID0gJChgPGRpdiBpZD0iaHRtbF8xNTI3NTJjZjVlYWI0NTVhOWY5ZGNkMWY2ZDE0ZDYzOSIgc3R5bGU9IndpZHRoOiAxMDAuMCU7IGhlaWdodDogMTAwLjAlOyI+QkFMTEFSQVQsIExvdzwvZGl2PmApWzBdOwogICAgICAgICAgICBwb3B1cF8wNmNhMzYxZWI4Y2Y0ZDBhOTA0YTA1YTE1Mzc0ODY3ZS5zZXRDb250ZW50KGh0bWxfMTUyNzUyY2Y1ZWFiNDU1YTlmOWRjZDFmNmQxNGQ2MzkpOwogICAgICAgIAoKICAgICAgICBjaXJjbGVfbWFya2VyX2Y2ZDQ4ZWUzOTUzYzRhNDQ5ZTdkYzFlZGFmZDY1ZjM4LmJpbmRQb3B1cChwb3B1cF8wNmNhMzYxZWI4Y2Y0ZDBhOTA0YTA1YTE1Mzc0ODY3ZSkKICAgICAgICA7CgogICAgICAgIAogICAgCiAgICAKICAgICAgICAgICAgdmFyIGNpcmNsZV9tYXJrZXJfNzIxY2VmYjdkOTQxNGM2Yzg1Mjk5ZWU4YWM5ZTI5YTggPSBMLmNpcmNsZU1hcmtlcigKICAgICAgICAgICAgICAgIFs0NC44MTgxMzMsIC03NC41NTU5NjldLAogICAgICAgICAgICAgICAgeyJidWJibGluZ01vdXNlRXZlbnRzIjogdHJ1ZSwgImNvbG9yIjogImJsdWUiLCAiZGFzaEFycmF5IjogbnVsbCwgImRhc2hPZmZzZXQiOiBudWxsLCAiZmlsbCI6IHRydWUsICJmaWxsQ29sb3IiOiAiIzMxODZjYyIsICJmaWxsT3BhY2l0eSI6IDAuNywgImZpbGxSdWxlIjogImV2ZW5vZGQiLCAibGluZUNhcCI6ICJyb3VuZCIsICJsaW5lSm9pbiI6ICJyb3VuZCIsICJvcGFjaXR5IjogMS4wLCAicmFkaXVzIjogNSwgInN0cm9rZSI6IHRydWUsICJ3ZWlnaHQiOiAzfQogICAgICAgICAgICApLmFkZFRvKG1hcF83ZTk5YWYwYjBlNTM0NzE3YmQ0NWI3YTY2NzAzMWM0YSk7CiAgICAgICAgCiAgICAKICAgICAgICB2YXIgcG9wdXBfZmMzOTNmNGUzOGExNDYwNzkxY2VhNDU5NDJmYTcwYmIgPSBMLnBvcHVwKHsibWF4V2lkdGgiOiAiMTAwJSJ9KTsKCiAgICAgICAgCiAgICAgICAgICAgIHZhciBodG1sXzBkODU3MTY5NTZkZTQxYmRhNDNiYzI5OWQ4ZmExYTJlID0gJChgPGRpdiBpZD0iaHRtbF8wZDg1NzE2OTU2ZGU0MWJkYTQzYmMyOTlkOGZhMWEyZSIgc3R5bGU9IndpZHRoOiAxMDAuMCU7IGhlaWdodDogMTAwLjAlOyI+TU9JUkEsIExvdzwvZGl2PmApWzBdOwogICAgICAgICAgICBwb3B1cF9mYzM5M2Y0ZTM4YTE0NjA3OTFjZWE0NTk0MmZhNzBiYi5zZXRDb250ZW50KGh0bWxfMGQ4NTcxNjk1NmRlNDFiZGE0M2JjMjk5ZDhmYTFhMmUpOwogICAgICAgIAoKICAgICAgICBjaXJjbGVfbWFya2VyXzcyMWNlZmI3ZDk0MTRjNmM4NTI5OWVlOGFjOWUyOWE4LmJpbmRQb3B1cChwb3B1cF9mYzM5M2Y0ZTM4YTE0NjA3OTFjZWE0NTk0MmZhNzBiYikKICAgICAgICA7CgogICAgICAgIAogICAgCiAgICAKICAgICAgICAgICAgdmFyIGNpcmNsZV9tYXJrZXJfZDNlODAyMWY0OGYxNDQwMzg4NGZhMzQyZGM5NjM5MGIgPSBMLmNpcmNsZU1hcmtlcigKICAgICAgICAgICAgICAgIFszMi4yODk4MDQ5LCAtMTAwLjkyMTMwMDNdLAogICAgICAgICAgICAgICAgeyJidWJibGluZ01vdXNlRXZlbnRzIjogdHJ1ZSwgImNvbG9yIjogImJsdWUiLCAiZGFzaEFycmF5IjogbnVsbCwgImRhc2hPZmZzZXQiOiBudWxsLCAiZmlsbCI6IHRydWUsICJmaWxsQ29sb3IiOiAiIzMxODZjYyIsICJmaWxsT3BhY2l0eSI6IDAuNywgImZpbGxSdWxlIjogImV2ZW5vZGQiLCAibGluZUNhcCI6ICJyb3VuZCIsICJsaW5lSm9pbiI6ICJyb3VuZCIsICJvcGFjaXR5IjogMS4wLCAicmFkaXVzIjogNSwgInN0cm9rZSI6IHRydWUsICJ3ZWlnaHQiOiAzfQogICAgICAgICAgICApLmFkZFRvKG1hcF83ZTk5YWYwYjBlNTM0NzE3YmQ0NWI3YTY2NzAzMWM0YSk7CiAgICAgICAgCiAgICAKICAgICAgICB2YXIgcG9wdXBfY2FjMzViYjkwNTAyNGQ4OGI5MzMxYjIzZDBjYjc1NDcgPSBMLnBvcHVwKHsibWF4V2lkdGgiOiAiMTAwJSJ9KTsKCiAgICAgICAgCiAgICAgICAgICAgIHZhciBodG1sX2YxZDdhNmM2ODRjNjQ4MWI4NGNmNzc0NjJmNjUxNzM4ID0gJChgPGRpdiBpZD0iaHRtbF9mMWQ3YTZjNjg0YzY0ODFiODRjZjc3NDYyZjY1MTczOCIgc3R5bGU9IndpZHRoOiAxMDAuMCU7IGhlaWdodDogMTAwLjAlOyI+TUlUQ0hFTEwsIExvdzwvZGl2PmApWzBdOwogICAgICAgICAgICBwb3B1cF9jYWMzNWJiOTA1MDI0ZDg4YjkzMzFiMjNkMGNiNzU0Ny5zZXRDb250ZW50KGh0bWxfZjFkN2E2YzY4NGM2NDgxYjg0Y2Y3NzQ2MmY2NTE3MzgpOwogICAgICAgIAoKICAgICAgICBjaXJjbGVfbWFya2VyX2QzZTgwMjFmNDhmMTQ0MDM4ODRmYTM0MmRjOTYzOTBiLmJpbmRQb3B1cChwb3B1cF9jYWMzNWJiOTA1MDI0ZDg4YjkzMzFiMjNkMGNiNzU0NykKICAgICAgICA7CgogICAgICAgIAogICAgCiAgICAKICAgICAgICAgICAgdmFyIGNpcmNsZV9tYXJrZXJfZDNhYzE4NmQ1MzJiNGM2ODlkZDNiMGJmZWZhYThlOWIgPSBMLmNpcmNsZU1hcmtlcigKICAgICAgICAgICAgICAgIFstMzcuNDIxNDI2NywgMTQ0LjU2MzY0NDddLAogICAgICAgICAgICAgICAgeyJidWJibGluZ01vdXNlRXZlbnRzIjogdHJ1ZSwgImNvbG9yIjogImJsdWUiLCAiZGFzaEFycmF5IjogbnVsbCwgImRhc2hPZmZzZXQiOiBudWxsLCAiZmlsbCI6IHRydWUsICJmaWxsQ29sb3IiOiAiIzMxODZjYyIsICJmaWxsT3BhY2l0eSI6IDAuNywgImZpbGxSdWxlIjogImV2ZW5vZGQiLCAibGluZUNhcCI6ICJyb3VuZCIsICJsaW5lSm9pbiI6ICJyb3VuZCIsICJvcGFjaXR5IjogMS4wLCAicmFkaXVzIjogNSwgInN0cm9rZSI6IHRydWUsICJ3ZWlnaHQiOiAzfQogICAgICAgICAgICApLmFkZFRvKG1hcF83ZTk5YWYwYjBlNTM0NzE3YmQ0NWI3YTY2NzAzMWM0YSk7CiAgICAgICAgCiAgICAKICAgICAgICB2YXIgcG9wdXBfMmJhMTk2MDU3NWM5NDRjOGEzMGY2MzQyNGYyMmVjNTcgPSBMLnBvcHVwKHsibWF4V2lkdGgiOiAiMTAwJSJ9KTsKCiAgICAgICAgCiAgICAgICAgICAgIHZhciBodG1sXzVlYzc4MTU3OTZhZTQwYzFhNDFjNmMzYWIwYWNhNzg5ID0gJChgPGRpdiBpZD0iaHRtbF81ZWM3ODE1Nzk2YWU0MGMxYTQxYzZjM2FiMGFjYTc4OSIgc3R5bGU9IndpZHRoOiAxMDAuMCU7IGhlaWdodDogMTAwLjAlOyI+TUFDRURPTiBSQU5HRVMsIExvdzwvZGl2PmApWzBdOwogICAgICAgICAgICBwb3B1cF8yYmExOTYwNTc1Yzk0NGM4YTMwZjYzNDI0ZjIyZWM1Ny5zZXRDb250ZW50KGh0bWxfNWVjNzgxNTc5NmFlNDBjMWE0MWM2YzNhYjBhY2E3ODkpOwogICAgICAgIAoKICAgICAgICBjaXJjbGVfbWFya2VyX2QzYWMxODZkNTMyYjRjNjg5ZGQzYjBiZmVmYWE4ZTliLmJpbmRQb3B1cChwb3B1cF8yYmExOTYwNTc1Yzk0NGM4YTMwZjYzNDI0ZjIyZWM1NykKICAgICAgICA7CgogICAgICAgIAogICAgCiAgICAKICAgICAgICAgICAgdmFyIGNpcmNsZV9tYXJrZXJfMTY2ZmZkNDhlNjQyNDAzMTg1NzM0NjNlNmI4Mjc0MTUgPSBMLmNpcmNsZU1hcmtlcigKICAgICAgICAgICAgICAgIFstMzguMzM5NzE0MywgMTQ0LjA5NzgyNjQ5NTExMzk0XSwKICAgICAgICAgICAgICAgIHsiYnViYmxpbmdNb3VzZUV2ZW50cyI6IHRydWUsICJjb2xvciI6ICJibHVlIiwgImRhc2hBcnJheSI6IG51bGwsICJkYXNoT2Zmc2V0IjogbnVsbCwgImZpbGwiOiB0cnVlLCAiZmlsbENvbG9yIjogIiMzMTg2Y2MiLCAiZmlsbE9wYWNpdHkiOiAwLjcsICJmaWxsUnVsZSI6ICJldmVub2RkIiwgImxpbmVDYXAiOiAicm91bmQiLCAibGluZUpvaW4iOiAicm91bmQiLCAib3BhY2l0eSI6IDEuMCwgInJhZGl1cyI6IDUsICJzdHJva2UiOiB0cnVlLCAid2VpZ2h0IjogM30KICAgICAgICAgICAgKS5hZGRUbyhtYXBfN2U5OWFmMGIwZTUzNDcxN2JkNDViN2E2NjcwMzFjNGEpOwogICAgICAgIAogICAgCiAgICAgICAgdmFyIHBvcHVwXzc2ZjYzNDE2M2RkMDRkYmY5NjVmOTg2NTllMGMzNzQyID0gTC5wb3B1cCh7Im1heFdpZHRoIjogIjEwMCUifSk7CgogICAgICAgIAogICAgICAgICAgICB2YXIgaHRtbF83NmZjODEwNjZiZjk0Zjg1OGZiMWVkYTU0ODczNTc5MCA9ICQoYDxkaXYgaWQ9Imh0bWxfNzZmYzgxMDY2YmY5NGY4NThmYjFlZGE1NDg3MzU3OTAiIHN0eWxlPSJ3aWR0aDogMTAwLjAlOyBoZWlnaHQ6IDEwMC4wJTsiPlNVUkYgQ09BU1QsIExvdzwvZGl2PmApWzBdOwogICAgICAgICAgICBwb3B1cF83NmY2MzQxNjNkZDA0ZGJmOTY1Zjk4NjU5ZTBjMzc0Mi5zZXRDb250ZW50KGh0bWxfNzZmYzgxMDY2YmY5NGY4NThmYjFlZGE1NDg3MzU3OTApOwogICAgICAgIAoKICAgICAgICBjaXJjbGVfbWFya2VyXzE2NmZmZDQ4ZTY0MjQwMzE4NTczNDYzZTZiODI3NDE1LmJpbmRQb3B1cChwb3B1cF83NmY2MzQxNjNkZDA0ZGJmOTY1Zjk4NjU5ZTBjMzc0MikKICAgICAgICA7CgogICAgICAgIAogICAgCiAgICAKICAgICAgICAgICAgdmFyIGNpcmNsZV9tYXJrZXJfODAzNGZjZDI1ZGIyNDc5Yzk4NjJiNmU4MzMwZjU0ODIgPSBMLmNpcmNsZU1hcmtlcigKICAgICAgICAgICAgICAgIFstMzYuNzU4ODc2NywgMTQ0LjI4MjU5MzFdLAogICAgICAgICAgICAgICAgeyJidWJibGluZ01vdXNlRXZlbnRzIjogdHJ1ZSwgImNvbG9yIjogImJsdWUiLCAiZGFzaEFycmF5IjogbnVsbCwgImRhc2hPZmZzZXQiOiBudWxsLCAiZmlsbCI6IHRydWUsICJmaWxsQ29sb3IiOiAiIzMxODZjYyIsICJmaWxsT3BhY2l0eSI6IDAuNywgImZpbGxSdWxlIjogImV2ZW5vZGQiLCAibGluZUNhcCI6ICJyb3VuZCIsICJsaW5lSm9pbiI6ICJyb3VuZCIsICJvcGFjaXR5IjogMS4wLCAicmFkaXVzIjogNSwgInN0cm9rZSI6IHRydWUsICJ3ZWlnaHQiOiAzfQogICAgICAgICAgICApLmFkZFRvKG1hcF83ZTk5YWYwYjBlNTM0NzE3YmQ0NWI3YTY2NzAzMWM0YSk7CiAgICAgICAgCiAgICAKICAgICAgICB2YXIgcG9wdXBfMDAwMjI2MThlNzljNDNjNmE2MjczNDI2ZTQ1MzcwNzAgPSBMLnBvcHVwKHsibWF4V2lkdGgiOiAiMTAwJSJ9KTsKCiAgICAgICAgCiAgICAgICAgICAgIHZhciBodG1sXzFiYmQ5NTQ5MmYwYzQ3NDdhYmFjNjY3ZGJlNDkwOWY2ID0gJChgPGRpdiBpZD0iaHRtbF8xYmJkOTU0OTJmMGM0NzQ3YWJhYzY2N2RiZTQ5MDlmNiIgc3R5bGU9IndpZHRoOiAxMDAuMCU7IGhlaWdodDogMTAwLjAlOyI+R1JFQVRFUiBCRU5ESUdPLCBMb3c8L2Rpdj5gKVswXTsKICAgICAgICAgICAgcG9wdXBfMDAwMjI2MThlNzljNDNjNmE2MjczNDI2ZTQ1MzcwNzAuc2V0Q29udGVudChodG1sXzFiYmQ5NTQ5MmYwYzQ3NDdhYmFjNjY3ZGJlNDkwOWY2KTsKICAgICAgICAKCiAgICAgICAgY2lyY2xlX21hcmtlcl84MDM0ZmNkMjVkYjI0NzljOTg2MmI2ZTgzMzBmNTQ4Mi5iaW5kUG9wdXAocG9wdXBfMDAwMjI2MThlNzljNDNjNmE2MjczNDI2ZTQ1MzcwNzApCiAgICAgICAgOwoKICAgICAgICAKICAgIAogICAgCiAgICAgICAgICAgIHZhciBjaXJjbGVfbWFya2VyXzA2MDg0NjUxYzFmODRiYTY5YmRhYWI5NzlmYmFmYzQzID0gTC5jaXJjbGVNYXJrZXIoCiAgICAgICAgICAgICAgICBbNDAuMzE3Mjg3LCAtNzkuMzg0MDMwMV0sCiAgICAgICAgICAgICAgICB7ImJ1YmJsaW5nTW91c2VFdmVudHMiOiB0cnVlLCAiY29sb3IiOiAiYmx1ZSIsICJkYXNoQXJyYXkiOiBudWxsLCAiZGFzaE9mZnNldCI6IG51bGwsICJmaWxsIjogdHJ1ZSwgImZpbGxDb2xvciI6ICIjMzE4NmNjIiwgImZpbGxPcGFjaXR5IjogMC43LCAiZmlsbFJ1bGUiOiAiZXZlbm9kZCIsICJsaW5lQ2FwIjogInJvdW5kIiwgImxpbmVKb2luIjogInJvdW5kIiwgIm9wYWNpdHkiOiAxLjAsICJyYWRpdXMiOiA1LCAic3Ryb2tlIjogdHJ1ZSwgIndlaWdodCI6IDN9CiAgICAgICAgICAgICkuYWRkVG8obWFwXzdlOTlhZjBiMGU1MzQ3MTdiZDQ1YjdhNjY3MDMxYzRhKTsKICAgICAgICAKICAgIAogICAgICAgIHZhciBwb3B1cF8xZTQ1ZjFjNmMxZjg0NGVlYjg4ZWUwNmM1NzY5NzhlOCA9IEwucG9wdXAoeyJtYXhXaWR0aCI6ICIxMDAlIn0pOwoKICAgICAgICAKICAgICAgICAgICAgdmFyIGh0bWxfMTY1ZGQ2Y2U0MDkzNGU3ZGE1N2Y4Yzk3NTNkYzZmOTcgPSAkKGA8ZGl2IGlkPSJodG1sXzE2NWRkNmNlNDA5MzRlN2RhNTdmOGM5NzUzZGM2Zjk3IiBzdHlsZT0id2lkdGg6IDEwMC4wJTsgaGVpZ2h0OiAxMDAuMCU7Ij5MQVRST0JFLCBMb3c8L2Rpdj5gKVswXTsKICAgICAgICAgICAgcG9wdXBfMWU0NWYxYzZjMWY4NDRlZWI4OGVlMDZjNTc2OTc4ZTguc2V0Q29udGVudChodG1sXzE2NWRkNmNlNDA5MzRlN2RhNTdmOGM5NzUzZGM2Zjk3KTsKICAgICAgICAKCiAgICAgICAgY2lyY2xlX21hcmtlcl8wNjA4NDY1MWMxZjg0YmE2OWJkYWFiOTc5ZmJhZmM0My5iaW5kUG9wdXAocG9wdXBfMWU0NWYxYzZjMWY4NDRlZWI4OGVlMDZjNTc2OTc4ZTgpCiAgICAgICAgOwoKICAgICAgICAKICAgIAogICAgCiAgICAgICAgICAgIHZhciBjaXJjbGVfbWFya2VyX2NmYWFjNDE4YzE4MzQ4ODk4Njg2MjY4ZmUxY2Q3YTYzID0gTC5jaXJjbGVNYXJrZXIoCiAgICAgICAgICAgICAgICBbLTQyLjM1MTU5OTMsIDE3Mi4xMjE4NTc5XSwKICAgICAgICAgICAgICAgIHsiYnViYmxpbmdNb3VzZUV2ZW50cyI6IHRydWUsICJjb2xvciI6ICJibHVlIiwgImRhc2hBcnJheSI6IG51bGwsICJkYXNoT2Zmc2V0IjogbnVsbCwgImZpbGwiOiB0cnVlLCAiZmlsbENvbG9yIjogIiMzMTg2Y2MiLCAiZmlsbE9wYWNpdHkiOiAwLjcsICJmaWxsUnVsZSI6ICJldmVub2RkIiwgImxpbmVDYXAiOiAicm91bmQiLCAibGluZUpvaW4iOiAicm91bmQiLCAib3BhY2l0eSI6IDEuMCwgInJhZGl1cyI6IDUsICJzdHJva2UiOiB0cnVlLCAid2VpZ2h0IjogM30KICAgICAgICAgICAgKS5hZGRUbyhtYXBfN2U5OWFmMGIwZTUzNDcxN2JkNDViN2E2NjcwMzFjNGEpOwogICAgICAgIAogICAgCiAgICAgICAgdmFyIHBvcHVwXzU0ZTAwMGI4NmQ1NTQ2Y2M4MDAzNGM4M2UzMGRiOTljID0gTC5wb3B1cCh7Im1heFdpZHRoIjogIjEwMCUifSk7CgogICAgICAgIAogICAgICAgICAgICB2YXIgaHRtbF9iZDRlOGQ3NmUxY2E0NTE1YjI0NjIwNzgyMGFkMGIzMyA9ICQoYDxkaXYgaWQ9Imh0bWxfYmQ0ZThkNzZlMWNhNDUxNWIyNDYyMDc4MjBhZDBiMzMiIHN0eWxlPSJ3aWR0aDogMTAwLjAlOyBoZWlnaHQ6IDEwMC4wJTsiPk1PVU5UIEFMRVhBTkRFUiwgTG93PC9kaXY+YClbMF07CiAgICAgICAgICAgIHBvcHVwXzU0ZTAwMGI4NmQ1NTQ2Y2M4MDAzNGM4M2UzMGRiOTljLnNldENvbnRlbnQoaHRtbF9iZDRlOGQ3NmUxY2E0NTE1YjI0NjIwNzgyMGFkMGIzMyk7CiAgICAgICAgCgogICAgICAgIGNpcmNsZV9tYXJrZXJfY2ZhYWM0MThjMTgzNDg4OTg2ODYyNjhmZTFjZDdhNjMuYmluZFBvcHVwKHBvcHVwXzU0ZTAwMGI4NmQ1NTQ2Y2M4MDAzNGM4M2UzMGRiOTljKQogICAgICAgIDsKCiAgICAgICAgCiAgICAKICAgIAogICAgICAgICAgICB2YXIgY2lyY2xlX21hcmtlcl84MTQxOWFhYTAwY2M0ZTcwODQ0YTQyM2UwOWYyNmQ5YiA9IEwuY2lyY2xlTWFya2VyKAogICAgICAgICAgICAgICAgWzM5LjcwNDQ1MjIsIDQ0LjMwMTQxNjNdLAogICAgICAgICAgICAgICAgeyJidWJibGluZ01vdXNlRXZlbnRzIjogdHJ1ZSwgImNvbG9yIjogImJsdWUiLCAiZGFzaEFycmF5IjogbnVsbCwgImRhc2hPZmZzZXQiOiBudWxsLCAiZmlsbCI6IHRydWUsICJmaWxsQ29sb3IiOiAiIzMxODZjYyIsICJmaWxsT3BhY2l0eSI6IDAuNywgImZpbGxSdWxlIjogImV2ZW5vZGQiLCAibGluZUNhcCI6ICJyb3VuZCIsICJsaW5lSm9pbiI6ICJyb3VuZCIsICJvcGFjaXR5IjogMS4wLCAicmFkaXVzIjogNSwgInN0cm9rZSI6IHRydWUsICJ3ZWlnaHQiOiAzfQogICAgICAgICAgICApLmFkZFRvKG1hcF83ZTk5YWYwYjBlNTM0NzE3YmQ0NWI3YTY2NzAzMWM0YSk7CiAgICAgICAgCiAgICAKICAgICAgICB2YXIgcG9wdXBfYzE3NDU2NGRiYzE3NGNmNGFlZTEyZmEzY2NiNTgzODAgPSBMLnBvcHVwKHsibWF4V2lkdGgiOiAiMTAwJSJ9KTsKCiAgICAgICAgCiAgICAgICAgICAgIHZhciBodG1sXzZkZmFmZDA1YzZiMDQ2NGI5ZTAwNWQwNGI2NGY3MjliID0gJChgPGRpdiBpZD0iaHRtbF82ZGZhZmQwNWM2YjA0NjRiOWUwMDVkMDRiNjRmNzI5YiIgc3R5bGU9IndpZHRoOiAxMDAuMCU7IGhlaWdodDogMTAwLjAlOyI+QVJBUkFULCBMb3c8L2Rpdj5gKVswXTsKICAgICAgICAgICAgcG9wdXBfYzE3NDU2NGRiYzE3NGNmNGFlZTEyZmEzY2NiNTgzODAuc2V0Q29udGVudChodG1sXzZkZmFmZDA1YzZiMDQ2NGI5ZTAwNWQwNGI2NGY3MjliKTsKICAgICAgICAKCiAgICAgICAgY2lyY2xlX21hcmtlcl84MTQxOWFhYTAwY2M0ZTcwODQ0YTQyM2UwOWYyNmQ5Yi5iaW5kUG9wdXAocG9wdXBfYzE3NDU2NGRiYzE3NGNmNGFlZTEyZmEzY2NiNTgzODApCiAgICAgICAgOwoKICAgICAgICAKICAgIAogICAgCiAgICAgICAgICAgIHZhciBjaXJjbGVfbWFya2VyX2VjZDMwZTkzY2M0YjQyZDU4MTNlNGIxMGU1NGE1MzhkID0gTC5jaXJjbGVNYXJrZXIoCiAgICAgICAgICAgICAgICBbLTM0LjczMTY2NjcsIDE0OS42MzQ0NDQ0XSwKICAgICAgICAgICAgICAgIHsiYnViYmxpbmdNb3VzZUV2ZW50cyI6IHRydWUsICJjb2xvciI6ICJibHVlIiwgImRhc2hBcnJheSI6IG51bGwsICJkYXNoT2Zmc2V0IjogbnVsbCwgImZpbGwiOiB0cnVlLCAiZmlsbENvbG9yIjogIiMzMTg2Y2MiLCAiZmlsbE9wYWNpdHkiOiAwLjcsICJmaWxsUnVsZSI6ICJldmVub2RkIiwgImxpbmVDYXAiOiAicm91bmQiLCAibGluZUpvaW4iOiAicm91bmQiLCAib3BhY2l0eSI6IDEuMCwgInJhZGl1cyI6IDUsICJzdHJva2UiOiB0cnVlLCAid2VpZ2h0IjogM30KICAgICAgICAgICAgKS5hZGRUbyhtYXBfN2U5OWFmMGIwZTUzNDcxN2JkNDViN2E2NjcwMzFjNGEpOwogICAgICAgIAogICAgCiAgICAgICAgdmFyIHBvcHVwX2VjNjEzNzRkYzM3MjRmZjk5NjE4NjQ2N2RlNjAyOWQzID0gTC5wb3B1cCh7Im1heFdpZHRoIjogIjEwMCUifSk7CgogICAgICAgIAogICAgICAgICAgICB2YXIgaHRtbF8yODg1MGM5NDRhMjg0ZWY1Yjc5MzNjODI3NjU0YjY3YyA9ICQoYDxkaXYgaWQ9Imh0bWxfMjg4NTBjOTQ0YTI4NGVmNWI3OTMzYzgyNzY1NGI2N2MiIHN0eWxlPSJ3aWR0aDogMTAwLjAlOyBoZWlnaHQ6IDEwMC4wJTsiPkJBV8KgQkFXLCBMb3c8L2Rpdj5gKVswXTsKICAgICAgICAgICAgcG9wdXBfZWM2MTM3NGRjMzcyNGZmOTk2MTg2NDY3ZGU2MDI5ZDMuc2V0Q29udGVudChodG1sXzI4ODUwYzk0NGEyODRlZjViNzkzM2M4Mjc2NTRiNjdjKTsKICAgICAgICAKCiAgICAgICAgY2lyY2xlX21hcmtlcl9lY2QzMGU5M2NjNGI0MmQ1ODEzZTRiMTBlNTRhNTM4ZC5iaW5kUG9wdXAocG9wdXBfZWM2MTM3NGRjMzcyNGZmOTk2MTg2NDY3ZGU2MDI5ZDMpCiAgICAgICAgOwoKICAgICAgICAKICAgIAogICAgCiAgICAgICAgICAgIHZhciBjaXJjbGVfbWFya2VyXzdmZGVjNjYxZTFhODQ3NWFhYWQ5OTUyMmYwNDMyNTkyID0gTC5jaXJjbGVNYXJrZXIoCiAgICAgICAgICAgICAgICBbLTM0LjE4NDcyNjUsIDE0Mi4xNjI0OTcyXSwKICAgICAgICAgICAgICAgIHsiYnViYmxpbmdNb3VzZUV2ZW50cyI6IHRydWUsICJjb2xvciI6ICJibHVlIiwgImRhc2hBcnJheSI6IG51bGwsICJkYXNoT2Zmc2V0IjogbnVsbCwgImZpbGwiOiB0cnVlLCAiZmlsbENvbG9yIjogIiMzMTg2Y2MiLCAiZmlsbE9wYWNpdHkiOiAwLjcsICJmaWxsUnVsZSI6ICJldmVub2RkIiwgImxpbmVDYXAiOiAicm91bmQiLCAibGluZUpvaW4iOiAicm91bmQiLCAib3BhY2l0eSI6IDEuMCwgInJhZGl1cyI6IDUsICJzdHJva2UiOiB0cnVlLCAid2VpZ2h0IjogM30KICAgICAgICAgICAgKS5hZGRUbyhtYXBfN2U5OWFmMGIwZTUzNDcxN2JkNDViN2E2NjcwMzFjNGEpOwogICAgICAgIAogICAgCiAgICAgICAgdmFyIHBvcHVwXzU4NWJhZGFkM2Q1ZjQyYjdhMGNiYzg4N2Y3ZmY3N2IxID0gTC5wb3B1cCh7Im1heFdpZHRoIjogIjEwMCUifSk7CgogICAgICAgIAogICAgICAgICAgICB2YXIgaHRtbF9iZmI1MTJkOWJkYjY0MWMyOWU1NjY5NWQxNjY0NDU4MiA9ICQoYDxkaXYgaWQ9Imh0bWxfYmZiNTEyZDliZGI2NDFjMjllNTY2OTVkMTY2NDQ1ODIiIHN0eWxlPSJ3aWR0aDogMTAwLjAlOyBoZWlnaHQ6IDEwMC4wJTsiPk1JTERVUkEsIExvdzwvZGl2PmApWzBdOwogICAgICAgICAgICBwb3B1cF81ODViYWRhZDNkNWY0MmI3YTBjYmM4ODdmN2ZmNzdiMS5zZXRDb250ZW50KGh0bWxfYmZiNTEyZDliZGI2NDFjMjllNTY2OTVkMTY2NDQ1ODIpOwogICAgICAgIAoKICAgICAgICBjaXJjbGVfbWFya2VyXzdmZGVjNjYxZTFhODQ3NWFhYWQ5OTUyMmYwNDMyNTkyLmJpbmRQb3B1cChwb3B1cF81ODViYWRhZDNkNWY0MmI3YTBjYmM4ODdmN2ZmNzdiMSkKICAgICAgICA7CgogICAgICAgIAogICAgCiAgICAKICAgICAgICAgICAgdmFyIGNpcmNsZV9tYXJrZXJfYmQ3YjNjNDlhYWQzNGVhNDg4MGFmOTA4YWUzZTVkOTYgPSBMLmNpcmNsZU1hcmtlcigKICAgICAgICAgICAgICAgIFstMzcuODc0MzcsIDE0Ni45MTE0NTAzNjkzMDIyNl0sCiAgICAgICAgICAgICAgICB7ImJ1YmJsaW5nTW91c2VFdmVudHMiOiB0cnVlLCAiY29sb3IiOiAiYmx1ZSIsICJkYXNoQXJyYXkiOiBudWxsLCAiZGFzaE9mZnNldCI6IG51bGwsICJmaWxsIjogdHJ1ZSwgImZpbGxDb2xvciI6ICIjMzE4NmNjIiwgImZpbGxPcGFjaXR5IjogMC43LCAiZmlsbFJ1bGUiOiAiZXZlbm9kZCIsICJsaW5lQ2FwIjogInJvdW5kIiwgImxpbmVKb2luIjogInJvdW5kIiwgIm9wYWNpdHkiOiAxLjAsICJyYWRpdXMiOiA1LCAic3Ryb2tlIjogdHJ1ZSwgIndlaWdodCI6IDN9CiAgICAgICAgICAgICkuYWRkVG8obWFwXzdlOTlhZjBiMGU1MzQ3MTdiZDQ1YjdhNjY3MDMxYzRhKTsKICAgICAgICAKICAgIAogICAgICAgIHZhciBwb3B1cF80OWUzMDVhZjk2MTY0NmNmOWQ1NzZlMzYzOWFlNWVhNyA9IEwucG9wdXAoeyJtYXhXaWR0aCI6ICIxMDAlIn0pOwoKICAgICAgICAKICAgICAgICAgICAgdmFyIGh0bWxfYmU0Njg1OGEzYzQ2NGNmZDg2NTY1NzYzZjBlNWU5OWQgPSAkKGA8ZGl2IGlkPSJodG1sX2JlNDY4NThhM2M0NjRjZmQ4NjU2NTc2M2YwZTVlOTlkIiBzdHlsZT0id2lkdGg6IDEwMC4wJTsgaGVpZ2h0OiAxMDAuMCU7Ij5TT1VUSCBHSVBQU0xBTkQsIExvdzwvZGl2PmApWzBdOwogICAgICAgICAgICBwb3B1cF80OWUzMDVhZjk2MTY0NmNmOWQ1NzZlMzYzOWFlNWVhNy5zZXRDb250ZW50KGh0bWxfYmU0Njg1OGEzYzQ2NGNmZDg2NTY1NzYzZjBlNWU5OWQpOwogICAgICAgIAoKICAgICAgICBjaXJjbGVfbWFya2VyX2JkN2IzYzQ5YWFkMzRlYTQ4ODBhZjkwOGFlM2U1ZDk2LmJpbmRQb3B1cChwb3B1cF80OWUzMDVhZjk2MTY0NmNmOWQ1NzZlMzYzOWFlNWVhNykKICAgICAgICA7CgogICAgICAgIAogICAgCiAgICAKICAgICAgICAgICAgdmFyIGNpcmNsZV9tYXJrZXJfYjJkNDJmYmQxNTQ3NGM2OWI3MjkzMTU3ODAxNmEwMWYgPSBMLmNpcmNsZU1hcmtlcigKICAgICAgICAgICAgICAgIFstMzguMzY5ODc1LCAxNDIuNDg2NDY3MTI1ODIzXSwKICAgICAgICAgICAgICAgIHsiYnViYmxpbmdNb3VzZUV2ZW50cyI6IHRydWUsICJjb2xvciI6ICJibHVlIiwgImRhc2hBcnJheSI6IG51bGwsICJkYXNoT2Zmc2V0IjogbnVsbCwgImZpbGwiOiB0cnVlLCAiZmlsbENvbG9yIjogIiMzMTg2Y2MiLCAiZmlsbE9wYWNpdHkiOiAwLjcsICJmaWxsUnVsZSI6ICJldmVub2RkIiwgImxpbmVDYXAiOiAicm91bmQiLCAibGluZUpvaW4iOiAicm91bmQiLCAib3BhY2l0eSI6IDEuMCwgInJhZGl1cyI6IDUsICJzdHJva2UiOiB0cnVlLCAid2VpZ2h0IjogM30KICAgICAgICAgICAgKS5hZGRUbyhtYXBfN2U5OWFmMGIwZTUzNDcxN2JkNDViN2E2NjcwMzFjNGEpOwogICAgICAgIAogICAgCiAgICAgICAgdmFyIHBvcHVwX2VhOWNiNDE1NWY5NjQ4NDJiMDljMmY3ZmFhMDE5ZjhmID0gTC5wb3B1cCh7Im1heFdpZHRoIjogIjEwMCUifSk7CgogICAgICAgIAogICAgICAgICAgICB2YXIgaHRtbF8wNjU1ZDdhYWZkYWE0YTllYTQ3NTQyNzliOTQ1ODlhZCA9ICQoYDxkaXYgaWQ9Imh0bWxfMDY1NWQ3YWFmZGFhNGE5ZWE0NzU0Mjc5Yjk0NTg5YWQiIHN0eWxlPSJ3aWR0aDogMTAwLjAlOyBoZWlnaHQ6IDEwMC4wJTsiPldBUlJOQU1CT09MLCBMb3c8L2Rpdj5gKVswXTsKICAgICAgICAgICAgcG9wdXBfZWE5Y2I0MTU1Zjk2NDg0MmIwOWMyZjdmYWEwMTlmOGYuc2V0Q29udGVudChodG1sXzA2NTVkN2FhZmRhYTRhOWVhNDc1NDI3OWI5NDU4OWFkKTsKICAgICAgICAKCiAgICAgICAgY2lyY2xlX21hcmtlcl9iMmQ0MmZiZDE1NDc0YzY5YjcyOTMxNTc4MDE2YTAxZi5iaW5kUG9wdXAocG9wdXBfZWE5Y2I0MTU1Zjk2NDg0MmIwOWMyZjdmYWEwMTlmOGYpCiAgICAgICAgOwoKICAgICAgICAKICAgIAogICAgCiAgICAgICAgICAgIHZhciBjaXJjbGVfbWFya2VyXzY3ZDVmNGM3MmZlMjQ4NjA4NTAxYzBkMDJiYWU0MWJjID0gTC5jaXJjbGVNYXJrZXIoCiAgICAgICAgICAgICAgICBbLTM4LjQ4NDE2NTUsIDE0NS40Njg3MDUxXSwKICAgICAgICAgICAgICAgIHsiYnViYmxpbmdNb3VzZUV2ZW50cyI6IHRydWUsICJjb2xvciI6ICJibHVlIiwgImRhc2hBcnJheSI6IG51bGwsICJkYXNoT2Zmc2V0IjogbnVsbCwgImZpbGwiOiB0cnVlLCAiZmlsbENvbG9yIjogIiMzMTg2Y2MiLCAiZmlsbE9wYWNpdHkiOiAwLjcsICJmaWxsUnVsZSI6ICJldmVub2RkIiwgImxpbmVDYXAiOiAicm91bmQiLCAibGluZUpvaW4iOiAicm91bmQiLCAib3BhY2l0eSI6IDEuMCwgInJhZGl1cyI6IDUsICJzdHJva2UiOiB0cnVlLCAid2VpZ2h0IjogM30KICAgICAgICAgICAgKS5hZGRUbyhtYXBfN2U5OWFmMGIwZTUzNDcxN2JkNDViN2E2NjcwMzFjNGEpOwogICAgICAgIAogICAgCiAgICAgICAgdmFyIHBvcHVwX2RiM2FkNmQxZTFmNTQxM2I5MjlhOGNkNDUxYmU2ZWFhID0gTC5wb3B1cCh7Im1heFdpZHRoIjogIjEwMCUifSk7CgogICAgICAgIAogICAgICAgICAgICB2YXIgaHRtbF8xZjRmMmJiM2JjMjI0Mjg2OGY0Zjk0NjYyOTM3YjVjYyA9ICQoYDxkaXYgaWQ9Imh0bWxfMWY0ZjJiYjNiYzIyNDI4NjhmNGY5NDY2MjkzN2I1Y2MiIHN0eWxlPSJ3aWR0aDogMTAwLjAlOyBoZWlnaHQ6IDEwMC4wJTsiPkJBU1MgQ09BU1QsIExvdzwvZGl2PmApWzBdOwogICAgICAgICAgICBwb3B1cF9kYjNhZDZkMWUxZjU0MTNiOTI5YThjZDQ1MWJlNmVhYS5zZXRDb250ZW50KGh0bWxfMWY0ZjJiYjNiYzIyNDI4NjhmNGY5NDY2MjkzN2I1Y2MpOwogICAgICAgIAoKICAgICAgICBjaXJjbGVfbWFya2VyXzY3ZDVmNGM3MmZlMjQ4NjA4NTAxYzBkMDJiYWU0MWJjLmJpbmRQb3B1cChwb3B1cF9kYjNhZDZkMWUxZjU0MTNiOTI5YThjZDQ1MWJlNmVhYSkKICAgICAgICA7CgogICAgICAgIAogICAgCiAgICAKICAgICAgICAgICAgdmFyIGNpcmNsZV9tYXJrZXJfODRjOWVhOTk3NWI3NGRlNWEzMjQ5OWU4YThmYWJhZWUgPSBMLmNpcmNsZU1hcmtlcigKICAgICAgICAgICAgICAgIFstMjAuNTkxOTQsIDE0NS45Nzc3OF0sCiAgICAgICAgICAgICAgICB7ImJ1YmJsaW5nTW91c2VFdmVudHMiOiB0cnVlLCAiY29sb3IiOiAiYmx1ZSIsICJkYXNoQXJyYXkiOiBudWxsLCAiZGFzaE9mZnNldCI6IG51bGwsICJmaWxsIjogdHJ1ZSwgImZpbGxDb2xvciI6ICIjMzE4NmNjIiwgImZpbGxPcGFjaXR5IjogMC43LCAiZmlsbFJ1bGUiOiAiZXZlbm9kZCIsICJsaW5lQ2FwIjogInJvdW5kIiwgImxpbmVKb2luIjogInJvdW5kIiwgIm9wYWNpdHkiOiAxLjAsICJyYWRpdXMiOiA1LCAic3Ryb2tlIjogdHJ1ZSwgIndlaWdodCI6IDN9CiAgICAgICAgICAgICkuYWRkVG8obWFwXzdlOTlhZjBiMGU1MzQ3MTdiZDQ1YjdhNjY3MDMxYzRhKTsKICAgICAgICAKICAgIAogICAgICAgIHZhciBwb3B1cF9lZjI1OGZmNjJhYjc0NjU0OTM2ZDgzNmJiOTY2OGI0OCA9IEwucG9wdXAoeyJtYXhXaWR0aCI6ICIxMDAlIn0pOwoKICAgICAgICAKICAgICAgICAgICAgdmFyIGh0bWxfYzFlYjdiNWY4NmJlNDkzYWIxOWJiOTJjNzZjZmMyMGQgPSAkKGA8ZGl2IGlkPSJodG1sX2MxZWI3YjVmODZiZTQ5M2FiMTliYjkyYzc2Y2ZjMjBkIiBzdHlsZT0id2lkdGg6IDEwMC4wJTsgaGVpZ2h0OiAxMDAuMCU7Ij5DQU1QQVNQRSwgTG93PC9kaXY+YClbMF07CiAgICAgICAgICAgIHBvcHVwX2VmMjU4ZmY2MmFiNzQ2NTQ5MzZkODM2YmI5NjY4YjQ4LnNldENvbnRlbnQoaHRtbF9jMWViN2I1Zjg2YmU0OTNhYjE5YmI5MmM3NmNmYzIwZCk7CiAgICAgICAgCgogICAgICAgIGNpcmNsZV9tYXJrZXJfODRjOWVhOTk3NWI3NGRlNWEzMjQ5OWU4YThmYWJhZWUuYmluZFBvcHVwKHBvcHVwX2VmMjU4ZmY2MmFiNzQ2NTQ5MzZkODM2YmI5NjY4YjQ4KQogICAgICAgIDsKCiAgICAgICAgCiAgICAKICAgIAogICAgICAgICAgICB2YXIgY2lyY2xlX21hcmtlcl85NDNlMWZlZDIwMzY0ZDQ2YjcxYWU0NTY1ODUzYjFlMSA9IEwuY2lyY2xlTWFya2VyKAogICAgICAgICAgICAgICAgWy0zNi41NzA0NTQ5OTk5OTk5OTUsIDE0NS45OTA5ODc3NDUzNTY0Ml0sCiAgICAgICAgICAgICAgICB7ImJ1YmJsaW5nTW91c2VFdmVudHMiOiB0cnVlLCAiY29sb3IiOiAiYmx1ZSIsICJkYXNoQXJyYXkiOiBudWxsLCAiZGFzaE9mZnNldCI6IG51bGwsICJmaWxsIjogdHJ1ZSwgImZpbGxDb2xvciI6ICIjMzE4NmNjIiwgImZpbGxPcGFjaXR5IjogMC43LCAiZmlsbFJ1bGUiOiAiZXZlbm9kZCIsICJsaW5lQ2FwIjogInJvdW5kIiwgImxpbmVKb2luIjogInJvdW5kIiwgIm9wYWNpdHkiOiAxLjAsICJyYWRpdXMiOiA1LCAic3Ryb2tlIjogdHJ1ZSwgIndlaWdodCI6IDN9CiAgICAgICAgICAgICkuYWRkVG8obWFwXzdlOTlhZjBiMGU1MzQ3MTdiZDQ1YjdhNjY3MDMxYzRhKTsKICAgICAgICAKICAgIAogICAgICAgIHZhciBwb3B1cF9mODNmMjkwNGMyNmY0OGRiOTg3OWZjM2QyMDU5MjAzMSA9IEwucG9wdXAoeyJtYXhXaWR0aCI6ICIxMDAlIn0pOwoKICAgICAgICAKICAgICAgICAgICAgdmFyIGh0bWxfZGNhZDQ2N2MxYTBkNDNhN2JhMzBmZDE2OThkMzYwZTAgPSAkKGA8ZGl2IGlkPSJodG1sX2RjYWQ0NjdjMWEwZDQzYTdiYTMwZmQxNjk4ZDM2MGUwIiBzdHlsZT0id2lkdGg6IDEwMC4wJTsgaGVpZ2h0OiAxMDAuMCU7Ij5CRU5BTExBLCBMb3c8L2Rpdj5gKVswXTsKICAgICAgICAgICAgcG9wdXBfZjgzZjI5MDRjMjZmNDhkYjk4NzlmYzNkMjA1OTIwMzEuc2V0Q29udGVudChodG1sX2RjYWQ0NjdjMWEwZDQzYTdiYTMwZmQxNjk4ZDM2MGUwKTsKICAgICAgICAKCiAgICAgICAgY2lyY2xlX21hcmtlcl85NDNlMWZlZDIwMzY0ZDQ2YjcxYWU0NTY1ODUzYjFlMS5iaW5kUG9wdXAocG9wdXBfZjgzZjI5MDRjMjZmNDhkYjk4NzlmYzNkMjA1OTIwMzEpCiAgICAgICAgOwoKICAgICAgICAKICAgIAogICAgCiAgICAgICAgICAgIHZhciBjaXJjbGVfbWFya2VyXzc2YWY5ZjY3NjE5YzRkM2E4YjdkZmFhNTY3ZTc4NDhlID0gTC5jaXJjbGVNYXJrZXIoCiAgICAgICAgICAgICAgICBbNTEuMDYzMDI3MywgLTAuMzI5NTAyOF0sCiAgICAgICAgICAgICAgICB7ImJ1YmJsaW5nTW91c2VFdmVudHMiOiB0cnVlLCAiY29sb3IiOiAiYmx1ZSIsICJkYXNoQXJyYXkiOiBudWxsLCAiZGFzaE9mZnNldCI6IG51bGwsICJmaWxsIjogdHJ1ZSwgImZpbGxDb2xvciI6ICIjMzE4NmNjIiwgImZpbGxPcGFjaXR5IjogMC43LCAiZmlsbFJ1bGUiOiAiZXZlbm9kZCIsICJsaW5lQ2FwIjogInJvdW5kIiwgImxpbmVKb2luIjogInJvdW5kIiwgIm9wYWNpdHkiOiAxLjAsICJyYWRpdXMiOiA1LCAic3Ryb2tlIjogdHJ1ZSwgIndlaWdodCI6IDN9CiAgICAgICAgICAgICkuYWRkVG8obWFwXzdlOTlhZjBiMGU1MzQ3MTdiZDQ1YjdhNjY3MDMxYzRhKTsKICAgICAgICAKICAgIAogICAgICAgIHZhciBwb3B1cF9kNzY1MTNjMDljYTc0MDFkYjhjNjM4MWE1NjA3OTI1NCA9IEwucG9wdXAoeyJtYXhXaWR0aCI6ICIxMDAlIn0pOwoKICAgICAgICAKICAgICAgICAgICAgdmFyIGh0bWxfOWE5MDI1OGVhYTI5NDYwY2I1MTJhMTYyMGUwNGY3MGEgPSAkKGA8ZGl2IGlkPSJodG1sXzlhOTAyNThlYWEyOTQ2MGNiNTEyYTE2MjBlMDRmNzBhIiBzdHlsZT0id2lkdGg6IDEwMC4wJTsgaGVpZ2h0OiAxMDAuMCU7Ij5IT1JTSEFNLCBMb3c8L2Rpdj5gKVswXTsKICAgICAgICAgICAgcG9wdXBfZDc2NTEzYzA5Y2E3NDAxZGI4YzYzODFhNTYwNzkyNTQuc2V0Q29udGVudChodG1sXzlhOTAyNThlYWEyOTQ2MGNiNTEyYTE2MjBlMDRmNzBhKTsKICAgICAgICAKCiAgICAgICAgY2lyY2xlX21hcmtlcl83NmFmOWY2NzYxOWM0ZDNhOGI3ZGZhYTU2N2U3ODQ4ZS5iaW5kUG9wdXAocG9wdXBfZDc2NTEzYzA5Y2E3NDAxZGI4YzYzODFhNTYwNzkyNTQpCiAgICAgICAgOwoKICAgICAgICAKICAgIAogICAgCiAgICAgICAgICAgIHZhciBjaXJjbGVfbWFya2VyXzc4YjE2MjVmNWY2NDRlY2ZiNWI0MDBjN2UxZGY5OTc0ID0gTC5jaXJjbGVNYXJrZXIoCiAgICAgICAgICAgICAgICBbNTIuNTM0OTgwNiwgMS40ODE3NDMyXSwKICAgICAgICAgICAgICAgIHsiYnViYmxpbmdNb3VzZUV2ZW50cyI6IHRydWUsICJjb2xvciI6ICJibHVlIiwgImRhc2hBcnJheSI6IG51bGwsICJkYXNoT2Zmc2V0IjogbnVsbCwgImZpbGwiOiB0cnVlLCAiZmlsbENvbG9yIjogIiMzMTg2Y2MiLCAiZmlsbE9wYWNpdHkiOiAwLjcsICJmaWxsUnVsZSI6ICJldmVub2RkIiwgImxpbmVDYXAiOiAicm91bmQiLCAibGluZUpvaW4iOiAicm91bmQiLCAib3BhY2l0eSI6IDEuMCwgInJhZGl1cyI6IDUsICJzdHJva2UiOiB0cnVlLCAid2VpZ2h0IjogM30KICAgICAgICAgICAgKS5hZGRUbyhtYXBfN2U5OWFmMGIwZTUzNDcxN2JkNDViN2E2NjcwMzFjNGEpOwogICAgICAgIAogICAgCiAgICAgICAgdmFyIHBvcHVwXzU4NGZkMGQ1MDJmZDQ2N2RhMWZlZjQwMjhmM2QzOWY1ID0gTC5wb3B1cCh7Im1heFdpZHRoIjogIjEwMCUifSk7CgogICAgICAgIAogICAgICAgICAgICB2YXIgaHRtbF9mMGE5NDdiZGYyMTE0MjM1YTg0ZGZjY2ZlOTc5ZDA1ZCA9ICQoYDxkaXYgaWQ9Imh0bWxfZjBhOTQ3YmRmMjExNDIzNWE4NGRmY2NmZTk3OWQwNWQiIHN0eWxlPSJ3aWR0aDogMTAwLjAlOyBoZWlnaHQ6IDEwMC4wJTsiPkxPRERPTiwgTG93PC9kaXY+YClbMF07CiAgICAgICAgICAgIHBvcHVwXzU4NGZkMGQ1MDJmZDQ2N2RhMWZlZjQwMjhmM2QzOWY1LnNldENvbnRlbnQoaHRtbF9mMGE5NDdiZGYyMTE0MjM1YTg0ZGZjY2ZlOTc5ZDA1ZCk7CiAgICAgICAgCgogICAgICAgIGNpcmNsZV9tYXJrZXJfNzhiMTYyNWY1ZjY0NGVjZmI1YjQwMGM3ZTFkZjk5NzQuYmluZFBvcHVwKHBvcHVwXzU4NGZkMGQ1MDJmZDQ2N2RhMWZlZjQwMjhmM2QzOWY1KQogICAgICAgIDsKCiAgICAgICAgCiAgICAKICAgIAogICAgICAgICAgICB2YXIgY2lyY2xlX21hcmtlcl80MTMzZDM1NTU0ZTA0MTZlOWM0ZGFlM2Y3MDM4NzA3MyA9IEwuY2lyY2xlTWFya2VyKAogICAgICAgICAgICAgICAgWzQwLjc1ODM5LCAtODIuNTE1NDQ3MV0sCiAgICAgICAgICAgICAgICB7ImJ1YmJsaW5nTW91c2VFdmVudHMiOiB0cnVlLCAiY29sb3IiOiAiYmx1ZSIsICJkYXNoQXJyYXkiOiBudWxsLCAiZGFzaE9mZnNldCI6IG51bGwsICJmaWxsIjogdHJ1ZSwgImZpbGxDb2xvciI6ICIjMzE4NmNjIiwgImZpbGxPcGFjaXR5IjogMC43LCAiZmlsbFJ1bGUiOiAiZXZlbm9kZCIsICJsaW5lQ2FwIjogInJvdW5kIiwgImxpbmVKb2luIjogInJvdW5kIiwgIm9wYWNpdHkiOiAxLjAsICJyYWRpdXMiOiA1LCAic3Ryb2tlIjogdHJ1ZSwgIndlaWdodCI6IDN9CiAgICAgICAgICAgICkuYWRkVG8obWFwXzdlOTlhZjBiMGU1MzQ3MTdiZDQ1YjdhNjY3MDMxYzRhKTsKICAgICAgICAKICAgIAogICAgICAgIHZhciBwb3B1cF9iZjI5N2MxZjgzNDQ0NWZhOWRiNmRiOTUzZGE2ZTAwMiA9IEwucG9wdXAoeyJtYXhXaWR0aCI6ICIxMDAlIn0pOwoKICAgICAgICAKICAgICAgICAgICAgdmFyIGh0bWxfNWFiOGFlMmYwZWNiNGM1NGIxNGMzYTI0OGUxMmNlZmQgPSAkKGA8ZGl2IGlkPSJodG1sXzVhYjhhZTJmMGVjYjRjNTRiMTRjM2EyNDhlMTJjZWZkIiBzdHlsZT0id2lkdGg6IDEwMC4wJTsgaGVpZ2h0OiAxMDAuMCU7Ij5NQU5TRklFTEQsIExvdzwvZGl2PmApWzBdOwogICAgICAgICAgICBwb3B1cF9iZjI5N2MxZjgzNDQ0NWZhOWRiNmRiOTUzZGE2ZTAwMi5zZXRDb250ZW50KGh0bWxfNWFiOGFlMmYwZWNiNGM1NGIxNGMzYTI0OGUxMmNlZmQpOwogICAgICAgIAoKICAgICAgICBjaXJjbGVfbWFya2VyXzQxMzNkMzU1NTRlMDQxNmU5YzRkYWUzZjcwMzg3MDczLmJpbmRQb3B1cChwb3B1cF9iZjI5N2MxZjgzNDQ0NWZhOWRiNmRiOTUzZGE2ZTAwMikKICAgICAgICA7CgogICAgICAgIAogICAgCiAgICAKICAgICAgICAgICAgdmFyIGNpcmNsZV9tYXJrZXJfZGZiMDM5NjI5NjdhNGFlNWIwMDRmMTFhNWMyODk5YmEgPSBMLmNpcmNsZU1hcmtlcigKICAgICAgICAgICAgICAgIFstMzguMDY2NjU4OCwgMTQ0LjI5MjUzNTZdLAogICAgICAgICAgICAgICAgeyJidWJibGluZ01vdXNlRXZlbnRzIjogdHJ1ZSwgImNvbG9yIjogImJsdWUiLCAiZGFzaEFycmF5IjogbnVsbCwgImRhc2hPZmZzZXQiOiBudWxsLCAiZmlsbCI6IHRydWUsICJmaWxsQ29sb3IiOiAiIzMxODZjYyIsICJmaWxsT3BhY2l0eSI6IDAuNywgImZpbGxSdWxlIjogImV2ZW5vZGQiLCAibGluZUNhcCI6ICJyb3VuZCIsICJsaW5lSm9pbiI6ICJyb3VuZCIsICJvcGFjaXR5IjogMS4wLCAicmFkaXVzIjogNSwgInN0cm9rZSI6IHRydWUsICJ3ZWlnaHQiOiAzfQogICAgICAgICAgICApLmFkZFRvKG1hcF83ZTk5YWYwYjBlNTM0NzE3YmQ0NWI3YTY2NzAzMWM0YSk7CiAgICAgICAgCiAgICAKICAgICAgICB2YXIgcG9wdXBfZDdlM2Q5ZTBmOWU1NGU5Mzk2MGE1ZGU0ZDA0YjRiOTcgPSBMLnBvcHVwKHsibWF4V2lkdGgiOiAiMTAwJSJ9KTsKCiAgICAgICAgCiAgICAgICAgICAgIHZhciBodG1sX2UwYjYyNDg4MGEyYTQ1ZmE4MGJhMDBjMDYzZjAyMzljID0gJChgPGRpdiBpZD0iaHRtbF9lMGI2MjQ4ODBhMmE0NWZhODBiYTAwYzA2M2YwMjM5YyIgc3R5bGU9IndpZHRoOiAxMDAuMCU7IGhlaWdodDogMTAwLjAlOyI+TU9PUkFCT09MLCBMb3c8L2Rpdj5gKVswXTsKICAgICAgICAgICAgcG9wdXBfZDdlM2Q5ZTBmOWU1NGU5Mzk2MGE1ZGU0ZDA0YjRiOTcuc2V0Q29udGVudChodG1sX2UwYjYyNDg4MGEyYTQ1ZmE4MGJhMDBjMDYzZjAyMzljKTsKICAgICAgICAKCiAgICAgICAgY2lyY2xlX21hcmtlcl9kZmIwMzk2Mjk2N2E0YWU1YjAwNGYxMWE1YzI4OTliYS5iaW5kUG9wdXAocG9wdXBfZDdlM2Q5ZTBmOWU1NGU5Mzk2MGE1ZGU0ZDA0YjRiOTcpCiAgICAgICAgOwoKICAgICAgICAKICAgIAogICAgCiAgICAgICAgICAgIHZhciBjaXJjbGVfbWFya2VyX2Q1NjQ4NjBkZDE5NTRiYzI5MWJlOGQ3ZDA4YWFhZTc1ID0gTC5jaXJjbGVNYXJrZXIoCiAgICAgICAgICAgICAgICBbLTM2Ljg0OTYzLCAxNDMuMDIyNjY3MDM5NDczNjddLAogICAgICAgICAgICAgICAgeyJidWJibGluZ01vdXNlRXZlbnRzIjogdHJ1ZSwgImNvbG9yIjogImJsdWUiLCAiZGFzaEFycmF5IjogbnVsbCwgImRhc2hPZmZzZXQiOiBudWxsLCAiZmlsbCI6IHRydWUsICJmaWxsQ29sb3IiOiAiIzMxODZjYyIsICJmaWxsT3BhY2l0eSI6IDAuNywgImZpbGxSdWxlIjogImV2ZW5vZGQiLCAibGluZUNhcCI6ICJyb3VuZCIsICJsaW5lSm9pbiI6ICJyb3VuZCIsICJvcGFjaXR5IjogMS4wLCAicmFkaXVzIjogNSwgInN0cm9rZSI6IHRydWUsICJ3ZWlnaHQiOiAzfQogICAgICAgICAgICApLmFkZFRvKG1hcF83ZTk5YWYwYjBlNTM0NzE3YmQ0NWI3YTY2NzAzMWM0YSk7CiAgICAgICAgCiAgICAKICAgICAgICB2YXIgcG9wdXBfMjBmM2IxYTQ3NGRlNDVjMmJmYzA2NjBjYmYzYjRiOTEgPSBMLnBvcHVwKHsibWF4V2lkdGgiOiAiMTAwJSJ9KTsKCiAgICAgICAgCiAgICAgICAgICAgIHZhciBodG1sXzdjNDAwNGQyY2EwMTRiNjViMzg4Y2JkZDNhZjAwZTAyID0gJChgPGRpdiBpZD0iaHRtbF83YzQwMDRkMmNhMDE0YjY1YjM4OGNiZGQzYWYwMGUwMiIgc3R5bGU9IndpZHRoOiAxMDAuMCU7IGhlaWdodDogMTAwLjAlOyI+Tk9SVEhFUk4gR1JBTVBJQU5TLCBMb3c8L2Rpdj5gKVswXTsKICAgICAgICAgICAgcG9wdXBfMjBmM2IxYTQ3NGRlNDVjMmJmYzA2NjBjYmYzYjRiOTEuc2V0Q29udGVudChodG1sXzdjNDAwNGQyY2EwMTRiNjViMzg4Y2JkZDNhZjAwZTAyKTsKICAgICAgICAKCiAgICAgICAgY2lyY2xlX21hcmtlcl9kNTY0ODYwZGQxOTU0YmMyOTFiZThkN2QwOGFhYWU3NS5iaW5kUG9wdXAocG9wdXBfMjBmM2IxYTQ3NGRlNDVjMmJmYzA2NjBjYmYzYjRiOTEpCiAgICAgICAgOwoKICAgICAgICAKICAgIAogICAgCiAgICAgICAgICAgIHZhciBjaXJjbGVfbWFya2VyX2Y5ODBkMWVjYmRjNzRjMDA5ZGNkYjBmZTM4MzZjY2M0ID0gTC5jaXJjbGVNYXJrZXIoCiAgICAgICAgICAgICAgICBbLTM1LjMzOTMyNzksIDE0My41NTkyMDI2XSwKICAgICAgICAgICAgICAgIHsiYnViYmxpbmdNb3VzZUV2ZW50cyI6IHRydWUsICJjb2xvciI6ICJibHVlIiwgImRhc2hBcnJheSI6IG51bGwsICJkYXNoT2Zmc2V0IjogbnVsbCwgImZpbGwiOiB0cnVlLCAiZmlsbENvbG9yIjogIiMzMTg2Y2MiLCAiZmlsbE9wYWNpdHkiOiAwLjcsICJmaWxsUnVsZSI6ICJldmVub2RkIiwgImxpbmVDYXAiOiAicm91bmQiLCAibGluZUpvaW4iOiAicm91bmQiLCAib3BhY2l0eSI6IDEuMCwgInJhZGl1cyI6IDUsICJzdHJva2UiOiB0cnVlLCAid2VpZ2h0IjogM30KICAgICAgICAgICAgKS5hZGRUbyhtYXBfN2U5OWFmMGIwZTUzNDcxN2JkNDViN2E2NjcwMzFjNGEpOwogICAgICAgIAogICAgCiAgICAgICAgdmFyIHBvcHVwXzQzOGYzNjUzMzlkYzQ2Zjk4NDVjNDBjZGFhZDc2ZjBjID0gTC5wb3B1cCh7Im1heFdpZHRoIjogIjEwMCUifSk7CgogICAgICAgIAogICAgICAgICAgICB2YXIgaHRtbF80Y2QyMmQxMDU2NDQ0NmJlOTgxZmExNzRmN2RmODQwMiA9ICQoYDxkaXYgaWQ9Imh0bWxfNGNkMjJkMTA1NjQ0NDZiZTk4MWZhMTc0ZjdkZjg0MDIiIHN0eWxlPSJ3aWR0aDogMTAwLjAlOyBoZWlnaHQ6IDEwMC4wJTsiPlNXQU4gSElMTCwgTG93PC9kaXY+YClbMF07CiAgICAgICAgICAgIHBvcHVwXzQzOGYzNjUzMzlkYzQ2Zjk4NDVjNDBjZGFhZDc2ZjBjLnNldENvbnRlbnQoaHRtbF80Y2QyMmQxMDU2NDQ0NmJlOTgxZmExNzRmN2RmODQwMik7CiAgICAgICAgCgogICAgICAgIGNpcmNsZV9tYXJrZXJfZjk4MGQxZWNiZGM3NGMwMDlkY2RiMGZlMzgzNmNjYzQuYmluZFBvcHVwKHBvcHVwXzQzOGYzNjUzMzlkYzQ2Zjk4NDVjNDBjZGFhZDc2ZjBjKQogICAgICAgIDsKCiAgICAgICAgCiAgICAKICAgIAogICAgICAgICAgICB2YXIgY2lyY2xlX21hcmtlcl8xMDZhYjA1NWQ5MmQ0MzhkYTdmZGY1MzRhMDg5YzE2MCA9IEwuY2lyY2xlTWFya2VyKAogICAgICAgICAgICAgICAgWy0zNS43MTA2NSwgMTQ0LjA5NzcwOTY0Mjg1NzEzXSwKICAgICAgICAgICAgICAgIHsiYnViYmxpbmdNb3VzZUV2ZW50cyI6IHRydWUsICJjb2xvciI6ICJibHVlIiwgImRhc2hBcnJheSI6IG51bGwsICJkYXNoT2Zmc2V0IjogbnVsbCwgImZpbGwiOiB0cnVlLCAiZmlsbENvbG9yIjogIiMzMTg2Y2MiLCAiZmlsbE9wYWNpdHkiOiAwLjcsICJmaWxsUnVsZSI6ICJldmVub2RkIiwgImxpbmVDYXAiOiAicm91bmQiLCAibGluZUpvaW4iOiAicm91bmQiLCAib3BhY2l0eSI6IDEuMCwgInJhZGl1cyI6IDUsICJzdHJva2UiOiB0cnVlLCAid2VpZ2h0IjogM30KICAgICAgICAgICAgKS5hZGRUbyhtYXBfN2U5OWFmMGIwZTUzNDcxN2JkNDViN2E2NjcwMzFjNGEpOwogICAgICAgIAogICAgCiAgICAgICAgdmFyIHBvcHVwX2YxYjk3NzVjYWVhYTQ2YmM4Y2NlZmU3ZDVmMGQ0ZmEyID0gTC5wb3B1cCh7Im1heFdpZHRoIjogIjEwMCUifSk7CgogICAgICAgIAogICAgICAgICAgICB2YXIgaHRtbF8xZjhhMjBmZDhkZTA0MDFkYWI0YTI5YjMxYTkzOGQ2YSA9ICQoYDxkaXYgaWQ9Imh0bWxfMWY4YTIwZmQ4ZGUwNDAxZGFiNGEyOWIzMWE5MzhkNmEiIHN0eWxlPSJ3aWR0aDogMTAwLjAlOyBoZWlnaHQ6IDEwMC4wJTsiPkdBTk5BV0FSUkEsIExvdzwvZGl2PmApWzBdOwogICAgICAgICAgICBwb3B1cF9mMWI5Nzc1Y2FlYWE0NmJjOGNjZWZlN2Q1ZjBkNGZhMi5zZXRDb250ZW50KGh0bWxfMWY4YTIwZmQ4ZGUwNDAxZGFiNGEyOWIzMWE5MzhkNmEpOwogICAgICAgIAoKICAgICAgICBjaXJjbGVfbWFya2VyXzEwNmFiMDU1ZDkyZDQzOGRhN2ZkZjUzNGEwODljMTYwLmJpbmRQb3B1cChwb3B1cF9mMWI5Nzc1Y2FlYWE0NmJjOGNjZWZlN2Q1ZjBkNGZhMikKICAgICAgICA7CgogICAgICAgIAogICAgCiAgICAKICAgICAgICAgICAgdmFyIGNpcmNsZV9tYXJrZXJfM2FlZTU5NWRmNDg2NDU4MTkyZGFmNWNmYjBkMDI1YWUgPSBMLmNpcmNsZU1hcmtlcigKICAgICAgICAgICAgICAgIFs0MC44NDkxNTY4LCAtOTUuMDE3MjAzNl0sCiAgICAgICAgICAgICAgICB7ImJ1YmJsaW5nTW91c2VFdmVudHMiOiB0cnVlLCAiY29sb3IiOiAiYmx1ZSIsICJkYXNoQXJyYXkiOiBudWxsLCAiZGFzaE9mZnNldCI6IG51bGwsICJmaWxsIjogdHJ1ZSwgImZpbGxDb2xvciI6ICIjMzE4NmNjIiwgImZpbGxPcGFjaXR5IjogMC43LCAiZmlsbFJ1bGUiOiAiZXZlbm9kZCIsICJsaW5lQ2FwIjogInJvdW5kIiwgImxpbmVKb2luIjogInJvdW5kIiwgIm9wYWNpdHkiOiAxLjAsICJyYWRpdXMiOiA1LCAic3Ryb2tlIjogdHJ1ZSwgIndlaWdodCI6IDN9CiAgICAgICAgICAgICkuYWRkVG8obWFwXzdlOTlhZjBiMGU1MzQ3MTdiZDQ1YjdhNjY3MDMxYzRhKTsKICAgICAgICAKICAgIAogICAgICAgIHZhciBwb3B1cF80YzU5ZWQ2NGM0MTc0Mzc1OGE1YzVlMDkxNjIyMzE4MSA9IEwucG9wdXAoeyJtYXhXaWR0aCI6ICIxMDAlIn0pOwoKICAgICAgICAKICAgICAgICAgICAgdmFyIGh0bWxfOTc1NmE4MTc4OTI1NGE0YThiYjE2MGEyNTIzZWEyNTIgPSAkKGA8ZGl2IGlkPSJodG1sXzk3NTZhODE3ODkyNTRhNGE4YmIxNjBhMjUyM2VhMjUyIiBzdHlsZT0id2lkdGg6IDEwMC4wJTsgaGVpZ2h0OiAxMDAuMCU7Ij5IRVBCVVJOLCBMb3c8L2Rpdj5gKVswXTsKICAgICAgICAgICAgcG9wdXBfNGM1OWVkNjRjNDE3NDM3NThhNWM1ZTA5MTYyMjMxODEuc2V0Q29udGVudChodG1sXzk3NTZhODE3ODkyNTRhNGE4YmIxNjBhMjUyM2VhMjUyKTsKICAgICAgICAKCiAgICAgICAgY2lyY2xlX21hcmtlcl8zYWVlNTk1ZGY0ODY0NTgxOTJkYWY1Y2ZiMGQwMjVhZS5iaW5kUG9wdXAocG9wdXBfNGM1OWVkNjRjNDE3NDM3NThhNWM1ZTA5MTYyMjMxODEpCiAgICAgICAgOwoKICAgICAgICAKICAgIAogICAgCiAgICAgICAgICAgIHZhciBjaXJjbGVfbWFya2VyX2E5OTcyNjEwMzMwMjRhNzRhZGNmMjYyMzg3ZDc3MjU2ID0gTC5jaXJjbGVNYXJrZXIoCiAgICAgICAgICAgICAgICBbLTM3LjI4MTQ1OTk5OTk5OTk5NiwgMTQ1LjU1MzQ2MzE2OTYxODldLAogICAgICAgICAgICAgICAgeyJidWJibGluZ01vdXNlRXZlbnRzIjogdHJ1ZSwgImNvbG9yIjogImJsdWUiLCAiZGFzaEFycmF5IjogbnVsbCwgImRhc2hPZmZzZXQiOiBudWxsLCAiZmlsbCI6IHRydWUsICJmaWxsQ29sb3IiOiAiIzMxODZjYyIsICJmaWxsT3BhY2l0eSI6IDAuNywgImZpbGxSdWxlIjogImV2ZW5vZGQiLCAibGluZUNhcCI6ICJyb3VuZCIsICJsaW5lSm9pbiI6ICJyb3VuZCIsICJvcGFjaXR5IjogMS4wLCAicmFkaXVzIjogNSwgInN0cm9rZSI6IHRydWUsICJ3ZWlnaHQiOiAzfQogICAgICAgICAgICApLmFkZFRvKG1hcF83ZTk5YWYwYjBlNTM0NzE3YmQ0NWI3YTY2NzAzMWM0YSk7CiAgICAgICAgCiAgICAKICAgICAgICB2YXIgcG9wdXBfOTI1NjQwZDU5NWVlNGQzMGIzNTg5ODQ1NWIyOTcxMWQgPSBMLnBvcHVwKHsibWF4V2lkdGgiOiAiMTAwJSJ9KTsKCiAgICAgICAgCiAgICAgICAgICAgIHZhciBodG1sXzI4NDZiZWI1ZTgxMzQ5MDJhMmY3ZTUzMDk2ZDM0Y2RjID0gJChgPGRpdiBpZD0iaHRtbF8yODQ2YmViNWU4MTM0OTAyYTJmN2U1MzA5NmQzNGNkYyIgc3R5bGU9IndpZHRoOiAxMDAuMCU7IGhlaWdodDogMTAwLjAlOyI+TVVSUklORElOREksIExvdzwvZGl2PmApWzBdOwogICAgICAgICAgICBwb3B1cF85MjU2NDBkNTk1ZWU0ZDMwYjM1ODk4NDU1YjI5NzExZC5zZXRDb250ZW50KGh0bWxfMjg0NmJlYjVlODEzNDkwMmEyZjdlNTMwOTZkMzRjZGMpOwogICAgICAgIAoKICAgICAgICBjaXJjbGVfbWFya2VyX2E5OTcyNjEwMzMwMjRhNzRhZGNmMjYyMzg3ZDc3MjU2LmJpbmRQb3B1cChwb3B1cF85MjU2NDBkNTk1ZWU0ZDMwYjM1ODk4NDU1YjI5NzExZCkKICAgICAgICA7CgogICAgICAgIAogICAgCiAgICAKICAgICAgICAgICAgdmFyIGNpcmNsZV9tYXJrZXJfNTFlYmZmZDUzYWE3NDUwOTgyYThlMjM1ZjNkMWE1ZTYgPSBMLmNpcmNsZU1hcmtlcigKICAgICAgICAgICAgICAgIFszNC43NDA4MzUzLCAxMzUuNTI5ODNdLAogICAgICAgICAgICAgICAgeyJidWJibGluZ01vdXNlRXZlbnRzIjogdHJ1ZSwgImNvbG9yIjogImJsdWUiLCAiZGFzaEFycmF5IjogbnVsbCwgImRhc2hPZmZzZXQiOiBudWxsLCAiZmlsbCI6IHRydWUsICJmaWxsQ29sb3IiOiAiIzMxODZjYyIsICJmaWxsT3BhY2l0eSI6IDAuNywgImZpbGxSdWxlIjogImV2ZW5vZGQiLCAibGluZUNhcCI6ICJyb3VuZCIsICJsaW5lSm9pbiI6ICJyb3VuZCIsICJvcGFjaXR5IjogMS4wLCAicmFkaXVzIjogNSwgInN0cm9rZSI6IHRydWUsICJ3ZWlnaHQiOiAzfQogICAgICAgICAgICApLmFkZFRvKG1hcF83ZTk5YWYwYjBlNTM0NzE3YmQ0NWI3YTY2NzAzMWM0YSk7CiAgICAgICAgCiAgICAKICAgICAgICB2YXIgcG9wdXBfNGY5ODdkOWNjYzdjNDUzNGFkZGYxODgwZmEwOTM5NzEgPSBMLnBvcHVwKHsibWF4V2lkdGgiOiAiMTAwJSJ9KTsKCiAgICAgICAgCiAgICAgICAgICAgIHZhciBodG1sX2MxM2ZkMmU4Y2IwMjQyZDc4Y2Y0MTdlNTMxYjRhNjVmID0gJChgPGRpdiBpZD0iaHRtbF9jMTNmZDJlOGNiMDI0MmQ3OGNmNDE3ZTUzMWI0YTY1ZiIgc3R5bGU9IndpZHRoOiAxMDAuMCU7IGhlaWdodDogMTAwLjAlOyI+T1ZFUlNFQVMsIExvdzwvZGl2PmApWzBdOwogICAgICAgICAgICBwb3B1cF80Zjk4N2Q5Y2NjN2M0NTM0YWRkZjE4ODBmYTA5Mzk3MS5zZXRDb250ZW50KGh0bWxfYzEzZmQyZThjYjAyNDJkNzhjZjQxN2U1MzFiNGE2NWYpOwogICAgICAgIAoKICAgICAgICBjaXJjbGVfbWFya2VyXzUxZWJmZmQ1M2FhNzQ1MDk4MmE4ZTIzNWYzZDFhNWU2LmJpbmRQb3B1cChwb3B1cF80Zjk4N2Q5Y2NjN2M0NTM0YWRkZjE4ODBmYTA5Mzk3MSkKICAgICAgICA7CgogICAgICAgIAogICAgCiAgICAKICAgICAgICAgICAgdmFyIGNpcmNsZV9tYXJrZXJfZDI5NTJhNjgyNWQ3NDhmNThlNzhmZmU5Nzk3ZWE0ZTMgPSBMLmNpcmNsZU1hcmtlcigKICAgICAgICAgICAgICAgIFstMzcuNTI4MjYsIDE0MS45NTgwNTA4Njg0OTg0N10sCiAgICAgICAgICAgICAgICB7ImJ1YmJsaW5nTW91c2VFdmVudHMiOiB0cnVlLCAiY29sb3IiOiAiYmx1ZSIsICJkYXNoQXJyYXkiOiBudWxsLCAiZGFzaE9mZnNldCI6IG51bGwsICJmaWxsIjogdHJ1ZSwgImZpbGxDb2xvciI6ICIjMzE4NmNjIiwgImZpbGxPcGFjaXR5IjogMC43LCAiZmlsbFJ1bGUiOiAiZXZlbm9kZCIsICJsaW5lQ2FwIjogInJvdW5kIiwgImxpbmVKb2luIjogInJvdW5kIiwgIm9wYWNpdHkiOiAxLjAsICJyYWRpdXMiOiA1LCAic3Ryb2tlIjogdHJ1ZSwgIndlaWdodCI6IDN9CiAgICAgICAgICAgICkuYWRkVG8obWFwXzdlOTlhZjBiMGU1MzQ3MTdiZDQ1YjdhNjY3MDMxYzRhKTsKICAgICAgICAKICAgIAogICAgICAgIHZhciBwb3B1cF84NmFmN2U0ZGVlNWY0OTdhODhkOGI0MTA0MzIzMTY4MyA9IEwucG9wdXAoeyJtYXhXaWR0aCI6ICIxMDAlIn0pOwoKICAgICAgICAKICAgICAgICAgICAgdmFyIGh0bWxfOGM3MTkzN2Q4YTBlNGIwZjk3ZDY4NGFkZGM0N2RiNmQgPSAkKGA8ZGl2IGlkPSJodG1sXzhjNzE5MzdkOGEwZTRiMGY5N2Q2ODRhZGRjNDdkYjZkIiBzdHlsZT0id2lkdGg6IDEwMC4wJTsgaGVpZ2h0OiAxMDAuMCU7Ij5TT1VUSEVSTiBHUkFNUElBTlMsIExvdzwvZGl2PmApWzBdOwogICAgICAgICAgICBwb3B1cF84NmFmN2U0ZGVlNWY0OTdhODhkOGI0MTA0MzIzMTY4My5zZXRDb250ZW50KGh0bWxfOGM3MTkzN2Q4YTBlNGIwZjk3ZDY4NGFkZGM0N2RiNmQpOwogICAgICAgIAoKICAgICAgICBjaXJjbGVfbWFya2VyX2QyOTUyYTY4MjVkNzQ4ZjU4ZTc4ZmZlOTc5N2VhNGUzLmJpbmRQb3B1cChwb3B1cF84NmFmN2U0ZGVlNWY0OTdhODhkOGI0MTA0MzIzMTY4MykKICAgICAgICA7CgogICAgICAgIAogICAgCiAgICAKICAgICAgICAgICAgdmFyIGNpcmNsZV9tYXJrZXJfMzY3NWE1NGIwYTJiNDFhMDkxOTJmZmQxODQ2MmI2NzcgPSBMLmNpcmNsZU1hcmtlcigKICAgICAgICAgICAgICAgIFstMzYuODU2NDY3NCwgMTQ1LjczNTg5XSwKICAgICAgICAgICAgICAgIHsiYnViYmxpbmdNb3VzZUV2ZW50cyI6IHRydWUsICJjb2xvciI6ICJibHVlIiwgImRhc2hBcnJheSI6IG51bGwsICJkYXNoT2Zmc2V0IjogbnVsbCwgImZpbGwiOiB0cnVlLCAiZmlsbENvbG9yIjogIiMzMTg2Y2MiLCAiZmlsbE9wYWNpdHkiOiAwLjcsICJmaWxsUnVsZSI6ICJldmVub2RkIiwgImxpbmVDYXAiOiAicm91bmQiLCAibGluZUpvaW4iOiAicm91bmQiLCAib3BhY2l0eSI6IDEuMCwgInJhZGl1cyI6IDUsICJzdHJva2UiOiB0cnVlLCAid2VpZ2h0IjogM30KICAgICAgICAgICAgKS5hZGRUbyhtYXBfN2U5OWFmMGIwZTUzNDcxN2JkNDViN2E2NjcwMzFjNGEpOwogICAgICAgIAogICAgCiAgICAgICAgdmFyIHBvcHVwX2M4OGUxNjIwN2NlNzRkYjNhOGQyMzE3N2EyMGVkZGJhID0gTC5wb3B1cCh7Im1heFdpZHRoIjogIjEwMCUifSk7CgogICAgICAgIAogICAgICAgICAgICB2YXIgaHRtbF85ZDZlNGI2OGVmZmU0OGJkYmQzMzkyOGJmNzYxZmE0NCA9ICQoYDxkaXYgaWQ9Imh0bWxfOWQ2ZTRiNjhlZmZlNDhiZGJkMzM5MjhiZjc2MWZhNDQiIHN0eWxlPSJ3aWR0aDogMTAwLjAlOyBoZWlnaHQ6IDEwMC4wJTsiPlNUUkFUSEJPR0lFLCBMb3c8L2Rpdj5gKVswXTsKICAgICAgICAgICAgcG9wdXBfYzg4ZTE2MjA3Y2U3NGRiM2E4ZDIzMTc3YTIwZWRkYmEuc2V0Q29udGVudChodG1sXzlkNmU0YjY4ZWZmZTQ4YmRiZDMzOTI4YmY3NjFmYTQ0KTsKICAgICAgICAKCiAgICAgICAgY2lyY2xlX21hcmtlcl8zNjc1YTU0YjBhMmI0MWEwOTE5MmZmZDE4NDYyYjY3Ny5iaW5kUG9wdXAocG9wdXBfYzg4ZTE2MjA3Y2U3NGRiM2E4ZDIzMTc3YTIwZWRkYmEpCiAgICAgICAgOwoKICAgICAgICAKICAgIAogICAgCiAgICAgICAgICAgIHZhciBjaXJjbGVfbWFya2VyXzQ4NGRiYjJhNDM3MzQxNjU4ZDc1ZjY3YTk3YWU1OTk1ID0gTC5jaXJjbGVNYXJrZXIoCiAgICAgICAgICAgICAgICBbLTM2LjM2NTMsIDE0Ni4zMTIwMjU4ODg4ODg5XSwKICAgICAgICAgICAgICAgIHsiYnViYmxpbmdNb3VzZUV2ZW50cyI6IHRydWUsICJjb2xvciI6ICJibHVlIiwgImRhc2hBcnJheSI6IG51bGwsICJkYXNoT2Zmc2V0IjogbnVsbCwgImZpbGwiOiB0cnVlLCAiZmlsbENvbG9yIjogIiMzMTg2Y2MiLCAiZmlsbE9wYWNpdHkiOiAwLjcsICJmaWxsUnVsZSI6ICJldmVub2RkIiwgImxpbmVDYXAiOiAicm91bmQiLCAibGluZUpvaW4iOiAicm91bmQiLCAib3BhY2l0eSI6IDEuMCwgInJhZGl1cyI6IDUsICJzdHJva2UiOiB0cnVlLCAid2VpZ2h0IjogM30KICAgICAgICAgICAgKS5hZGRUbyhtYXBfN2U5OWFmMGIwZTUzNDcxN2JkNDViN2E2NjcwMzFjNGEpOwogICAgICAgIAogICAgCiAgICAgICAgdmFyIHBvcHVwXzM1ZmQxZmY4NDIyMDQxNjA5NGMyOWI0NDM1YjViODA5ID0gTC5wb3B1cCh7Im1heFdpZHRoIjogIjEwMCUifSk7CgogICAgICAgIAogICAgICAgICAgICB2YXIgaHRtbF8xYzBhNTNlM2ZjNWM0MzUxYWY4ZDUyNmI2NTE3ZTc2NSA9ICQoYDxkaXYgaWQ9Imh0bWxfMWMwYTUzZTNmYzVjNDM1MWFmOGQ1MjZiNjUxN2U3NjUiIHN0eWxlPSJ3aWR0aDogMTAwLjAlOyBoZWlnaHQ6IDEwMC4wJTsiPldBTkdBUkFUVEEsIExvdzwvZGl2PmApWzBdOwogICAgICAgICAgICBwb3B1cF8zNWZkMWZmODQyMjA0MTYwOTRjMjliNDQzNWI1YjgwOS5zZXRDb250ZW50KGh0bWxfMWMwYTUzZTNmYzVjNDM1MWFmOGQ1MjZiNjUxN2U3NjUpOwogICAgICAgIAoKICAgICAgICBjaXJjbGVfbWFya2VyXzQ4NGRiYjJhNDM3MzQxNjU4ZDc1ZjY3YTk3YWU1OTk1LmJpbmRQb3B1cChwb3B1cF8zNWZkMWZmODQyMjA0MTYwOTRjMjliNDQzNWI1YjgwOSkKICAgICAgICA7CgogICAgICAgIAogICAgCiAgICAKICAgICAgICAgICAgdmFyIGNpcmNsZV9tYXJrZXJfMTdkNjkyZjM5Y2ZjNGNmZTkxNGEyYzYzYmI1MTk1OWYgPSBMLmNpcmNsZU1hcmtlcigKICAgICAgICAgICAgICAgIFstMjguNDc2OTQ1OSwgMTUxLjcwNTI3NjVdLAogICAgICAgICAgICAgICAgeyJidWJibGluZ01vdXNlRXZlbnRzIjogdHJ1ZSwgImNvbG9yIjogImJsdWUiLCAiZGFzaEFycmF5IjogbnVsbCwgImRhc2hPZmZzZXQiOiBudWxsLCAiZmlsbCI6IHRydWUsICJmaWxsQ29sb3IiOiAiIzMxODZjYyIsICJmaWxsT3BhY2l0eSI6IDAuNywgImZpbGxSdWxlIjogImV2ZW5vZGQiLCAibGluZUNhcCI6ICJyb3VuZCIsICJsaW5lSm9pbiI6ICJyb3VuZCIsICJvcGFjaXR5IjogMS4wLCAicmFkaXVzIjogNSwgInN0cm9rZSI6IHRydWUsICJ3ZWlnaHQiOiAzfQogICAgICAgICAgICApLmFkZFRvKG1hcF83ZTk5YWYwYjBlNTM0NzE3YmQ0NWI3YTY2NzAzMWM0YSk7CiAgICAgICAgCiAgICAKICAgICAgICB2YXIgcG9wdXBfYWQ4ZWFlNWQ3YmQxNDA3ODg5ZDQzZmUyZTU2ZjdmN2EgPSBMLnBvcHVwKHsibWF4V2lkdGgiOiAiMTAwJSJ9KTsKCiAgICAgICAgCiAgICAgICAgICAgIHZhciBodG1sXzE4YzU5YjdmYTA5ZDRiMTNhM2IwNGFlMGRhYjYzYWQwID0gJChgPGRpdiBpZD0iaHRtbF8xOGM1OWI3ZmEwOWQ0YjEzYTNiMDRhZTBkYWI2M2FkMCIgc3R5bGU9IndpZHRoOiAxMDAuMCU7IGhlaWdodDogMTAwLjAlOyI+Q0VOVFJBTCBHT0xERklFTERTLCBMb3c8L2Rpdj5gKVswXTsKICAgICAgICAgICAgcG9wdXBfYWQ4ZWFlNWQ3YmQxNDA3ODg5ZDQzZmUyZTU2ZjdmN2Euc2V0Q29udGVudChodG1sXzE4YzU5YjdmYTA5ZDRiMTNhM2IwNGFlMGRhYjYzYWQwKTsKICAgICAgICAKCiAgICAgICAgY2lyY2xlX21hcmtlcl8xN2Q2OTJmMzljZmM0Y2ZlOTE0YTJjNjNiYjUxOTU5Zi5iaW5kUG9wdXAocG9wdXBfYWQ4ZWFlNWQ3YmQxNDA3ODg5ZDQzZmUyZTU2ZjdmN2EpCiAgICAgICAgOwoKICAgICAgICAKICAgIAogICAgCiAgICAgICAgICAgIHZhciBjaXJjbGVfbWFya2VyXzFiNzgwYjM3NGM2ZjQwYmViMzQ0MjBmM2Q5YTkwZTZhID0gTC5jaXJjbGVNYXJrZXIoCiAgICAgICAgICAgICAgICBbLTM4LjIxNjAxNSwgMTQzLjEyNzM4MjA1OTU4NjRdLAogICAgICAgICAgICAgICAgeyJidWJibGluZ01vdXNlRXZlbnRzIjogdHJ1ZSwgImNvbG9yIjogImJsdWUiLCAiZGFzaEFycmF5IjogbnVsbCwgImRhc2hPZmZzZXQiOiBudWxsLCAiZmlsbCI6IHRydWUsICJmaWxsQ29sb3IiOiAiIzMxODZjYyIsICJmaWxsT3BhY2l0eSI6IDAuNywgImZpbGxSdWxlIjogImV2ZW5vZGQiLCAibGluZUNhcCI6ICJyb3VuZCIsICJsaW5lSm9pbiI6ICJyb3VuZCIsICJvcGFjaXR5IjogMS4wLCAicmFkaXVzIjogNSwgInN0cm9rZSI6IHRydWUsICJ3ZWlnaHQiOiAzfQogICAgICAgICAgICApLmFkZFRvKG1hcF83ZTk5YWYwYjBlNTM0NzE3YmQ0NWI3YTY2NzAzMWM0YSk7CiAgICAgICAgCiAgICAKICAgICAgICB2YXIgcG9wdXBfNzYxNjUxYjRkYjBjNGRhMTk2ZTRlNGFkM2M3OGVmMGMgPSBMLnBvcHVwKHsibWF4V2lkdGgiOiAiMTAwJSJ9KTsKCiAgICAgICAgCiAgICAgICAgICAgIHZhciBodG1sXzMxMjI1NmNjYzI0NjRmZjFiYTU5NzRkYzBkZmMxZmQzID0gJChgPGRpdiBpZD0iaHRtbF8zMTIyNTZjY2MyNDY0ZmYxYmE1OTc0ZGMwZGZjMWZkMyIgc3R5bGU9IndpZHRoOiAxMDAuMCU7IGhlaWdodDogMTAwLjAlOyI+Q09SQU5HQU1JVEUsIExvdzwvZGl2PmApWzBdOwogICAgICAgICAgICBwb3B1cF83NjE2NTFiNGRiMGM0ZGExOTZlNGU0YWQzYzc4ZWYwYy5zZXRDb250ZW50KGh0bWxfMzEyMjU2Y2NjMjQ2NGZmMWJhNTk3NGRjMGRmYzFmZDMpOwogICAgICAgIAoKICAgICAgICBjaXJjbGVfbWFya2VyXzFiNzgwYjM3NGM2ZjQwYmViMzQ0MjBmM2Q5YTkwZTZhLmJpbmRQb3B1cChwb3B1cF83NjE2NTFiNGRiMGM0ZGExOTZlNGU0YWQzYzc4ZWYwYykKICAgICAgICA7CgogICAgICAgIAogICAgCiAgICAKICAgICAgICAgICAgdmFyIGNpcmNsZV9tYXJrZXJfOGRlZTYzZjYyZGI4NDI1MmI0NzZhNzlhYjc5ODgwZGUgPSBMLmNpcmNsZU1hcmtlcigKICAgICAgICAgICAgICAgIFstMzcuODc0MzcsIDE0Ni45MTE0NTAzNjkzMDIyNl0sCiAgICAgICAgICAgICAgICB7ImJ1YmJsaW5nTW91c2VFdmVudHMiOiB0cnVlLCAiY29sb3IiOiAiYmx1ZSIsICJkYXNoQXJyYXkiOiBudWxsLCAiZGFzaE9mZnNldCI6IG51bGwsICJmaWxsIjogdHJ1ZSwgImZpbGxDb2xvciI6ICIjMzE4NmNjIiwgImZpbGxPcGFjaXR5IjogMC43LCAiZmlsbFJ1bGUiOiAiZXZlbm9kZCIsICJsaW5lQ2FwIjogInJvdW5kIiwgImxpbmVKb2luIjogInJvdW5kIiwgIm9wYWNpdHkiOiAxLjAsICJyYWRpdXMiOiA1LCAic3Ryb2tlIjogdHJ1ZSwgIndlaWdodCI6IDN9CiAgICAgICAgICAgICkuYWRkVG8obWFwXzdlOTlhZjBiMGU1MzQ3MTdiZDQ1YjdhNjY3MDMxYzRhKTsKICAgICAgICAKICAgIAogICAgICAgIHZhciBwb3B1cF8wOGVmYWJjYjM4Zjc0ZTZiYjJhZmIwMTdjMTM1ZDk2ZSA9IEwucG9wdXAoeyJtYXhXaWR0aCI6ICIxMDAlIn0pOwoKICAgICAgICAKICAgICAgICAgICAgdmFyIGh0bWxfNDJiYzgyZTYxNThmNDI4M2FlZmM3ZjZjMjZlMzFmMTIgPSAkKGA8ZGl2IGlkPSJodG1sXzQyYmM4MmU2MTU4ZjQyODNhZWZjN2Y2YzI2ZTMxZjEyIiBzdHlsZT0id2lkdGg6IDEwMC4wJTsgaGVpZ2h0OiAxMDAuMCU7Ij5FQVNUIEdJUFBTTEFORCwgTG93PC9kaXY+YClbMF07CiAgICAgICAgICAgIHBvcHVwXzA4ZWZhYmNiMzhmNzRlNmJiMmFmYjAxN2MxMzVkOTZlLnNldENvbnRlbnQoaHRtbF80MmJjODJlNjE1OGY0MjgzYWVmYzdmNmMyNmUzMWYxMik7CiAgICAgICAgCgogICAgICAgIGNpcmNsZV9tYXJrZXJfOGRlZTYzZjYyZGI4NDI1MmI0NzZhNzlhYjc5ODgwZGUuYmluZFBvcHVwKHBvcHVwXzA4ZWZhYmNiMzhmNzRlNmJiMmFmYjAxN2MxMzVkOTZlKQogICAgICAgIDsKCiAgICAgICAgCiAgICAKICAgIAogICAgICAgICAgICB2YXIgY2lyY2xlX21hcmtlcl9lYzgxNGU3MmY4Mzc0ZTY3YjE5OGIxNzU2Y2NhMzNlYyA9IEwuY2lyY2xlTWFya2VyKAogICAgICAgICAgICAgICAgWy0zNC45ODAzNjczLCAxMzguNTE0MzM0Ml0sCiAgICAgICAgICAgICAgICB7ImJ1YmJsaW5nTW91c2VFdmVudHMiOiB0cnVlLCAiY29sb3IiOiAiYmx1ZSIsICJkYXNoQXJyYXkiOiBudWxsLCAiZGFzaE9mZnNldCI6IG51bGwsICJmaWxsIjogdHJ1ZSwgImZpbGxDb2xvciI6ICIjMzE4NmNjIiwgImZpbGxPcGFjaXR5IjogMC43LCAiZmlsbFJ1bGUiOiAiZXZlbm9kZCIsICJsaW5lQ2FwIjogInJvdW5kIiwgImxpbmVKb2luIjogInJvdW5kIiwgIm9wYWNpdHkiOiAxLjAsICJyYWRpdXMiOiA1LCAic3Ryb2tlIjogdHJ1ZSwgIndlaWdodCI6IDN9CiAgICAgICAgICAgICkuYWRkVG8obWFwXzdlOTlhZjBiMGU1MzQ3MTdiZDQ1YjdhNjY3MDMxYzRhKTsKICAgICAgICAKICAgIAogICAgICAgIHZhciBwb3B1cF83ZDZjZTEzOWY2ZmI0ZGJkOGZhYTQ0M2EzZWY1ZmI0YyA9IEwucG9wdXAoeyJtYXhXaWR0aCI6ICIxMDAlIn0pOwoKICAgICAgICAKICAgICAgICAgICAgdmFyIGh0bWxfZWZkY2I0ZjkxNGI2NGFmMzg3ODg5ZDkyMjFhZDIzMjkgPSAkKGA8ZGl2IGlkPSJodG1sX2VmZGNiNGY5MTRiNjRhZjM4Nzg4OWQ5MjIxYWQyMzI5IiBzdHlsZT0id2lkdGg6IDEwMC4wJTsgaGVpZ2h0OiAxMDAuMCU7Ij5HTEVORUxHLCBMb3c8L2Rpdj5gKVswXTsKICAgICAgICAgICAgcG9wdXBfN2Q2Y2UxMzlmNmZiNGRiZDhmYWE0NDNhM2VmNWZiNGMuc2V0Q29udGVudChodG1sX2VmZGNiNGY5MTRiNjRhZjM4Nzg4OWQ5MjIxYWQyMzI5KTsKICAgICAgICAKCiAgICAgICAgY2lyY2xlX21hcmtlcl9lYzgxNGU3MmY4Mzc0ZTY3YjE5OGIxNzU2Y2NhMzNlYy5iaW5kUG9wdXAocG9wdXBfN2Q2Y2UxMzlmNmZiNGRiZDhmYWE0NDNhM2VmNWZiNGMpCiAgICAgICAgOwoKICAgICAgICAKICAgIAogICAgCiAgICAgICAgICAgIHZhciBjaXJjbGVfbWFya2VyXzljOGM5ZTlmODVjMjRiZTU4MDU1ZWU4ZWQ2YjQ1ZGE1ID0gTC5jaXJjbGVNYXJrZXIoCiAgICAgICAgICAgICAgICBbLTI5LjM4MzczNjksIDE0Ny41NzEwODM4XSwKICAgICAgICAgICAgICAgIHsiYnViYmxpbmdNb3VzZUV2ZW50cyI6IHRydWUsICJjb2xvciI6ICJibHVlIiwgImRhc2hBcnJheSI6IG51bGwsICJkYXNoT2Zmc2V0IjogbnVsbCwgImZpbGwiOiB0cnVlLCAiZmlsbENvbG9yIjogIiMzMTg2Y2MiLCAiZmlsbE9wYWNpdHkiOiAwLjcsICJmaWxsUnVsZSI6ICJldmVub2RkIiwgImxpbmVDYXAiOiAicm91bmQiLCAibGluZUpvaW4iOiAicm91bmQiLCAib3BhY2l0eSI6IDEuMCwgInJhZGl1cyI6IDUsICJzdHJva2UiOiB0cnVlLCAid2VpZ2h0IjogM30KICAgICAgICAgICAgKS5hZGRUbyhtYXBfN2U5OWFmMGIwZTUzNDcxN2JkNDViN2E2NjcwMzFjNGEpOwogICAgICAgIAogICAgCiAgICAgICAgdmFyIHBvcHVwXzM1YTcxZTAwMmYxYTQwMmFiMzE4OWFlMTgxZmIwMGQyID0gTC5wb3B1cCh7Im1heFdpZHRoIjogIjEwMCUifSk7CgogICAgICAgIAogICAgICAgICAgICB2YXIgaHRtbF8xOWI0YzlhMGFmOWQ0NjJkYTJlMjJmYjM0ODJmMWIwZiA9ICQoYDxkaXYgaWQ9Imh0bWxfMTliNGM5YTBhZjlkNDYyZGEyZTIyZmIzNDgyZjFiMGYiIHN0eWxlPSJ3aWR0aDogMTAwLjAlOyBoZWlnaHQ6IDEwMC4wJTsiPkdPTERFTiBQTEFJTlMsIExvdzwvZGl2PmApWzBdOwogICAgICAgICAgICBwb3B1cF8zNWE3MWUwMDJmMWE0MDJhYjMxODlhZTE4MWZiMDBkMi5zZXRDb250ZW50KGh0bWxfMTliNGM5YTBhZjlkNDYyZGEyZTIyZmIzNDgyZjFiMGYpOwogICAgICAgIAoKICAgICAgICBjaXJjbGVfbWFya2VyXzljOGM5ZTlmODVjMjRiZTU4MDU1ZWU4ZWQ2YjQ1ZGE1LmJpbmRQb3B1cChwb3B1cF8zNWE3MWUwMDJmMWE0MDJhYjMxODlhZTE4MWZiMDBkMikKICAgICAgICA7CgogICAgICAgIAogICAgCiAgICAKICAgICAgICAgICAgdmFyIGNpcmNsZV9tYXJrZXJfOTA2MGZiZTM0YmVjNDdjMTkxNDZmYWMxNzIzNzQzYWYgPSBMLmNpcmNsZU1hcmtlcigKICAgICAgICAgICAgICAgIFs1Mi43MzkyMzIxNSwgLTcuNzA0NzIwMDY5MzMxMTU4XSwKICAgICAgICAgICAgICAgIHsiYnViYmxpbmdNb3VzZUV2ZW50cyI6IHRydWUsICJjb2xvciI6ICJibHVlIiwgImRhc2hBcnJheSI6IG51bGwsICJkYXNoT2Zmc2V0IjogbnVsbCwgImZpbGwiOiB0cnVlLCAiZmlsbENvbG9yIjogIiMzMTg2Y2MiLCAiZmlsbE9wYWNpdHkiOiAwLjcsICJmaWxsUnVsZSI6ICJldmVub2RkIiwgImxpbmVDYXAiOiAicm91bmQiLCAibGluZUpvaW4iOiAicm91bmQiLCAib3BhY2l0eSI6IDEuMCwgInJhZGl1cyI6IDUsICJzdHJva2UiOiB0cnVlLCAid2VpZ2h0IjogM30KICAgICAgICAgICAgKS5hZGRUbyhtYXBfN2U5OWFmMGIwZTUzNDcxN2JkNDViN2E2NjcwMzFjNGEpOwogICAgICAgIAogICAgCiAgICAgICAgdmFyIHBvcHVwXzYzM2NlNzc4YmI5YTQ2Yjc5NWEyOGM4YzUwMjM3Y2JmID0gTC5wb3B1cCh7Im1heFdpZHRoIjogIjEwMCUifSk7CgogICAgICAgIAogICAgICAgICAgICB2YXIgaHRtbF9mM2U0YjhiOTU2ODE0MWE0YTJhOWJhY2I0MzcyYWIxNCA9ICQoYDxkaXYgaWQ9Imh0bWxfZjNlNGI4Yjk1NjgxNDFhNGEyYTliYWNiNDM3MmFiMTQiIHN0eWxlPSJ3aWR0aDogMTAwLjAlOyBoZWlnaHQ6IDEwMC4wJTsiPk1PWU5FLCBMb3c8L2Rpdj5gKVswXTsKICAgICAgICAgICAgcG9wdXBfNjMzY2U3NzhiYjlhNDZiNzk1YTI4YzhjNTAyMzdjYmYuc2V0Q29udGVudChodG1sX2YzZTRiOGI5NTY4MTQxYTRhMmE5YmFjYjQzNzJhYjE0KTsKICAgICAgICAKCiAgICAgICAgY2lyY2xlX21hcmtlcl85MDYwZmJlMzRiZWM0N2MxOTE0NmZhYzE3MjM3NDNhZi5iaW5kUG9wdXAocG9wdXBfNjMzY2U3NzhiYjlhNDZiNzk1YTI4YzhjNTAyMzdjYmYpCiAgICAgICAgOwoKICAgICAgICAKICAgIAogICAgCiAgICAgICAgICAgIHZhciBjaXJjbGVfbWFya2VyX2U2NzU5OGQ3ZmUxMjRjZmQ5NzU1YTgwZDZjOWMwODMyID0gTC5jaXJjbGVNYXJrZXIoCiAgICAgICAgICAgICAgICBbLTM3LjI3OTA4ODE1LCAxNDIuOTgwNjI0NDc2MzQxMTJdLAogICAgICAgICAgICAgICAgeyJidWJibGluZ01vdXNlRXZlbnRzIjogdHJ1ZSwgImNvbG9yIjogImJsdWUiLCAiZGFzaEFycmF5IjogbnVsbCwgImRhc2hPZmZzZXQiOiBudWxsLCAiZmlsbCI6IHRydWUsICJmaWxsQ29sb3IiOiAiIzMxODZjYyIsICJmaWxsT3BhY2l0eSI6IDAuNywgImZpbGxSdWxlIjogImV2ZW5vZGQiLCAibGluZUNhcCI6ICJyb3VuZCIsICJsaW5lSm9pbiI6ICJyb3VuZCIsICJvcGFjaXR5IjogMS4wLCAicmFkaXVzIjogNSwgInN0cm9rZSI6IHRydWUsICJ3ZWlnaHQiOiAzfQogICAgICAgICAgICApLmFkZFRvKG1hcF83ZTk5YWYwYjBlNTM0NzE3YmQ0NWI3YTY2NzAzMWM0YSk7CiAgICAgICAgCiAgICAKICAgICAgICB2YXIgcG9wdXBfODg2OTJmZTdmZDQwNDE5NGE3ZTY5ZjZmZTE4Mzg0ZDMgPSBMLnBvcHVwKHsibWF4V2lkdGgiOiAiMTAwJSJ9KTsKCiAgICAgICAgCiAgICAgICAgICAgIHZhciBodG1sXzk1MmMyMjY1NmM0OTRlMDM4MzhjNDBmMzk5MmJhMjJmID0gJChgPGRpdiBpZD0iaHRtbF85NTJjMjI2NTZjNDk0ZTAzODM4YzQwZjM5OTJiYTIyZiIgc3R5bGU9IndpZHRoOiAxMDAuMCU7IGhlaWdodDogMTAwLjAlOyI+V0VTVCBXSU1NRVJBLCBMb3c8L2Rpdj5gKVswXTsKICAgICAgICAgICAgcG9wdXBfODg2OTJmZTdmZDQwNDE5NGE3ZTY5ZjZmZTE4Mzg0ZDMuc2V0Q29udGVudChodG1sXzk1MmMyMjY1NmM0OTRlMDM4MzhjNDBmMzk5MmJhMjJmKTsKICAgICAgICAKCiAgICAgICAgY2lyY2xlX21hcmtlcl9lNjc1OThkN2ZlMTI0Y2ZkOTc1NWE4MGQ2YzljMDgzMi5iaW5kUG9wdXAocG9wdXBfODg2OTJmZTdmZDQwNDE5NGE3ZTY5ZjZmZTE4Mzg0ZDMpCiAgICAgICAgOwoKICAgICAgICAKICAgIAogICAgCiAgICAgICAgICAgIHZhciBjaXJjbGVfbWFya2VyXzA5YWVhNGU3ZDRjNjQzMWZhMzE5ZWQzYzZiNjBmMjYzID0gTC5jaXJjbGVNYXJrZXIoCiAgICAgICAgICAgICAgICBbLTM2LjExNTIzNSwgMTQ2LjkwNTE1MTkyNDMzMjNdLAogICAgICAgICAgICAgICAgeyJidWJibGluZ01vdXNlRXZlbnRzIjogdHJ1ZSwgImNvbG9yIjogImJsdWUiLCAiZGFzaEFycmF5IjogbnVsbCwgImRhc2hPZmZzZXQiOiBudWxsLCAiZmlsbCI6IHRydWUsICJmaWxsQ29sb3IiOiAiIzMxODZjYyIsICJmaWxsT3BhY2l0eSI6IDAuNywgImZpbGxSdWxlIjogImV2ZW5vZGQiLCAibGluZUNhcCI6ICJyb3VuZCIsICJsaW5lSm9pbiI6ICJyb3VuZCIsICJvcGFjaXR5IjogMS4wLCAicmFkaXVzIjogNSwgInN0cm9rZSI6IHRydWUsICJ3ZWlnaHQiOiAzfQogICAgICAgICAgICApLmFkZFRvKG1hcF83ZTk5YWYwYjBlNTM0NzE3YmQ0NWI3YTY2NzAzMWM0YSk7CiAgICAgICAgCiAgICAKICAgICAgICB2YXIgcG9wdXBfYWI5YzE0MzY5Y2FiNDdjOTg4MGEyOTQxNmJlNTBjNzQgPSBMLnBvcHVwKHsibWF4V2lkdGgiOiAiMTAwJSJ9KTsKCiAgICAgICAgCiAgICAgICAgICAgIHZhciBodG1sX2YyYThmOWI2YjdmODQ0YzM4YjE1ODY0ZDMwMDAyY2ZlID0gJChgPGRpdiBpZD0iaHRtbF9mMmE4ZjliNmI3Zjg0NGMzOGIxNTg2NGQzMDAwMmNmZSIgc3R5bGU9IndpZHRoOiAxMDAuMCU7IGhlaWdodDogMTAwLjAlOyI+V09ET05HQSwgTG93PC9kaXY+YClbMF07CiAgICAgICAgICAgIHBvcHVwX2FiOWMxNDM2OWNhYjQ3Yzk4ODBhMjk0MTZiZTUwYzc0LnNldENvbnRlbnQoaHRtbF9mMmE4ZjliNmI3Zjg0NGMzOGIxNTg2NGQzMDAwMmNmZSk7CiAgICAgICAgCgogICAgICAgIGNpcmNsZV9tYXJrZXJfMDlhZWE0ZTdkNGM2NDMxZmEzMTllZDNjNmI2MGYyNjMuYmluZFBvcHVwKHBvcHVwX2FiOWMxNDM2OWNhYjQ3Yzk4ODBhMjk0MTZiZTUwYzc0KQogICAgICAgIDsKCiAgICAgICAgCiAgICAKICAgIAogICAgICAgICAgICB2YXIgY2lyY2xlX21hcmtlcl9iNDBkN2ExYmIwYjk0ZDUyYThmMWIwM2I0ZGIxMDFkOSA9IEwuY2lyY2xlTWFya2VyKAogICAgICAgICAgICAgICAgWy0zNi4wMjYyNTk2LCAxNDIuMzg4NTA0NjQ4MTE1MzddLAogICAgICAgICAgICAgICAgeyJidWJibGluZ01vdXNlRXZlbnRzIjogdHJ1ZSwgImNvbG9yIjogImJsdWUiLCAiZGFzaEFycmF5IjogbnVsbCwgImRhc2hPZmZzZXQiOiBudWxsLCAiZmlsbCI6IHRydWUsICJmaWxsQ29sb3IiOiAiIzMxODZjYyIsICJmaWxsT3BhY2l0eSI6IDAuNywgImZpbGxSdWxlIjogImV2ZW5vZGQiLCAibGluZUNhcCI6ICJyb3VuZCIsICJsaW5lSm9pbiI6ICJyb3VuZCIsICJvcGFjaXR5IjogMS4wLCAicmFkaXVzIjogNSwgInN0cm9rZSI6IHRydWUsICJ3ZWlnaHQiOiAzfQogICAgICAgICAgICApLmFkZFRvKG1hcF83ZTk5YWYwYjBlNTM0NzE3YmQ0NWI3YTY2NzAzMWM0YSk7CiAgICAgICAgCiAgICAKICAgICAgICB2YXIgcG9wdXBfYWU2ODA4YTcwYmUwNDc4M2ExZmQyZWRjOWJiNGMwYWIgPSBMLnBvcHVwKHsibWF4V2lkdGgiOiAiMTAwJSJ9KTsKCiAgICAgICAgCiAgICAgICAgICAgIHZhciBodG1sX2EyMGQ2ZjZiNjJjZTQyOWE4OGY4NjA3Y2Q3MTdjYWMzID0gJChgPGRpdiBpZD0iaHRtbF9hMjBkNmY2YjYyY2U0MjlhODhmODYwN2NkNzE3Y2FjMyIgc3R5bGU9IndpZHRoOiAxMDAuMCU7IGhlaWdodDogMTAwLjAlOyI+WUFSUklBTUJJQUNLLCBMb3c8L2Rpdj5gKVswXTsKICAgICAgICAgICAgcG9wdXBfYWU2ODA4YTcwYmUwNDc4M2ExZmQyZWRjOWJiNGMwYWIuc2V0Q29udGVudChodG1sX2EyMGQ2ZjZiNjJjZTQyOWE4OGY4NjA3Y2Q3MTdjYWMzKTsKICAgICAgICAKCiAgICAgICAgY2lyY2xlX21hcmtlcl9iNDBkN2ExYmIwYjk0ZDUyYThmMWIwM2I0ZGIxMDFkOS5iaW5kUG9wdXAocG9wdXBfYWU2ODA4YTcwYmUwNDc4M2ExZmQyZWRjOWJiNGMwYWIpCiAgICAgICAgOwoKICAgICAgICAKICAgIAogICAgCiAgICAgICAgICAgIHZhciBjaXJjbGVfbWFya2VyX2RmNWJhMDcyMzc4ZDRlMWNiZmVhZmQwNzAzN2NlOWI5ID0gTC5jaXJjbGVNYXJrZXIoCiAgICAgICAgICAgICAgICBbNi40MDI1ODk5NDk5OTk5OTksIDQzLjM5ODM4MjAxODQ4OTQ4NV0sCiAgICAgICAgICAgICAgICB7ImJ1YmJsaW5nTW91c2VFdmVudHMiOiB0cnVlLCAiY29sb3IiOiAiYmx1ZSIsICJkYXNoQXJyYXkiOiBudWxsLCAiZGFzaE9mZnNldCI6IG51bGwsICJmaWxsIjogdHJ1ZSwgImZpbGxDb2xvciI6ICIjMzE4NmNjIiwgImZpbGxPcGFjaXR5IjogMC43LCAiZmlsbFJ1bGUiOiAiZXZlbm9kZCIsICJsaW5lQ2FwIjogInJvdW5kIiwgImxpbmVKb2luIjogInJvdW5kIiwgIm9wYWNpdHkiOiAxLjAsICJyYWRpdXMiOiA1LCAic3Ryb2tlIjogdHJ1ZSwgIndlaWdodCI6IDN9CiAgICAgICAgICAgICkuYWRkVG8obWFwXzdlOTlhZjBiMGU1MzQ3MTdiZDQ1YjdhNjY3MDMxYzRhKTsKICAgICAgICAKICAgIAogICAgICAgIHZhciBwb3B1cF83OTk4NDkwOTdjOWU0OTY4OGZiMmM5MjZjNTk3Mzk4OCA9IEwucG9wdXAoeyJtYXhXaWR0aCI6ICIxMDAlIn0pOwoKICAgICAgICAKICAgICAgICAgICAgdmFyIGh0bWxfYmE1YTE3ZGMzNmVjNDhhNTlmYjVmNGQxYWY5ZTM4OWEgPSAkKGA8ZGl2IGlkPSJodG1sX2JhNWExN2RjMzZlYzQ4YTU5ZmI1ZjRkMWFmOWUzODlhIiBzdHlsZT0id2lkdGg6IDEwMC4wJTsgaGVpZ2h0OiAxMDAuMCU7Ij5VTktOT1dOLCBMb3c8L2Rpdj5gKVswXTsKICAgICAgICAgICAgcG9wdXBfNzk5ODQ5MDk3YzllNDk2ODhmYjJjOTI2YzU5NzM5ODguc2V0Q29udGVudChodG1sX2JhNWExN2RjMzZlYzQ4YTU5ZmI1ZjRkMWFmOWUzODlhKTsKICAgICAgICAKCiAgICAgICAgY2lyY2xlX21hcmtlcl9kZjViYTA3MjM3OGQ0ZTFjYmZlYWZkMDcwMzdjZTliOS5iaW5kUG9wdXAocG9wdXBfNzk5ODQ5MDk3YzllNDk2ODhmYjJjOTI2YzU5NzM5ODgpCiAgICAgICAgOwoKICAgICAgICAKICAgIAo8L3NjcmlwdD4= onload=\"this.contentDocument.open();this.contentDocument.write(atob(this.getAttribute('data-html')));this.contentDocument.close();\" allowfullscreen webkitallowfullscreen mozallowfullscreen></iframe></div></div>"
      ],
      "text/plain": [
       "<folium.folium.Map at 0x7fda624a9810>"
      ]
     },
     "execution_count": 68,
     "metadata": {},
     "output_type": "execute_result"
    }
   ],
   "source": [
    "# create map of Melbourne using latitude and longitude values\n",
    "map_melbourne = folium.Map(location=[latitude, longitude], zoom_start=7)\n",
    "\n",
    "# add markers to map\n",
    "for lat, lng, LGA, case_level in zip(df['latitude'], df['longitude'], df['LGA'], df['case_level']):\n",
    "    label = '{}, {}'.format(LGA, case_level)\n",
    "    label = folium.Popup(label, parse_html=True)\n",
    "    folium.CircleMarker(\n",
    "        [lat, lng],\n",
    "        radius=5,\n",
    "        popup=label,\n",
    "        color='blue',\n",
    "        fill=True,\n",
    "        fill_color='#3186cc',\n",
    "        fill_opacity=0.7,\n",
    "        parse_html=False).add_to(map_melbourne)  \n",
    "    \n",
    "map_melbourne"
   ]
  },
  {
   "cell_type": "code",
   "execution_count": null,
   "metadata": {},
   "outputs": [],
   "source": []
  },
  {
   "cell_type": "code",
   "execution_count": null,
   "metadata": {},
   "outputs": [],
   "source": []
  },
  {
   "cell_type": "code",
   "execution_count": null,
   "metadata": {},
   "outputs": [],
   "source": []
  },
  {
   "cell_type": "markdown",
   "metadata": {},
   "source": [
    "Create a search for **Gym and Fitness Centres**"
   ]
  },
  {
   "cell_type": "code",
   "execution_count": 78,
   "metadata": {},
   "outputs": [
    {
     "name": "stdout",
     "output_type": "stream",
     "text": [
      "Gym / Fitness Center .... OK!\n"
     ]
    }
   ],
   "source": [
    "search_query = 'Gym / Fitness Center'\n",
    "radius = 1500\n",
    "print(search_query + ' .... OK!')"
   ]
  },
  {
   "cell_type": "markdown",
   "metadata": {},
   "source": [
    "Use my **Foursquares API** to return a **Gym and Fitness Centres** in Victoria"
   ]
  },
  {
   "cell_type": "code",
   "execution_count": 79,
   "metadata": {},
   "outputs": [
    {
     "data": {
      "text/plain": [
       "'https://api.foursquare.com/v2/venues/search?client_id=Z01G5UOR0Q1WVBHYJXF0AX2FLJENVLGZ2WQSV0VDPDJ0SLJR&client_secret=EMIJH3XPNGDDDV2ZZEUT5G2VYFFYTA4NOJJPX05J1X5CYPNQ&ll=-37.8142176,144.9631608&v=20180604&query=Gym / Fitness Center&radius=1500&limit=30'"
      ]
     },
     "execution_count": 79,
     "metadata": {},
     "output_type": "execute_result"
    }
   ],
   "source": [
    "url = 'https://api.foursquare.com/v2/venues/search?client_id={}&client_secret={}&ll={},{}&v={}&query={}&radius={}&limit={}'.format(CLIENT_ID, CLIENT_SECRET, latitude, longitude, VERSION, search_query, radius, LIMIT)\n",
    "url"
   ]
  },
  {
   "cell_type": "markdown",
   "metadata": {},
   "source": [
    "Display the results"
   ]
  },
  {
   "cell_type": "code",
   "execution_count": 80,
   "metadata": {},
   "outputs": [
    {
     "data": {
      "text/plain": [
       "{'meta': {'code': 200, 'requestId': '5eec0474b1cac0001bf3e6b7'},\n",
       " 'response': {'venues': [{'id': '51152834e4b0b800aa983a2d',\n",
       "    'name': 'Fitness Center',\n",
       "    'location': {'lat': -37.81145524559534,\n",
       "     'lng': 144.9761321551663,\n",
       "     'labeledLatLngs': [{'label': 'display',\n",
       "       'lat': -37.81145524559534,\n",
       "       'lng': 144.9761321551663}],\n",
       "     'distance': 1181,\n",
       "     'cc': 'AU',\n",
       "     'country': 'Australia',\n",
       "     'formattedAddress': ['Australia']},\n",
       "    'categories': [{'id': '4bf58dd8d48988d175941735',\n",
       "      'name': 'Gym / Fitness Center',\n",
       "      'pluralName': 'Gyms or Fitness Centers',\n",
       "      'shortName': 'Gym / Fitness',\n",
       "      'icon': {'prefix': 'https://ss3.4sqi.net/img/categories_v2/building/gym_',\n",
       "       'suffix': '.png'},\n",
       "      'primary': True}],\n",
       "    'referralId': 'v-1592526063',\n",
       "    'hasPerk': False},\n",
       "   {'id': '5d145d6cb55cb80023dd36c7',\n",
       "    'name': 'FMC Melbourne - Fitness & Martial Arts Center',\n",
       "    'location': {'address': '446 Collins St',\n",
       "     'lat': -37.814666152243205,\n",
       "     'lng': 144.9623680114746,\n",
       "     'labeledLatLngs': [{'label': 'display',\n",
       "       'lat': -37.814666152243205,\n",
       "       'lng': 144.9623680114746}],\n",
       "     'distance': 85,\n",
       "     'postalCode': '3000',\n",
       "     'cc': 'AU',\n",
       "     'city': 'Melbourne',\n",
       "     'state': 'VIC',\n",
       "     'country': 'Australia',\n",
       "     'formattedAddress': ['446 Collins St',\n",
       "      'Melbourne VIC 3000',\n",
       "      'Australia']},\n",
       "    'categories': [{'id': '4bf58dd8d48988d101941735',\n",
       "      'name': 'Martial Arts Dojo',\n",
       "      'pluralName': 'Martial Arts Dojos',\n",
       "      'shortName': 'Martial Arts',\n",
       "      'icon': {'prefix': 'https://ss3.4sqi.net/img/categories_v2/shops/gym_martialarts_',\n",
       "       'suffix': '.png'},\n",
       "      'primary': True}],\n",
       "    'referralId': 'v-1592526063',\n",
       "    'hasPerk': False},\n",
       "   {'id': '5ceaef76f1936e002c896b55',\n",
       "    'name': 'doubletree fitness center',\n",
       "    'location': {'address': '270 Flinders Street',\n",
       "     'lat': -37.817762,\n",
       "     'lng': 144.96569,\n",
       "     'labeledLatLngs': [{'label': 'display',\n",
       "       'lat': -37.817762,\n",
       "       'lng': 144.96569}],\n",
       "     'distance': 452,\n",
       "     'postalCode': '3000',\n",
       "     'cc': 'AU',\n",
       "     'city': 'Melbourne',\n",
       "     'state': 'VIC',\n",
       "     'country': 'Australia',\n",
       "     'formattedAddress': ['270 Flinders Street',\n",
       "      'Melbourne VIC 3000',\n",
       "      'Australia']},\n",
       "    'categories': [{'id': '4bf58dd8d48988d175941735',\n",
       "      'name': 'Gym / Fitness Center',\n",
       "      'pluralName': 'Gyms or Fitness Centers',\n",
       "      'shortName': 'Gym / Fitness',\n",
       "      'icon': {'prefix': 'https://ss3.4sqi.net/img/categories_v2/building/gym_',\n",
       "       'suffix': '.png'},\n",
       "      'primary': True}],\n",
       "    'referralId': 'v-1592526063',\n",
       "    'hasPerk': False},\n",
       "   {'id': '5e3df8b23bf82d000731d6fe',\n",
       "    'name': 'Jasper Hotel Fitness Center',\n",
       "    'location': {'address': '489 Elizabeth Street',\n",
       "     'crossStreet': 'Therry',\n",
       "     'lat': -37.807479,\n",
       "     'lng': 144.959799,\n",
       "     'labeledLatLngs': [{'label': 'display',\n",
       "       'lat': -37.807479,\n",
       "       'lng': 144.959799}],\n",
       "     'distance': 806,\n",
       "     'postalCode': '3000',\n",
       "     'cc': 'AU',\n",
       "     'city': 'Melbourne',\n",
       "     'state': 'VIC',\n",
       "     'country': 'Australia',\n",
       "     'formattedAddress': ['489 Elizabeth Street (Therry)',\n",
       "      'Melbourne VIC 3000',\n",
       "      'Australia']},\n",
       "    'categories': [{'id': '4bf58dd8d48988d175941735',\n",
       "      'name': 'Gym / Fitness Center',\n",
       "      'pluralName': 'Gyms or Fitness Centers',\n",
       "      'shortName': 'Gym / Fitness',\n",
       "      'icon': {'prefix': 'https://ss3.4sqi.net/img/categories_v2/building/gym_',\n",
       "       'suffix': '.png'},\n",
       "      'primary': True}],\n",
       "    'referralId': 'v-1592526063',\n",
       "    'hasPerk': False},\n",
       "   {'id': '59a5347d4a1cc05dc1abd154',\n",
       "    'name': 'Gym In Melbourne | Fitness Classes | Gym Bootcamp',\n",
       "    'location': {'crossStreet': 'Mackenzie Street',\n",
       "     'lat': -37.80746045222838,\n",
       "     'lng': 144.96664478098788,\n",
       "     'labeledLatLngs': [{'label': 'display',\n",
       "       'lat': -37.80746045222838,\n",
       "       'lng': 144.96664478098788}],\n",
       "     'distance': 812,\n",
       "     'cc': 'AU',\n",
       "     'country': 'Australia',\n",
       "     'formattedAddress': ['Mackenzie Street', 'Australia']},\n",
       "    'categories': [{'id': '4bf58dd8d48988d175941735',\n",
       "      'name': 'Gym / Fitness Center',\n",
       "      'pluralName': 'Gyms or Fitness Centers',\n",
       "      'shortName': 'Gym / Fitness',\n",
       "      'icon': {'prefix': 'https://ss3.4sqi.net/img/categories_v2/building/gym_',\n",
       "       'suffix': '.png'},\n",
       "      'primary': True}],\n",
       "    'referralId': 'v-1592526063',\n",
       "    'hasPerk': False},\n",
       "   {'id': '4b0d92f1f964a520554b23e3',\n",
       "    'name': 'RACV Club - Fitness Centre',\n",
       "    'location': {'address': '501 Bourke St',\n",
       "     'crossStreet': 'New Chancery Ln',\n",
       "     'lat': -37.815656073358454,\n",
       "     'lng': 144.95965996935126,\n",
       "     'labeledLatLngs': [{'label': 'display',\n",
       "       'lat': -37.815656073358454,\n",
       "       'lng': 144.95965996935126}],\n",
       "     'distance': 347,\n",
       "     'postalCode': '3000',\n",
       "     'cc': 'AU',\n",
       "     'city': 'Melbourne',\n",
       "     'state': 'VIC',\n",
       "     'country': 'Australia',\n",
       "     'formattedAddress': ['501 Bourke St (New Chancery Ln)',\n",
       "      'Melbourne VIC 3000',\n",
       "      'Australia']},\n",
       "    'categories': [{'id': '4bf58dd8d48988d176941735',\n",
       "      'name': 'Gym',\n",
       "      'pluralName': 'Gyms',\n",
       "      'shortName': 'Gym',\n",
       "      'icon': {'prefix': 'https://ss3.4sqi.net/img/categories_v2/building/gym_',\n",
       "       'suffix': '.png'},\n",
       "      'primary': True}],\n",
       "    'referralId': 'v-1592526063',\n",
       "    'hasPerk': False},\n",
       "   {'id': '4f9b081be4b0873b66757d86',\n",
       "    'name': 'Marriott Fitness center',\n",
       "    'location': {'address': 'Residence Inn',\n",
       "     'lat': -37.799371,\n",
       "     'lng': 144.959871,\n",
       "     'labeledLatLngs': [{'label': 'display',\n",
       "       'lat': -37.799371,\n",
       "       'lng': 144.959871}],\n",
       "     'distance': 1677,\n",
       "     'cc': 'AU',\n",
       "     'country': 'Australia',\n",
       "     'formattedAddress': ['Residence Inn', 'Australia']},\n",
       "    'categories': [{'id': '4bf58dd8d48988d176941735',\n",
       "      'name': 'Gym',\n",
       "      'pluralName': 'Gyms',\n",
       "      'shortName': 'Gym',\n",
       "      'icon': {'prefix': 'https://ss3.4sqi.net/img/categories_v2/building/gym_',\n",
       "       'suffix': '.png'},\n",
       "      'primary': True}],\n",
       "    'referralId': 'v-1592526063',\n",
       "    'hasPerk': False},\n",
       "   {'id': '529e36c4498e392add386dfa',\n",
       "    'name': 'City Club At Grand Hyatt',\n",
       "    'location': {'address': '111 Collins Street',\n",
       "     'lat': -37.81531947879204,\n",
       "     'lng': 144.96955548160403,\n",
       "     'labeledLatLngs': [{'label': 'display',\n",
       "       'lat': -37.81531947879204,\n",
       "       'lng': 144.96955548160403}],\n",
       "     'distance': 575,\n",
       "     'postalCode': '3000',\n",
       "     'cc': 'AU',\n",
       "     'neighborhood': 'Melbourne CBD, Melbourne, VIC',\n",
       "     'city': 'Melbourne',\n",
       "     'state': 'VIC',\n",
       "     'country': 'Australia',\n",
       "     'formattedAddress': ['111 Collins Street',\n",
       "      'Melbourne VIC 3000',\n",
       "      'Australia']},\n",
       "    'categories': [{'id': '4bf58dd8d48988d176941735',\n",
       "      'name': 'Gym',\n",
       "      'pluralName': 'Gyms',\n",
       "      'shortName': 'Gym',\n",
       "      'icon': {'prefix': 'https://ss3.4sqi.net/img/categories_v2/building/gym_',\n",
       "       'suffix': '.png'},\n",
       "      'primary': True}],\n",
       "    'referralId': 'v-1592526063',\n",
       "    'hasPerk': False},\n",
       "   {'id': '526e2366498ee3fd8486084e',\n",
       "    'name': 'Melbourne University Gym and Sport Center',\n",
       "    'location': {'lat': -37.802094927353814,\n",
       "     'lng': 144.9618746065149,\n",
       "     'labeledLatLngs': [{'label': 'display',\n",
       "       'lat': -37.802094927353814,\n",
       "       'lng': 144.9618746065149}],\n",
       "     'distance': 1354,\n",
       "     'cc': 'AU',\n",
       "     'country': 'Australia',\n",
       "     'formattedAddress': ['Australia']},\n",
       "    'categories': [{'id': '4bf58dd8d48988d1b2941735',\n",
       "      'name': 'College Gym',\n",
       "      'pluralName': 'College Gyms',\n",
       "      'shortName': 'Gym',\n",
       "      'icon': {'prefix': 'https://ss3.4sqi.net/img/categories_v2/building/gym_',\n",
       "       'suffix': '.png'},\n",
       "      'primary': True}],\n",
       "    'referralId': 'v-1592526063',\n",
       "    'hasPerk': False},\n",
       "   {'id': '4c0c0bdb340720a117128993',\n",
       "    'name': 'RMIT City Fitness',\n",
       "    'location': {'address': '360 Swanston St.',\n",
       "     'lat': -37.80837023255577,\n",
       "     'lng': 144.96328895922545,\n",
       "     'labeledLatLngs': [{'label': 'display',\n",
       "       'lat': -37.80837023255577,\n",
       "       'lng': 144.96328895922545}],\n",
       "     'distance': 651,\n",
       "     'postalCode': '3000',\n",
       "     'cc': 'AU',\n",
       "     'city': 'Melbourne',\n",
       "     'state': 'VIC',\n",
       "     'country': 'Australia',\n",
       "     'formattedAddress': ['360 Swanston St.',\n",
       "      'Melbourne VIC 3000',\n",
       "      'Australia']},\n",
       "    'categories': [{'id': '4bf58dd8d48988d1b2941735',\n",
       "      'name': 'College Gym',\n",
       "      'pluralName': 'College Gyms',\n",
       "      'shortName': 'Gym',\n",
       "      'icon': {'prefix': 'https://ss3.4sqi.net/img/categories_v2/building/gym_',\n",
       "       'suffix': '.png'},\n",
       "      'primary': True}],\n",
       "    'referralId': 'v-1592526063',\n",
       "    'hasPerk': False}]}}"
      ]
     },
     "execution_count": 80,
     "metadata": {},
     "output_type": "execute_result"
    }
   ],
   "source": [
    "results = requests.get(url).json()\n",
    "results"
   ]
  },
  {
   "cell_type": "markdown",
   "metadata": {},
   "source": [
    "Use the **json normalise** assign the **gym and fitness centre** data from **Foursquares API**  to the new dataframe"
   ]
  },
  {
   "cell_type": "code",
   "execution_count": 76,
   "metadata": {},
   "outputs": [],
   "source": [
    "from pandas.io.json import json_normalize"
   ]
  },
  {
   "cell_type": "code",
   "execution_count": 82,
   "metadata": {
    "scrolled": false
   },
   "outputs": [
    {
     "name": "stderr",
     "output_type": "stream",
     "text": [
      "/Users/jewelspace/.conda/envs/Final_Project/lib/python3.7/site-packages/ipykernel_launcher.py:5: FutureWarning: pandas.io.json.json_normalize is deprecated, use pandas.json_normalize instead\n",
      "  \"\"\"\n"
     ]
    },
    {
     "data": {
      "text/html": [
       "<div>\n",
       "<style scoped>\n",
       "    .dataframe tbody tr th:only-of-type {\n",
       "        vertical-align: middle;\n",
       "    }\n",
       "\n",
       "    .dataframe tbody tr th {\n",
       "        vertical-align: top;\n",
       "    }\n",
       "\n",
       "    .dataframe thead th {\n",
       "        text-align: right;\n",
       "    }\n",
       "</style>\n",
       "<table border=\"1\" class=\"dataframe\">\n",
       "  <thead>\n",
       "    <tr style=\"text-align: right;\">\n",
       "      <th></th>\n",
       "      <th>id</th>\n",
       "      <th>name</th>\n",
       "      <th>categories</th>\n",
       "      <th>referralId</th>\n",
       "      <th>hasPerk</th>\n",
       "      <th>location.lat</th>\n",
       "      <th>location.lng</th>\n",
       "      <th>location.labeledLatLngs</th>\n",
       "      <th>location.distance</th>\n",
       "      <th>location.cc</th>\n",
       "      <th>location.country</th>\n",
       "      <th>location.formattedAddress</th>\n",
       "      <th>location.address</th>\n",
       "      <th>location.postalCode</th>\n",
       "      <th>location.city</th>\n",
       "      <th>location.state</th>\n",
       "      <th>location.crossStreet</th>\n",
       "      <th>location.neighborhood</th>\n",
       "    </tr>\n",
       "  </thead>\n",
       "  <tbody>\n",
       "    <tr>\n",
       "      <th>0</th>\n",
       "      <td>51152834e4b0b800aa983a2d</td>\n",
       "      <td>Fitness Center</td>\n",
       "      <td>[{'id': '4bf58dd8d48988d175941735', 'name': 'G...</td>\n",
       "      <td>v-1592526063</td>\n",
       "      <td>False</td>\n",
       "      <td>-37.811455</td>\n",
       "      <td>144.976132</td>\n",
       "      <td>[{'label': 'display', 'lat': -37.8114552455953...</td>\n",
       "      <td>1181</td>\n",
       "      <td>AU</td>\n",
       "      <td>Australia</td>\n",
       "      <td>[Australia]</td>\n",
       "      <td>NaN</td>\n",
       "      <td>NaN</td>\n",
       "      <td>NaN</td>\n",
       "      <td>NaN</td>\n",
       "      <td>NaN</td>\n",
       "      <td>NaN</td>\n",
       "    </tr>\n",
       "    <tr>\n",
       "      <th>1</th>\n",
       "      <td>5d145d6cb55cb80023dd36c7</td>\n",
       "      <td>FMC Melbourne - Fitness &amp; Martial Arts Center</td>\n",
       "      <td>[{'id': '4bf58dd8d48988d101941735', 'name': 'M...</td>\n",
       "      <td>v-1592526063</td>\n",
       "      <td>False</td>\n",
       "      <td>-37.814666</td>\n",
       "      <td>144.962368</td>\n",
       "      <td>[{'label': 'display', 'lat': -37.8146661522432...</td>\n",
       "      <td>85</td>\n",
       "      <td>AU</td>\n",
       "      <td>Australia</td>\n",
       "      <td>[446 Collins St, Melbourne VIC 3000, Australia]</td>\n",
       "      <td>446 Collins St</td>\n",
       "      <td>3000</td>\n",
       "      <td>Melbourne</td>\n",
       "      <td>VIC</td>\n",
       "      <td>NaN</td>\n",
       "      <td>NaN</td>\n",
       "    </tr>\n",
       "    <tr>\n",
       "      <th>2</th>\n",
       "      <td>5ceaef76f1936e002c896b55</td>\n",
       "      <td>doubletree fitness center</td>\n",
       "      <td>[{'id': '4bf58dd8d48988d175941735', 'name': 'G...</td>\n",
       "      <td>v-1592526063</td>\n",
       "      <td>False</td>\n",
       "      <td>-37.817762</td>\n",
       "      <td>144.965690</td>\n",
       "      <td>[{'label': 'display', 'lat': -37.817762, 'lng'...</td>\n",
       "      <td>452</td>\n",
       "      <td>AU</td>\n",
       "      <td>Australia</td>\n",
       "      <td>[270 Flinders Street, Melbourne VIC 3000, Aust...</td>\n",
       "      <td>270 Flinders Street</td>\n",
       "      <td>3000</td>\n",
       "      <td>Melbourne</td>\n",
       "      <td>VIC</td>\n",
       "      <td>NaN</td>\n",
       "      <td>NaN</td>\n",
       "    </tr>\n",
       "    <tr>\n",
       "      <th>3</th>\n",
       "      <td>5e3df8b23bf82d000731d6fe</td>\n",
       "      <td>Jasper Hotel Fitness Center</td>\n",
       "      <td>[{'id': '4bf58dd8d48988d175941735', 'name': 'G...</td>\n",
       "      <td>v-1592526063</td>\n",
       "      <td>False</td>\n",
       "      <td>-37.807479</td>\n",
       "      <td>144.959799</td>\n",
       "      <td>[{'label': 'display', 'lat': -37.807479, 'lng'...</td>\n",
       "      <td>806</td>\n",
       "      <td>AU</td>\n",
       "      <td>Australia</td>\n",
       "      <td>[489 Elizabeth Street (Therry), Melbourne VIC ...</td>\n",
       "      <td>489 Elizabeth Street</td>\n",
       "      <td>3000</td>\n",
       "      <td>Melbourne</td>\n",
       "      <td>VIC</td>\n",
       "      <td>Therry</td>\n",
       "      <td>NaN</td>\n",
       "    </tr>\n",
       "    <tr>\n",
       "      <th>4</th>\n",
       "      <td>59a5347d4a1cc05dc1abd154</td>\n",
       "      <td>Gym In Melbourne | Fitness Classes | Gym Bootcamp</td>\n",
       "      <td>[{'id': '4bf58dd8d48988d175941735', 'name': 'G...</td>\n",
       "      <td>v-1592526063</td>\n",
       "      <td>False</td>\n",
       "      <td>-37.807460</td>\n",
       "      <td>144.966645</td>\n",
       "      <td>[{'label': 'display', 'lat': -37.8074604522283...</td>\n",
       "      <td>812</td>\n",
       "      <td>AU</td>\n",
       "      <td>Australia</td>\n",
       "      <td>[Mackenzie Street, Australia]</td>\n",
       "      <td>NaN</td>\n",
       "      <td>NaN</td>\n",
       "      <td>NaN</td>\n",
       "      <td>NaN</td>\n",
       "      <td>Mackenzie Street</td>\n",
       "      <td>NaN</td>\n",
       "    </tr>\n",
       "    <tr>\n",
       "      <th>5</th>\n",
       "      <td>4b0d92f1f964a520554b23e3</td>\n",
       "      <td>RACV Club - Fitness Centre</td>\n",
       "      <td>[{'id': '4bf58dd8d48988d176941735', 'name': 'G...</td>\n",
       "      <td>v-1592526063</td>\n",
       "      <td>False</td>\n",
       "      <td>-37.815656</td>\n",
       "      <td>144.959660</td>\n",
       "      <td>[{'label': 'display', 'lat': -37.8156560733584...</td>\n",
       "      <td>347</td>\n",
       "      <td>AU</td>\n",
       "      <td>Australia</td>\n",
       "      <td>[501 Bourke St (New Chancery Ln), Melbourne VI...</td>\n",
       "      <td>501 Bourke St</td>\n",
       "      <td>3000</td>\n",
       "      <td>Melbourne</td>\n",
       "      <td>VIC</td>\n",
       "      <td>New Chancery Ln</td>\n",
       "      <td>NaN</td>\n",
       "    </tr>\n",
       "    <tr>\n",
       "      <th>6</th>\n",
       "      <td>4f9b081be4b0873b66757d86</td>\n",
       "      <td>Marriott Fitness center</td>\n",
       "      <td>[{'id': '4bf58dd8d48988d176941735', 'name': 'G...</td>\n",
       "      <td>v-1592526063</td>\n",
       "      <td>False</td>\n",
       "      <td>-37.799371</td>\n",
       "      <td>144.959871</td>\n",
       "      <td>[{'label': 'display', 'lat': -37.799371, 'lng'...</td>\n",
       "      <td>1677</td>\n",
       "      <td>AU</td>\n",
       "      <td>Australia</td>\n",
       "      <td>[Residence Inn, Australia]</td>\n",
       "      <td>Residence Inn</td>\n",
       "      <td>NaN</td>\n",
       "      <td>NaN</td>\n",
       "      <td>NaN</td>\n",
       "      <td>NaN</td>\n",
       "      <td>NaN</td>\n",
       "    </tr>\n",
       "    <tr>\n",
       "      <th>7</th>\n",
       "      <td>529e36c4498e392add386dfa</td>\n",
       "      <td>City Club At Grand Hyatt</td>\n",
       "      <td>[{'id': '4bf58dd8d48988d176941735', 'name': 'G...</td>\n",
       "      <td>v-1592526063</td>\n",
       "      <td>False</td>\n",
       "      <td>-37.815319</td>\n",
       "      <td>144.969555</td>\n",
       "      <td>[{'label': 'display', 'lat': -37.8153194787920...</td>\n",
       "      <td>575</td>\n",
       "      <td>AU</td>\n",
       "      <td>Australia</td>\n",
       "      <td>[111 Collins Street, Melbourne VIC 3000, Austr...</td>\n",
       "      <td>111 Collins Street</td>\n",
       "      <td>3000</td>\n",
       "      <td>Melbourne</td>\n",
       "      <td>VIC</td>\n",
       "      <td>NaN</td>\n",
       "      <td>Melbourne CBD, Melbourne, VIC</td>\n",
       "    </tr>\n",
       "    <tr>\n",
       "      <th>8</th>\n",
       "      <td>526e2366498ee3fd8486084e</td>\n",
       "      <td>Melbourne University Gym and Sport Center</td>\n",
       "      <td>[{'id': '4bf58dd8d48988d1b2941735', 'name': 'C...</td>\n",
       "      <td>v-1592526063</td>\n",
       "      <td>False</td>\n",
       "      <td>-37.802095</td>\n",
       "      <td>144.961875</td>\n",
       "      <td>[{'label': 'display', 'lat': -37.8020949273538...</td>\n",
       "      <td>1354</td>\n",
       "      <td>AU</td>\n",
       "      <td>Australia</td>\n",
       "      <td>[Australia]</td>\n",
       "      <td>NaN</td>\n",
       "      <td>NaN</td>\n",
       "      <td>NaN</td>\n",
       "      <td>NaN</td>\n",
       "      <td>NaN</td>\n",
       "      <td>NaN</td>\n",
       "    </tr>\n",
       "    <tr>\n",
       "      <th>9</th>\n",
       "      <td>4c0c0bdb340720a117128993</td>\n",
       "      <td>RMIT City Fitness</td>\n",
       "      <td>[{'id': '4bf58dd8d48988d1b2941735', 'name': 'C...</td>\n",
       "      <td>v-1592526063</td>\n",
       "      <td>False</td>\n",
       "      <td>-37.808370</td>\n",
       "      <td>144.963289</td>\n",
       "      <td>[{'label': 'display', 'lat': -37.8083702325557...</td>\n",
       "      <td>651</td>\n",
       "      <td>AU</td>\n",
       "      <td>Australia</td>\n",
       "      <td>[360 Swanston St., Melbourne VIC 3000, Australia]</td>\n",
       "      <td>360 Swanston St.</td>\n",
       "      <td>3000</td>\n",
       "      <td>Melbourne</td>\n",
       "      <td>VIC</td>\n",
       "      <td>NaN</td>\n",
       "      <td>NaN</td>\n",
       "    </tr>\n",
       "  </tbody>\n",
       "</table>\n",
       "</div>"
      ],
      "text/plain": [
       "                         id  \\\n",
       "0  51152834e4b0b800aa983a2d   \n",
       "1  5d145d6cb55cb80023dd36c7   \n",
       "2  5ceaef76f1936e002c896b55   \n",
       "3  5e3df8b23bf82d000731d6fe   \n",
       "4  59a5347d4a1cc05dc1abd154   \n",
       "5  4b0d92f1f964a520554b23e3   \n",
       "6  4f9b081be4b0873b66757d86   \n",
       "7  529e36c4498e392add386dfa   \n",
       "8  526e2366498ee3fd8486084e   \n",
       "9  4c0c0bdb340720a117128993   \n",
       "\n",
       "                                                name  \\\n",
       "0                                     Fitness Center   \n",
       "1      FMC Melbourne - Fitness & Martial Arts Center   \n",
       "2                          doubletree fitness center   \n",
       "3                        Jasper Hotel Fitness Center   \n",
       "4  Gym In Melbourne | Fitness Classes | Gym Bootcamp   \n",
       "5                         RACV Club - Fitness Centre   \n",
       "6                            Marriott Fitness center   \n",
       "7                           City Club At Grand Hyatt   \n",
       "8          Melbourne University Gym and Sport Center   \n",
       "9                                  RMIT City Fitness   \n",
       "\n",
       "                                          categories    referralId  hasPerk  \\\n",
       "0  [{'id': '4bf58dd8d48988d175941735', 'name': 'G...  v-1592526063    False   \n",
       "1  [{'id': '4bf58dd8d48988d101941735', 'name': 'M...  v-1592526063    False   \n",
       "2  [{'id': '4bf58dd8d48988d175941735', 'name': 'G...  v-1592526063    False   \n",
       "3  [{'id': '4bf58dd8d48988d175941735', 'name': 'G...  v-1592526063    False   \n",
       "4  [{'id': '4bf58dd8d48988d175941735', 'name': 'G...  v-1592526063    False   \n",
       "5  [{'id': '4bf58dd8d48988d176941735', 'name': 'G...  v-1592526063    False   \n",
       "6  [{'id': '4bf58dd8d48988d176941735', 'name': 'G...  v-1592526063    False   \n",
       "7  [{'id': '4bf58dd8d48988d176941735', 'name': 'G...  v-1592526063    False   \n",
       "8  [{'id': '4bf58dd8d48988d1b2941735', 'name': 'C...  v-1592526063    False   \n",
       "9  [{'id': '4bf58dd8d48988d1b2941735', 'name': 'C...  v-1592526063    False   \n",
       "\n",
       "   location.lat  location.lng  \\\n",
       "0    -37.811455    144.976132   \n",
       "1    -37.814666    144.962368   \n",
       "2    -37.817762    144.965690   \n",
       "3    -37.807479    144.959799   \n",
       "4    -37.807460    144.966645   \n",
       "5    -37.815656    144.959660   \n",
       "6    -37.799371    144.959871   \n",
       "7    -37.815319    144.969555   \n",
       "8    -37.802095    144.961875   \n",
       "9    -37.808370    144.963289   \n",
       "\n",
       "                             location.labeledLatLngs  location.distance  \\\n",
       "0  [{'label': 'display', 'lat': -37.8114552455953...               1181   \n",
       "1  [{'label': 'display', 'lat': -37.8146661522432...                 85   \n",
       "2  [{'label': 'display', 'lat': -37.817762, 'lng'...                452   \n",
       "3  [{'label': 'display', 'lat': -37.807479, 'lng'...                806   \n",
       "4  [{'label': 'display', 'lat': -37.8074604522283...                812   \n",
       "5  [{'label': 'display', 'lat': -37.8156560733584...                347   \n",
       "6  [{'label': 'display', 'lat': -37.799371, 'lng'...               1677   \n",
       "7  [{'label': 'display', 'lat': -37.8153194787920...                575   \n",
       "8  [{'label': 'display', 'lat': -37.8020949273538...               1354   \n",
       "9  [{'label': 'display', 'lat': -37.8083702325557...                651   \n",
       "\n",
       "  location.cc location.country  \\\n",
       "0          AU        Australia   \n",
       "1          AU        Australia   \n",
       "2          AU        Australia   \n",
       "3          AU        Australia   \n",
       "4          AU        Australia   \n",
       "5          AU        Australia   \n",
       "6          AU        Australia   \n",
       "7          AU        Australia   \n",
       "8          AU        Australia   \n",
       "9          AU        Australia   \n",
       "\n",
       "                           location.formattedAddress      location.address  \\\n",
       "0                                        [Australia]                   NaN   \n",
       "1    [446 Collins St, Melbourne VIC 3000, Australia]        446 Collins St   \n",
       "2  [270 Flinders Street, Melbourne VIC 3000, Aust...   270 Flinders Street   \n",
       "3  [489 Elizabeth Street (Therry), Melbourne VIC ...  489 Elizabeth Street   \n",
       "4                      [Mackenzie Street, Australia]                   NaN   \n",
       "5  [501 Bourke St (New Chancery Ln), Melbourne VI...         501 Bourke St   \n",
       "6                         [Residence Inn, Australia]         Residence Inn   \n",
       "7  [111 Collins Street, Melbourne VIC 3000, Austr...    111 Collins Street   \n",
       "8                                        [Australia]                   NaN   \n",
       "9  [360 Swanston St., Melbourne VIC 3000, Australia]      360 Swanston St.   \n",
       "\n",
       "  location.postalCode location.city location.state location.crossStreet  \\\n",
       "0                 NaN           NaN            NaN                  NaN   \n",
       "1                3000     Melbourne            VIC                  NaN   \n",
       "2                3000     Melbourne            VIC                  NaN   \n",
       "3                3000     Melbourne            VIC               Therry   \n",
       "4                 NaN           NaN            NaN     Mackenzie Street   \n",
       "5                3000     Melbourne            VIC      New Chancery Ln   \n",
       "6                 NaN           NaN            NaN                  NaN   \n",
       "7                3000     Melbourne            VIC                  NaN   \n",
       "8                 NaN           NaN            NaN                  NaN   \n",
       "9                3000     Melbourne            VIC                  NaN   \n",
       "\n",
       "           location.neighborhood  \n",
       "0                            NaN  \n",
       "1                            NaN  \n",
       "2                            NaN  \n",
       "3                            NaN  \n",
       "4                            NaN  \n",
       "5                            NaN  \n",
       "6                            NaN  \n",
       "7  Melbourne CBD, Melbourne, VIC  \n",
       "8                            NaN  \n",
       "9                            NaN  "
      ]
     },
     "execution_count": 82,
     "metadata": {},
     "output_type": "execute_result"
    }
   ],
   "source": [
    "# assign relevant part of JSON to venues\n",
    "venues = results['response']['venues']\n",
    "\n",
    "# tranform venues into a dataframe\n",
    "df = json_normalize(venues)\n",
    "df"
   ]
  },
  {
   "cell_type": "markdown",
   "metadata": {},
   "source": [
    "Filter the data display the names"
   ]
  },
  {
   "cell_type": "code",
   "execution_count": 84,
   "metadata": {
    "scrolled": true
   },
   "outputs": [
    {
     "data": {
      "text/html": [
       "<div>\n",
       "<style scoped>\n",
       "    .dataframe tbody tr th:only-of-type {\n",
       "        vertical-align: middle;\n",
       "    }\n",
       "\n",
       "    .dataframe tbody tr th {\n",
       "        vertical-align: top;\n",
       "    }\n",
       "\n",
       "    .dataframe thead th {\n",
       "        text-align: right;\n",
       "    }\n",
       "</style>\n",
       "<table border=\"1\" class=\"dataframe\">\n",
       "  <thead>\n",
       "    <tr style=\"text-align: right;\">\n",
       "      <th></th>\n",
       "      <th>name</th>\n",
       "      <th>categories</th>\n",
       "      <th>lat</th>\n",
       "      <th>lng</th>\n",
       "      <th>labeledLatLngs</th>\n",
       "      <th>distance</th>\n",
       "      <th>cc</th>\n",
       "      <th>country</th>\n",
       "      <th>formattedAddress</th>\n",
       "      <th>address</th>\n",
       "      <th>postalCode</th>\n",
       "      <th>city</th>\n",
       "      <th>state</th>\n",
       "      <th>crossStreet</th>\n",
       "      <th>neighborhood</th>\n",
       "      <th>id</th>\n",
       "    </tr>\n",
       "  </thead>\n",
       "  <tbody>\n",
       "    <tr>\n",
       "      <th>0</th>\n",
       "      <td>Fitness Center</td>\n",
       "      <td>Gym / Fitness Center</td>\n",
       "      <td>-37.811455</td>\n",
       "      <td>144.976132</td>\n",
       "      <td>[{'label': 'display', 'lat': -37.8114552455953...</td>\n",
       "      <td>1181</td>\n",
       "      <td>AU</td>\n",
       "      <td>Australia</td>\n",
       "      <td>[Australia]</td>\n",
       "      <td>NaN</td>\n",
       "      <td>NaN</td>\n",
       "      <td>NaN</td>\n",
       "      <td>NaN</td>\n",
       "      <td>NaN</td>\n",
       "      <td>NaN</td>\n",
       "      <td>51152834e4b0b800aa983a2d</td>\n",
       "    </tr>\n",
       "    <tr>\n",
       "      <th>1</th>\n",
       "      <td>FMC Melbourne - Fitness &amp; Martial Arts Center</td>\n",
       "      <td>Martial Arts Dojo</td>\n",
       "      <td>-37.814666</td>\n",
       "      <td>144.962368</td>\n",
       "      <td>[{'label': 'display', 'lat': -37.8146661522432...</td>\n",
       "      <td>85</td>\n",
       "      <td>AU</td>\n",
       "      <td>Australia</td>\n",
       "      <td>[446 Collins St, Melbourne VIC 3000, Australia]</td>\n",
       "      <td>446 Collins St</td>\n",
       "      <td>3000</td>\n",
       "      <td>Melbourne</td>\n",
       "      <td>VIC</td>\n",
       "      <td>NaN</td>\n",
       "      <td>NaN</td>\n",
       "      <td>5d145d6cb55cb80023dd36c7</td>\n",
       "    </tr>\n",
       "    <tr>\n",
       "      <th>2</th>\n",
       "      <td>doubletree fitness center</td>\n",
       "      <td>Gym / Fitness Center</td>\n",
       "      <td>-37.817762</td>\n",
       "      <td>144.965690</td>\n",
       "      <td>[{'label': 'display', 'lat': -37.817762, 'lng'...</td>\n",
       "      <td>452</td>\n",
       "      <td>AU</td>\n",
       "      <td>Australia</td>\n",
       "      <td>[270 Flinders Street, Melbourne VIC 3000, Aust...</td>\n",
       "      <td>270 Flinders Street</td>\n",
       "      <td>3000</td>\n",
       "      <td>Melbourne</td>\n",
       "      <td>VIC</td>\n",
       "      <td>NaN</td>\n",
       "      <td>NaN</td>\n",
       "      <td>5ceaef76f1936e002c896b55</td>\n",
       "    </tr>\n",
       "    <tr>\n",
       "      <th>3</th>\n",
       "      <td>Jasper Hotel Fitness Center</td>\n",
       "      <td>Gym / Fitness Center</td>\n",
       "      <td>-37.807479</td>\n",
       "      <td>144.959799</td>\n",
       "      <td>[{'label': 'display', 'lat': -37.807479, 'lng'...</td>\n",
       "      <td>806</td>\n",
       "      <td>AU</td>\n",
       "      <td>Australia</td>\n",
       "      <td>[489 Elizabeth Street (Therry), Melbourne VIC ...</td>\n",
       "      <td>489 Elizabeth Street</td>\n",
       "      <td>3000</td>\n",
       "      <td>Melbourne</td>\n",
       "      <td>VIC</td>\n",
       "      <td>Therry</td>\n",
       "      <td>NaN</td>\n",
       "      <td>5e3df8b23bf82d000731d6fe</td>\n",
       "    </tr>\n",
       "    <tr>\n",
       "      <th>4</th>\n",
       "      <td>Gym In Melbourne | Fitness Classes | Gym Bootcamp</td>\n",
       "      <td>Gym / Fitness Center</td>\n",
       "      <td>-37.807460</td>\n",
       "      <td>144.966645</td>\n",
       "      <td>[{'label': 'display', 'lat': -37.8074604522283...</td>\n",
       "      <td>812</td>\n",
       "      <td>AU</td>\n",
       "      <td>Australia</td>\n",
       "      <td>[Mackenzie Street, Australia]</td>\n",
       "      <td>NaN</td>\n",
       "      <td>NaN</td>\n",
       "      <td>NaN</td>\n",
       "      <td>NaN</td>\n",
       "      <td>Mackenzie Street</td>\n",
       "      <td>NaN</td>\n",
       "      <td>59a5347d4a1cc05dc1abd154</td>\n",
       "    </tr>\n",
       "    <tr>\n",
       "      <th>5</th>\n",
       "      <td>RACV Club - Fitness Centre</td>\n",
       "      <td>Gym</td>\n",
       "      <td>-37.815656</td>\n",
       "      <td>144.959660</td>\n",
       "      <td>[{'label': 'display', 'lat': -37.8156560733584...</td>\n",
       "      <td>347</td>\n",
       "      <td>AU</td>\n",
       "      <td>Australia</td>\n",
       "      <td>[501 Bourke St (New Chancery Ln), Melbourne VI...</td>\n",
       "      <td>501 Bourke St</td>\n",
       "      <td>3000</td>\n",
       "      <td>Melbourne</td>\n",
       "      <td>VIC</td>\n",
       "      <td>New Chancery Ln</td>\n",
       "      <td>NaN</td>\n",
       "      <td>4b0d92f1f964a520554b23e3</td>\n",
       "    </tr>\n",
       "    <tr>\n",
       "      <th>6</th>\n",
       "      <td>Marriott Fitness center</td>\n",
       "      <td>Gym</td>\n",
       "      <td>-37.799371</td>\n",
       "      <td>144.959871</td>\n",
       "      <td>[{'label': 'display', 'lat': -37.799371, 'lng'...</td>\n",
       "      <td>1677</td>\n",
       "      <td>AU</td>\n",
       "      <td>Australia</td>\n",
       "      <td>[Residence Inn, Australia]</td>\n",
       "      <td>Residence Inn</td>\n",
       "      <td>NaN</td>\n",
       "      <td>NaN</td>\n",
       "      <td>NaN</td>\n",
       "      <td>NaN</td>\n",
       "      <td>NaN</td>\n",
       "      <td>4f9b081be4b0873b66757d86</td>\n",
       "    </tr>\n",
       "    <tr>\n",
       "      <th>7</th>\n",
       "      <td>City Club At Grand Hyatt</td>\n",
       "      <td>Gym</td>\n",
       "      <td>-37.815319</td>\n",
       "      <td>144.969555</td>\n",
       "      <td>[{'label': 'display', 'lat': -37.8153194787920...</td>\n",
       "      <td>575</td>\n",
       "      <td>AU</td>\n",
       "      <td>Australia</td>\n",
       "      <td>[111 Collins Street, Melbourne VIC 3000, Austr...</td>\n",
       "      <td>111 Collins Street</td>\n",
       "      <td>3000</td>\n",
       "      <td>Melbourne</td>\n",
       "      <td>VIC</td>\n",
       "      <td>NaN</td>\n",
       "      <td>Melbourne CBD, Melbourne, VIC</td>\n",
       "      <td>529e36c4498e392add386dfa</td>\n",
       "    </tr>\n",
       "    <tr>\n",
       "      <th>8</th>\n",
       "      <td>Melbourne University Gym and Sport Center</td>\n",
       "      <td>College Gym</td>\n",
       "      <td>-37.802095</td>\n",
       "      <td>144.961875</td>\n",
       "      <td>[{'label': 'display', 'lat': -37.8020949273538...</td>\n",
       "      <td>1354</td>\n",
       "      <td>AU</td>\n",
       "      <td>Australia</td>\n",
       "      <td>[Australia]</td>\n",
       "      <td>NaN</td>\n",
       "      <td>NaN</td>\n",
       "      <td>NaN</td>\n",
       "      <td>NaN</td>\n",
       "      <td>NaN</td>\n",
       "      <td>NaN</td>\n",
       "      <td>526e2366498ee3fd8486084e</td>\n",
       "    </tr>\n",
       "    <tr>\n",
       "      <th>9</th>\n",
       "      <td>RMIT City Fitness</td>\n",
       "      <td>College Gym</td>\n",
       "      <td>-37.808370</td>\n",
       "      <td>144.963289</td>\n",
       "      <td>[{'label': 'display', 'lat': -37.8083702325557...</td>\n",
       "      <td>651</td>\n",
       "      <td>AU</td>\n",
       "      <td>Australia</td>\n",
       "      <td>[360 Swanston St., Melbourne VIC 3000, Australia]</td>\n",
       "      <td>360 Swanston St.</td>\n",
       "      <td>3000</td>\n",
       "      <td>Melbourne</td>\n",
       "      <td>VIC</td>\n",
       "      <td>NaN</td>\n",
       "      <td>NaN</td>\n",
       "      <td>4c0c0bdb340720a117128993</td>\n",
       "    </tr>\n",
       "  </tbody>\n",
       "</table>\n",
       "</div>"
      ],
      "text/plain": [
       "                                                name            categories  \\\n",
       "0                                     Fitness Center  Gym / Fitness Center   \n",
       "1      FMC Melbourne - Fitness & Martial Arts Center     Martial Arts Dojo   \n",
       "2                          doubletree fitness center  Gym / Fitness Center   \n",
       "3                        Jasper Hotel Fitness Center  Gym / Fitness Center   \n",
       "4  Gym In Melbourne | Fitness Classes | Gym Bootcamp  Gym / Fitness Center   \n",
       "5                         RACV Club - Fitness Centre                   Gym   \n",
       "6                            Marriott Fitness center                   Gym   \n",
       "7                           City Club At Grand Hyatt                   Gym   \n",
       "8          Melbourne University Gym and Sport Center           College Gym   \n",
       "9                                  RMIT City Fitness           College Gym   \n",
       "\n",
       "         lat         lng                                     labeledLatLngs  \\\n",
       "0 -37.811455  144.976132  [{'label': 'display', 'lat': -37.8114552455953...   \n",
       "1 -37.814666  144.962368  [{'label': 'display', 'lat': -37.8146661522432...   \n",
       "2 -37.817762  144.965690  [{'label': 'display', 'lat': -37.817762, 'lng'...   \n",
       "3 -37.807479  144.959799  [{'label': 'display', 'lat': -37.807479, 'lng'...   \n",
       "4 -37.807460  144.966645  [{'label': 'display', 'lat': -37.8074604522283...   \n",
       "5 -37.815656  144.959660  [{'label': 'display', 'lat': -37.8156560733584...   \n",
       "6 -37.799371  144.959871  [{'label': 'display', 'lat': -37.799371, 'lng'...   \n",
       "7 -37.815319  144.969555  [{'label': 'display', 'lat': -37.8153194787920...   \n",
       "8 -37.802095  144.961875  [{'label': 'display', 'lat': -37.8020949273538...   \n",
       "9 -37.808370  144.963289  [{'label': 'display', 'lat': -37.8083702325557...   \n",
       "\n",
       "   distance  cc    country                                   formattedAddress  \\\n",
       "0      1181  AU  Australia                                        [Australia]   \n",
       "1        85  AU  Australia    [446 Collins St, Melbourne VIC 3000, Australia]   \n",
       "2       452  AU  Australia  [270 Flinders Street, Melbourne VIC 3000, Aust...   \n",
       "3       806  AU  Australia  [489 Elizabeth Street (Therry), Melbourne VIC ...   \n",
       "4       812  AU  Australia                      [Mackenzie Street, Australia]   \n",
       "5       347  AU  Australia  [501 Bourke St (New Chancery Ln), Melbourne VI...   \n",
       "6      1677  AU  Australia                         [Residence Inn, Australia]   \n",
       "7       575  AU  Australia  [111 Collins Street, Melbourne VIC 3000, Austr...   \n",
       "8      1354  AU  Australia                                        [Australia]   \n",
       "9       651  AU  Australia  [360 Swanston St., Melbourne VIC 3000, Australia]   \n",
       "\n",
       "                address postalCode       city state       crossStreet  \\\n",
       "0                   NaN        NaN        NaN   NaN               NaN   \n",
       "1        446 Collins St       3000  Melbourne   VIC               NaN   \n",
       "2   270 Flinders Street       3000  Melbourne   VIC               NaN   \n",
       "3  489 Elizabeth Street       3000  Melbourne   VIC            Therry   \n",
       "4                   NaN        NaN        NaN   NaN  Mackenzie Street   \n",
       "5         501 Bourke St       3000  Melbourne   VIC   New Chancery Ln   \n",
       "6         Residence Inn        NaN        NaN   NaN               NaN   \n",
       "7    111 Collins Street       3000  Melbourne   VIC               NaN   \n",
       "8                   NaN        NaN        NaN   NaN               NaN   \n",
       "9      360 Swanston St.       3000  Melbourne   VIC               NaN   \n",
       "\n",
       "                    neighborhood                        id  \n",
       "0                            NaN  51152834e4b0b800aa983a2d  \n",
       "1                            NaN  5d145d6cb55cb80023dd36c7  \n",
       "2                            NaN  5ceaef76f1936e002c896b55  \n",
       "3                            NaN  5e3df8b23bf82d000731d6fe  \n",
       "4                            NaN  59a5347d4a1cc05dc1abd154  \n",
       "5                            NaN  4b0d92f1f964a520554b23e3  \n",
       "6                            NaN  4f9b081be4b0873b66757d86  \n",
       "7  Melbourne CBD, Melbourne, VIC  529e36c4498e392add386dfa  \n",
       "8                            NaN  526e2366498ee3fd8486084e  \n",
       "9                            NaN  4c0c0bdb340720a117128993  "
      ]
     },
     "execution_count": 84,
     "metadata": {},
     "output_type": "execute_result"
    }
   ],
   "source": [
    "# keep only columns that include venue name, and anything that is associated with location\n",
    "filtered_columns = ['name', 'categories'] + [col for col in df.columns if col.startswith('location.')] + ['id']\n",
    "dataframe_filtered = df.loc[:, filtered_columns]\n",
    "\n",
    "# function that extracts the category of the venue\n",
    "def get_category_type(row):\n",
    "    try:\n",
    "        categories_list = row['categories']\n",
    "    except:\n",
    "        categories_list = row['venue.categories']\n",
    "        \n",
    "    if len(categories_list) == 0:\n",
    "        return None\n",
    "    else:\n",
    "        return categories_list[0]['name']\n",
    "\n",
    "# filter the category for each row\n",
    "dataframe_filtered['categories'] = dataframe_filtered.apply(get_category_type, axis=1)\n",
    "\n",
    "# clean column names by keeping only last term\n",
    "dataframe_filtered.columns = [column.split('.')[-1] for column in dataframe_filtered.columns]\n",
    "\n",
    "dataframe_filtered"
   ]
  },
  {
   "cell_type": "code",
   "execution_count": 113,
   "metadata": {
    "scrolled": false
   },
   "outputs": [
    {
     "data": {
      "text/plain": [
       "0                                       Fitness Center\n",
       "1        FMC Melbourne - Fitness & Martial Arts Center\n",
       "2                            doubletree fitness center\n",
       "3                          Jasper Hotel Fitness Center\n",
       "4    Gym In Melbourne | Fitness Classes | Gym Bootcamp\n",
       "5                           RACV Club - Fitness Centre\n",
       "6                              Marriott Fitness center\n",
       "7                             City Club At Grand Hyatt\n",
       "8            Melbourne University Gym and Sport Center\n",
       "9                                    RMIT City Fitness\n",
       "Name: name, dtype: object"
      ]
     },
     "execution_count": 113,
     "metadata": {},
     "output_type": "execute_result"
    }
   ],
   "source": [
    "dataframe_filtered.name"
   ]
  },
  {
   "cell_type": "markdown",
   "metadata": {},
   "source": [
    "Add a map of the gyms in **Melbourne CBD** the area with the **highest COVID-19 cases** in Victoria"
   ]
  },
  {
   "cell_type": "code",
   "execution_count": 94,
   "metadata": {},
   "outputs": [
    {
     "data": {
      "text/html": [
       "<div style=\"width:100%;\"><div style=\"position:relative;width:100%;height:0;padding-bottom:60%;\"><span style=\"color:#565656\">Make this Notebook Trusted to load map: File -> Trust Notebook</span><iframe src=\"about:blank\" style=\"position:absolute;width:100%;height:100%;left:0;top:0;border:none !important;\" data-html=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 onload=\"this.contentDocument.open();this.contentDocument.write(atob(this.getAttribute('data-html')));this.contentDocument.close();\" allowfullscreen webkitallowfullscreen mozallowfullscreen></iframe></div></div>"
      ],
      "text/plain": [
       "<folium.folium.Map at 0x7fda61c77f90>"
      ]
     },
     "execution_count": 94,
     "metadata": {},
     "output_type": "execute_result"
    }
   ],
   "source": [
    "gym_map = folium.Map(location=[latitude, longitude], zoom_start=14) # generate map centred around the Melbourne CBD\n",
    "\n",
    "# add a red circle marker to represent Melbourne CBD\n",
    "folium.CircleMarker(\n",
    "    [latitude, longitude],\n",
    "    radius=10,\n",
    "    color='red',\n",
    "    popup='Melbourne CBD',\n",
    "    fill = True,\n",
    "    fill_color = 'red',\n",
    "    fill_opacity = 0.6\n",
    ").add_to(gym_map)\n",
    "\n",
    "# add the gyms as blue circle markers\n",
    "for lat, lng, label in zip(dataframe_filtered.lat, dataframe_filtered.lng, dataframe_filtered.categories):\n",
    "    folium.CircleMarker(\n",
    "        [lat, lng],\n",
    "        radius=5,\n",
    "        color='blue',\n",
    "        popup=label,\n",
    "        fill = True,\n",
    "        fill_color='blue',\n",
    "        fill_opacity=0.6\n",
    "    ).add_to(gym_map)\n",
    "\n",
    "# display map\n",
    "gym_map"
   ]
  },
  {
   "cell_type": "markdown",
   "metadata": {},
   "source": [
    "Let's expore a specific gym and see what information we can discover"
   ]
  },
  {
   "cell_type": "markdown",
   "metadata": {},
   "source": [
    "<h4>Doubletree fitness center<h4>"
   ]
  },
  {
   "cell_type": "code",
   "execution_count": 134,
   "metadata": {},
   "outputs": [
    {
     "data": {
      "text/plain": [
       "'https://api.foursquare.com/v2/venues/5d145d6cb55cb80023dd36c7?client_id=Z01G5UOR0Q1WVBHYJXF0AX2FLJENVLGZ2WQSV0VDPDJ0SLJR&client_secret=EMIJH3XPNGDDDV2ZZEUT5G2VYFFYTA4NOJJPX05J1X5CYPNQ&v=20180604'"
      ]
     },
     "execution_count": 134,
     "metadata": {},
     "output_type": "execute_result"
    }
   ],
   "source": [
    "gym_id = '5d145d6cb55cb80023dd36c7' # Doubletree ID\n",
    "url = 'https://api.foursquare.com/v2/venues/{}?client_id={}&client_secret={}&v={}'.format(gym_id, CLIENT_ID, CLIENT_SECRET, VERSION)\n",
    "url"
   ]
  },
  {
   "cell_type": "code",
   "execution_count": 135,
   "metadata": {},
   "outputs": [
    {
     "name": "stdout",
     "output_type": "stream",
     "text": [
      "dict_keys(['id', 'name', 'contact', 'location', 'canonicalUrl', 'categories', 'verified', 'stats', 'likes', 'dislike', 'ok', 'allowMenuUrlEdit', 'beenHere', 'specials', 'photos', 'reasons', 'hereNow', 'createdAt', 'tips', 'shortUrl', 'timeZone', 'listed', 'seasonalHours', 'pageUpdates', 'inbox', 'attributes'])\n"
     ]
    },
    {
     "data": {
      "text/plain": [
       "{'id': '5d145d6cb55cb80023dd36c7',\n",
       " 'name': 'FMC Melbourne - Fitness & Martial Arts Center',\n",
       " 'contact': {'phone': '+61390159502', 'formattedPhone': '+61 3 9015 9502'},\n",
       " 'location': {'address': '446 Collins St',\n",
       "  'lat': -37.814666152243205,\n",
       "  'lng': 144.9623680114746,\n",
       "  'labeledLatLngs': [{'label': 'display',\n",
       "    'lat': -37.814666152243205,\n",
       "    'lng': 144.9623680114746}],\n",
       "  'postalCode': '3000',\n",
       "  'cc': 'AU',\n",
       "  'city': 'Melbourne',\n",
       "  'state': 'VIC',\n",
       "  'country': 'Australia',\n",
       "  'formattedAddress': ['446 Collins St', 'Melbourne VIC 3000', 'Australia']},\n",
       " 'canonicalUrl': 'https://foursquare.com/v/fmc-melbourne--fitness--martial-arts-center/5d145d6cb55cb80023dd36c7',\n",
       " 'categories': [{'id': '4bf58dd8d48988d101941735',\n",
       "   'name': 'Martial Arts Dojo',\n",
       "   'pluralName': 'Martial Arts Dojos',\n",
       "   'shortName': 'Martial Arts',\n",
       "   'icon': {'prefix': 'https://ss3.4sqi.net/img/categories_v2/shops/gym_martialarts_',\n",
       "    'suffix': '.png'},\n",
       "   'primary': True}],\n",
       " 'verified': False,\n",
       " 'stats': {'tipCount': 0},\n",
       " 'likes': {'count': 0, 'groups': []},\n",
       " 'dislike': False,\n",
       " 'ok': False,\n",
       " 'allowMenuUrlEdit': True,\n",
       " 'beenHere': {'count': 0,\n",
       "  'unconfirmedCount': 0,\n",
       "  'marked': False,\n",
       "  'lastCheckinExpiredAt': 0},\n",
       " 'specials': {'count': 0, 'items': []},\n",
       " 'photos': {'count': 0, 'groups': []},\n",
       " 'reasons': {'count': 0, 'items': []},\n",
       " 'hereNow': {'count': 0, 'summary': 'Nobody here', 'groups': []},\n",
       " 'createdAt': 1561615724,\n",
       " 'tips': {'count': 0,\n",
       "  'groups': [{'type': 'others', 'name': 'All tips', 'count': 0, 'items': []}]},\n",
       " 'shortUrl': 'https://4sq.com/2Yk4CUE',\n",
       " 'timeZone': 'Australia/Melbourne',\n",
       " 'listed': {'count': 0,\n",
       "  'groups': [{'type': 'others',\n",
       "    'name': 'Lists from other people',\n",
       "    'count': 0,\n",
       "    'items': []}]},\n",
       " 'seasonalHours': [],\n",
       " 'pageUpdates': {'count': 0, 'items': []},\n",
       " 'inbox': {'count': 0, 'items': []},\n",
       " 'attributes': {'groups': []}}"
      ]
     },
     "execution_count": 135,
     "metadata": {},
     "output_type": "execute_result"
    }
   ],
   "source": [
    "result = requests.get(url).json()\n",
    "print(result['response']['venue'].keys())\n",
    "result['response']['venue']"
   ]
  },
  {
   "cell_type": "code",
   "execution_count": 137,
   "metadata": {},
   "outputs": [
    {
     "name": "stdout",
     "output_type": "stream",
     "text": [
      "This venue has not been rated yet.\n"
     ]
    }
   ],
   "source": [
    "try:\n",
    "    print(result['response']['venue']['rating'])\n",
    "except:\n",
    "    print('This venue has not been rated yet.')"
   ]
  },
  {
   "cell_type": "markdown",
   "metadata": {},
   "source": [
    "Let's explore for a gym in another location"
   ]
  },
  {
   "cell_type": "code",
   "execution_count": 4,
   "metadata": {},
   "outputs": [
    {
     "data": {
      "text/plain": [
       "'https://api.foursquare.com/v2/venues/51152834e4b0b800aa983a2d?client_id=Z01G5UOR0Q1WVBHYJXF0AX2FLJENVLGZ2WQSV0VDPDJ0SLJR&client_secret=EMIJH3XPNGDDDV2ZZEUT5G2VYFFYTA4NOJJPX05J1X5CYPNQ&v=20180604'"
      ]
     },
     "execution_count": 4,
     "metadata": {},
     "output_type": "execute_result"
    }
   ],
   "source": [
    "gym_id_1 = '51152834e4b0b800aa983a2d' # Grand Hyatt Gym\n",
    "url_1 = 'https://api.foursquare.com/v2/venues/{}?client_id={}&client_secret={}&v={}'.format(gym_id_1, CLIENT_ID, CLIENT_SECRET, VERSION)\n",
    "url_1"
   ]
  },
  {
   "cell_type": "code",
   "execution_count": 14,
   "metadata": {
    "scrolled": false
   },
   "outputs": [
    {
     "name": "stdout",
     "output_type": "stream",
     "text": [
      "dict_keys(['id', 'name', 'contact', 'location', 'canonicalUrl', 'categories', 'verified', 'stats', 'likes', 'dislike', 'ok', 'allowMenuUrlEdit', 'beenHere', 'specials', 'photos', 'reasons', 'hereNow', 'createdAt', 'tips', 'shortUrl', 'timeZone', 'listed', 'seasonalHours', 'pageUpdates', 'inbox', 'parent', 'hierarchy', 'attributes', 'bestPhoto', 'colors'])\n"
     ]
    },
    {
     "data": {
      "text/plain": [
       "{'venue': {'id': '51152834e4b0b800aa983a2d',\n",
       "  'name': 'Fitness Center',\n",
       "  'contact': {},\n",
       "  'location': {'lat': -37.81145524559534,\n",
       "   'lng': 144.9761321551663,\n",
       "   'labeledLatLngs': [{'label': 'display',\n",
       "     'lat': -37.81145524559534,\n",
       "     'lng': 144.9761321551663}],\n",
       "   'cc': 'AU',\n",
       "   'country': 'Australia',\n",
       "   'formattedAddress': ['Australia']},\n",
       "  'canonicalUrl': 'https://foursquare.com/v/fitness-center/51152834e4b0b800aa983a2d',\n",
       "  'categories': [{'id': '4bf58dd8d48988d175941735',\n",
       "    'name': 'Gym / Fitness Center',\n",
       "    'pluralName': 'Gyms or Fitness Centers',\n",
       "    'shortName': 'Gym / Fitness',\n",
       "    'icon': {'prefix': 'https://ss3.4sqi.net/img/categories_v2/building/gym_',\n",
       "     'suffix': '.png'},\n",
       "    'primary': True}],\n",
       "  'verified': False,\n",
       "  'stats': {'tipCount': 3},\n",
       "  'likes': {'count': 3,\n",
       "   'groups': [{'type': 'others',\n",
       "     'count': 3,\n",
       "     'items': [{'id': '40678559',\n",
       "       'firstName': 'A.Alper',\n",
       "       'lastName': 'G',\n",
       "       'photo': {'prefix': 'https://fastly.4sqi.net/img/user/',\n",
       "        'suffix': '/blank_boy.png',\n",
       "        'default': True}},\n",
       "      {'id': '4728779',\n",
       "       'firstName': 'Go Find Alice',\n",
       "       'photo': {'prefix': 'https://fastly.4sqi.net/img/user/',\n",
       "        'suffix': '/4728779_yPvmjkMt_5zbXt3hBf8RJx5F1tbziz4XCbLaZ1KM6n9h7eJYa-r-oHeDedrxFvp4OQICe8CA9.jpg'}},\n",
       "      {'id': '3031642',\n",
       "       'firstName': 'Banke',\n",
       "       'lastName': 'O',\n",
       "       'photo': {'prefix': 'https://fastly.4sqi.net/img/user/',\n",
       "        'suffix': '/3031642-K40VCX3UGOGVAFXQ.jpg'}}]}],\n",
       "   'summary': '3 Likes'},\n",
       "  'dislike': False,\n",
       "  'ok': False,\n",
       "  'allowMenuUrlEdit': True,\n",
       "  'beenHere': {'count': 0,\n",
       "   'unconfirmedCount': 0,\n",
       "   'marked': False,\n",
       "   'lastCheckinExpiredAt': 0},\n",
       "  'specials': {'count': 0, 'items': []},\n",
       "  'photos': {'count': 1,\n",
       "   'groups': [{'type': 'venue',\n",
       "     'name': 'Venue photos',\n",
       "     'count': 1,\n",
       "     'items': [{'id': '59975272f8cbd46f1c226a06',\n",
       "       'createdAt': 1503089266,\n",
       "       'prefix': 'https://fastly.4sqi.net/img/general/',\n",
       "       'suffix': '/212169387_C2-Wh9iB-a9yFzkkMFUuT3RsxV7Rna5lQWhqCNs0Bds.jpg',\n",
       "       'width': 3888,\n",
       "       'height': 2592,\n",
       "       'user': {'id': '212169387',\n",
       "        'firstName': 'pivot_photos',\n",
       "        'photo': {'prefix': 'https://fastly.4sqi.net/img/user/',\n",
       "         'suffix': '/blank_boy.png',\n",
       "         'default': True},\n",
       "        'type': 'page'},\n",
       "       'visibility': 'public'}]}]},\n",
       "  'reasons': {'count': 0, 'items': []},\n",
       "  'hereNow': {'count': 0, 'summary': 'Nobody here', 'groups': []},\n",
       "  'createdAt': 1360341044,\n",
       "  'tips': {'count': 3,\n",
       "   'groups': [{'type': 'others',\n",
       "     'name': 'All tips',\n",
       "     'count': 3,\n",
       "     'items': [{'id': '5141b1a7e4b0978507e5ce56',\n",
       "       'createdAt': 1363259815,\n",
       "       'text': \"Great facilities, has all the equipment and it's open 24 hours.\",\n",
       "       'type': 'user',\n",
       "       'canonicalUrl': 'https://foursquare.com/item/5141b1a7e4b0978507e5ce56',\n",
       "       'lang': 'en',\n",
       "       'likes': {'count': 1,\n",
       "        'groups': [{'type': 'others',\n",
       "          'count': 1,\n",
       "          'items': [{'id': '7753775',\n",
       "            'firstName': 'Rick',\n",
       "            'lastName': 'B',\n",
       "            'photo': {'prefix': 'https://fastly.4sqi.net/img/user/',\n",
       "             'suffix': '/MNWVL5ESQ5YDPDPM.jpg'}}]}],\n",
       "        'summary': '1 like'},\n",
       "       'logView': True,\n",
       "       'agreeCount': 2,\n",
       "       'disagreeCount': 0,\n",
       "       'todo': {'count': 0},\n",
       "       'user': {'id': '297143',\n",
       "        'firstName': 'Howard',\n",
       "        'lastName': 'T',\n",
       "        'photo': {'prefix': 'https://fastly.4sqi.net/img/user/',\n",
       "         'suffix': '/K5N2XS332BAEMAXY.jpg'}}}]}]},\n",
       "  'shortUrl': 'http://4sq.com/WVLTHZ',\n",
       "  'timeZone': 'Australia/Melbourne',\n",
       "  'listed': {'count': 0,\n",
       "   'groups': [{'type': 'others',\n",
       "     'name': 'Lists from other people',\n",
       "     'count': 0,\n",
       "     'items': []}]},\n",
       "  'seasonalHours': [],\n",
       "  'pageUpdates': {'count': 0, 'items': []},\n",
       "  'inbox': {'count': 0, 'items': []},\n",
       "  'parent': {'id': '4b058743f964a520748722e3',\n",
       "   'name': 'Park Hyatt Melbourne',\n",
       "   'location': {'address': '1 Parliament Square Off Parliament Pl',\n",
       "    'lat': -37.81128091380605,\n",
       "    'lng': 144.97617751157856,\n",
       "    'labeledLatLngs': [{'label': 'display',\n",
       "      'lat': -37.81128091380605,\n",
       "      'lng': 144.97617751157856}],\n",
       "    'postalCode': '3002',\n",
       "    'cc': 'AU',\n",
       "    'city': 'Melbourne',\n",
       "    'state': 'VC',\n",
       "    'country': 'Australia',\n",
       "    'formattedAddress': ['1 Parliament Square Off Parliament Pl',\n",
       "     'Melbourne VC 3002',\n",
       "     'Australia']},\n",
       "   'categories': [{'id': '4bf58dd8d48988d1fa931735',\n",
       "     'name': 'Hotel',\n",
       "     'pluralName': 'Hotels',\n",
       "     'shortName': 'Hotel',\n",
       "     'icon': {'prefix': 'https://ss3.4sqi.net/img/categories_v2/travel/hotel_',\n",
       "      'suffix': '.png'},\n",
       "     'primary': True}]},\n",
       "  'hierarchy': [{'name': 'Park Hyatt Melbourne',\n",
       "    'lang': 'en',\n",
       "    'id': '4b058743f964a520748722e3',\n",
       "    'canonicalUrl': 'https://foursquare.com/v/park-hyatt-melbourne/4b058743f964a520748722e3'}],\n",
       "  'attributes': {'groups': []},\n",
       "  'bestPhoto': {'id': '59975272f8cbd46f1c226a06',\n",
       "   'createdAt': 1503089266,\n",
       "   'prefix': 'https://fastly.4sqi.net/img/general/',\n",
       "   'suffix': '/212169387_C2-Wh9iB-a9yFzkkMFUuT3RsxV7Rna5lQWhqCNs0Bds.jpg',\n",
       "   'width': 3888,\n",
       "   'height': 2592,\n",
       "   'visibility': 'public'},\n",
       "  'colors': {'highlightColor': {'photoId': '59975272f8cbd46f1c226a06',\n",
       "    'value': -14145480},\n",
       "   'highlightTextColor': {'photoId': '59975272f8cbd46f1c226a06', 'value': -1},\n",
       "   'algoVersion': 3}}}"
      ]
     },
     "execution_count": 14,
     "metadata": {},
     "output_type": "execute_result"
    }
   ],
   "source": [
    "result_1 = requests.get(url_1).json()\n",
    "print(result_1['response']['venue'].keys())\n",
    "result_1['response']"
   ]
  },
  {
   "cell_type": "code",
   "execution_count": 15,
   "metadata": {},
   "outputs": [
    {
     "name": "stdout",
     "output_type": "stream",
     "text": [
      "This venue has not been rated yet.\n"
     ]
    }
   ],
   "source": [
    "try:\n",
    "    print(result_1['response']['venue']['rating'])\n",
    "except:\n",
    "    print('This venue has not been rated yet.')"
   ]
  },
  {
   "cell_type": "markdown",
   "metadata": {},
   "source": [
    "What a shame it appears this venue hasnt been rated either"
   ]
  },
  {
   "cell_type": "markdown",
   "metadata": {},
   "source": [
    "I will bring in some additional data from the *Aus gov website*"
   ]
  },
  {
   "cell_type": "code",
   "execution_count": null,
   "metadata": {},
   "outputs": [],
   "source": []
  },
  {
   "cell_type": "code",
   "execution_count": 22,
   "metadata": {
    "scrolled": true
   },
   "outputs": [
    {
     "data": {
      "text/html": [
       "<div>\n",
       "<style scoped>\n",
       "    .dataframe tbody tr th:only-of-type {\n",
       "        vertical-align: middle;\n",
       "    }\n",
       "\n",
       "    .dataframe tbody tr th {\n",
       "        vertical-align: top;\n",
       "    }\n",
       "\n",
       "    .dataframe thead th {\n",
       "        text-align: right;\n",
       "    }\n",
       "</style>\n",
       "<table border=\"1\" class=\"dataframe\">\n",
       "  <thead>\n",
       "    <tr style=\"text-align: right;\">\n",
       "      <th></th>\n",
       "      <th>Name</th>\n",
       "      <th>Address</th>\n",
       "      <th>Suburb</th>\n",
       "      <th>Postcode</th>\n",
       "      <th>State</th>\n",
       "      <th>Business Category</th>\n",
       "      <th>LGA</th>\n",
       "      <th>Region</th>\n",
       "    </tr>\n",
       "  </thead>\n",
       "  <tbody>\n",
       "    <tr>\n",
       "      <th>0</th>\n",
       "      <td>Action Fitness Club</td>\n",
       "      <td>63 Mortlake Road</td>\n",
       "      <td>Warrnambool</td>\n",
       "      <td>3280</td>\n",
       "      <td>VIC</td>\n",
       "      <td>Fitness centre</td>\n",
       "      <td>Warrnambool (C)</td>\n",
       "      <td>Barwon South Western Region</td>\n",
       "    </tr>\n",
       "    <tr>\n",
       "      <th>1</th>\n",
       "      <td>Active Lifestyle Specialists</td>\n",
       "      <td>374A Warrugal Road</td>\n",
       "      <td>Ashburton</td>\n",
       "      <td>3147</td>\n",
       "      <td>VIC</td>\n",
       "      <td>Fitness centre</td>\n",
       "      <td>Monash (C); Boroondara (C)</td>\n",
       "      <td>Eastern Metropolitan Region</td>\n",
       "    </tr>\n",
       "    <tr>\n",
       "      <th>2</th>\n",
       "      <td>Alexandra Community Leisure Centre</td>\n",
       "      <td>Community Centre</td>\n",
       "      <td>Alexandra</td>\n",
       "      <td>3714</td>\n",
       "      <td>VIC</td>\n",
       "      <td>Fitness centre</td>\n",
       "      <td>Murrindindi (S)</td>\n",
       "      <td>Hume Region</td>\n",
       "    </tr>\n",
       "    <tr>\n",
       "      <th>3</th>\n",
       "      <td>Ballarat YMCA</td>\n",
       "      <td>122 Armstrong Street</td>\n",
       "      <td>Ballarat South</td>\n",
       "      <td>3350</td>\n",
       "      <td>VIC</td>\n",
       "      <td>Fitness centre</td>\n",
       "      <td>Ballarat (C)</td>\n",
       "      <td>Grampians Region</td>\n",
       "    </tr>\n",
       "    <tr>\n",
       "      <th>4</th>\n",
       "      <td>Bass Coast YMCA</td>\n",
       "      <td>c/- 10 -12 Church Street</td>\n",
       "      <td>Cowes</td>\n",
       "      <td>3922</td>\n",
       "      <td>VIC</td>\n",
       "      <td>Fitness centre</td>\n",
       "      <td>Bass Coast</td>\n",
       "      <td>Gippsland</td>\n",
       "    </tr>\n",
       "  </tbody>\n",
       "</table>\n",
       "</div>"
      ],
      "text/plain": [
       "                                 Name                   Address  \\\n",
       "0                 Action Fitness Club          63 Mortlake Road   \n",
       "1        Active Lifestyle Specialists        374A Warrugal Road   \n",
       "2  Alexandra Community Leisure Centre          Community Centre   \n",
       "3                      Ballarat YMCA       122 Armstrong Street   \n",
       "4                     Bass Coast YMCA  c/- 10 -12 Church Street   \n",
       "\n",
       "           Suburb  Postcode State Business Category  \\\n",
       "0     Warrnambool      3280   VIC    Fitness centre   \n",
       "1       Ashburton      3147   VIC    Fitness centre   \n",
       "2       Alexandra      3714   VIC    Fitness centre   \n",
       "3  Ballarat South      3350   VIC    Fitness centre   \n",
       "4           Cowes      3922   VIC    Fitness centre   \n",
       "\n",
       "                          LGA                       Region  \n",
       "0             Warrnambool (C)  Barwon South Western Region  \n",
       "1  Monash (C); Boroondara (C)  Eastern Metropolitan Region  \n",
       "2             Murrindindi (S)                  Hume Region  \n",
       "3                Ballarat (C)             Grampians Region  \n",
       "4                  Bass Coast                    Gippsland  "
      ]
     },
     "execution_count": 22,
     "metadata": {},
     "output_type": "execute_result"
    }
   ],
   "source": [
    "path='http://data.gov.au/storage/f/2013-05-12T181635/tmp6iSsn4fitness-centres.csv'\n",
    "df_2 = pd.read_csv(path)\n",
    "df_2.head()"
   ]
  },
  {
   "cell_type": "code",
   "execution_count": 25,
   "metadata": {},
   "outputs": [
    {
     "ename": "NameError",
     "evalue": "name 'Nominatim' is not defined",
     "output_type": "error",
     "traceback": [
      "\u001b[0;31m---------------------------------------------------------------------------\u001b[0m",
      "\u001b[0;31mNameError\u001b[0m                                 Traceback (most recent call last)",
      "\u001b[0;32m<ipython-input-25-2dbc145ef460>\u001b[0m in \u001b[0;36m<module>\u001b[0;34m\u001b[0m\n\u001b[0;32m----> 1\u001b[0;31m \u001b[0mgeolocator\u001b[0m \u001b[0;34m=\u001b[0m \u001b[0mNominatim\u001b[0m\u001b[0;34m(\u001b[0m\u001b[0;34m)\u001b[0m\u001b[0;34m\u001b[0m\u001b[0;34m\u001b[0m\u001b[0m\n\u001b[0m",
      "\u001b[0;31mNameError\u001b[0m: name 'Nominatim' is not defined"
     ]
    }
   ],
   "source": [
    "geolocator = Nominatim()"
   ]
  },
  {
   "cell_type": "code",
   "execution_count": 23,
   "metadata": {},
   "outputs": [
    {
     "ename": "NameError",
     "evalue": "name 'geolocator' is not defined",
     "output_type": "error",
     "traceback": [
      "\u001b[0;31m---------------------------------------------------------------------------\u001b[0m",
      "\u001b[0;31mNameError\u001b[0m                                 Traceback (most recent call last)",
      "\u001b[0;32m<ipython-input-23-c8b69e859637>\u001b[0m in \u001b[0;36m<module>\u001b[0;34m\u001b[0m\n\u001b[0;32m----> 1\u001b[0;31m \u001b[0mdf_2\u001b[0m\u001b[0;34m[\u001b[0m\u001b[0;34m'LGA'\u001b[0m\u001b[0;34m]\u001b[0m \u001b[0;34m=\u001b[0m \u001b[0mdf_2\u001b[0m\u001b[0;34m[\u001b[0m\u001b[0;34m'LGA'\u001b[0m\u001b[0;34m]\u001b[0m\u001b[0;34m.\u001b[0m\u001b[0mapply\u001b[0m\u001b[0;34m(\u001b[0m\u001b[0mgeolocator\u001b[0m\u001b[0;34m.\u001b[0m\u001b[0mgeocode\u001b[0m\u001b[0;34m)\u001b[0m\u001b[0;34m.\u001b[0m\u001b[0mapply\u001b[0m\u001b[0;34m(\u001b[0m\u001b[0;32mlambda\u001b[0m \u001b[0mx\u001b[0m\u001b[0;34m:\u001b[0m \u001b[0;34m(\u001b[0m\u001b[0mx\u001b[0m\u001b[0;34m.\u001b[0m\u001b[0mlatitude\u001b[0m\u001b[0;34m,\u001b[0m \u001b[0mx\u001b[0m\u001b[0;34m.\u001b[0m\u001b[0mlongitude\u001b[0m\u001b[0;34m)\u001b[0m\u001b[0;34m)\u001b[0m\u001b[0;34m\u001b[0m\u001b[0;34m\u001b[0m\u001b[0m\n\u001b[0m",
      "\u001b[0;31mNameError\u001b[0m: name 'geolocator' is not defined"
     ]
    }
   ],
   "source": [
    "df_2['LGA'] = df_2['LGA'].apply(geolocator.geocode).apply(lambda x: (x.latitude, x.longitude))"
   ]
  },
  {
   "cell_type": "code",
   "execution_count": 128,
   "metadata": {},
   "outputs": [],
   "source": [
    "import matplotlib.pyplot as plt \n",
    "import seaborn as sns \n",
    "%matplotlib inline"
   ]
  },
  {
   "cell_type": "code",
   "execution_count": null,
   "metadata": {},
   "outputs": [],
   "source": []
  },
  {
   "cell_type": "code",
   "execution_count": null,
   "metadata": {},
   "outputs": [],
   "source": []
  },
  {
   "cell_type": "code",
   "execution_count": null,
   "metadata": {},
   "outputs": [],
   "source": []
  },
  {
   "cell_type": "code",
   "execution_count": null,
   "metadata": {},
   "outputs": [],
   "source": []
  }
 ],
 "metadata": {
  "kernelspec": {
   "display_name": "Python 3",
   "language": "python",
   "name": "python3"
  },
  "language_info": {
   "codemirror_mode": {
    "name": "ipython",
    "version": 3
   },
   "file_extension": ".py",
   "mimetype": "text/x-python",
   "name": "python",
   "nbconvert_exporter": "python",
   "pygments_lexer": "ipython3",
   "version": "3.7.6"
  }
 },
 "nbformat": 4,
 "nbformat_minor": 4
}
